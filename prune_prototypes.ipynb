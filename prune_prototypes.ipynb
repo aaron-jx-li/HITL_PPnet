{
 "cells": [
  {
   "cell_type": "code",
   "execution_count": 1,
   "id": "e15a0e97-b789-4d4b-8c42-4c1c9490042d",
   "metadata": {
    "tags": []
   },
   "outputs": [],
   "source": [
    "import os\n",
    "import shutil\n",
    "from collections import Counter\n",
    "import numpy as np\n",
    "import torch\n",
    "\n",
    "from helpers import makedir\n",
    "import find_nearest\n",
    "import torchvision.transforms as transforms\n",
    "import torchvision.datasets as datasets\n",
    "from preprocess import mean, std, preprocess_input_function\n",
    "from settings import train_dir, test_dir, train_push_dir, train_batch_size, test_batch_size, train_push_batch_size\n",
    "from settings import base_architecture, img_size, prototype_shape, num_classes, prototype_activation_function, add_on_layers_type\n",
    "import train_and_test as tnt"
   ]
  },
  {
   "cell_type": "code",
   "execution_count": 3,
   "id": "c93606c8-7eb8-4b4e-b931-fb41684e8fae",
   "metadata": {
    "tags": []
   },
   "outputs": [],
   "source": [
    "def prune_prototypes(dataloader,\n",
    "                     prototype_network_parallel,\n",
    "                     nearest_train_patch_class_ids,\n",
    "                     k,\n",
    "                     prune_threshold,\n",
    "                     preprocess_input_function,\n",
    "                     original_model_dir,\n",
    "                     epoch_number,\n",
    "                     #model_name=None,\n",
    "                     log=print,\n",
    "                     copy_prototype_imgs=True):\n",
    "    ### run global analysis\n",
    "    #nearest_train_patch_class_ids = \\\n",
    "    #    find_nearest.find_k_nearest_patches_to_prototypes(dataloader=dataloader,\n",
    "    #                                                      prototype_network_parallel=prototype_network_parallel,\n",
    "    #                                                      k=k,\n",
    "    #                                                      preprocess_input_function=preprocess_input_function,\n",
    "    #                                                      full_save=False,\n",
    "    #                                                      log=log)\n",
    "    \n",
    "    ### find prototypes to prune\n",
    "    original_num_prototypes = prototype_network_parallel.module.num_prototypes\n",
    "    \n",
    "    prototypes_to_prune = []\n",
    "    for j in range(prototype_network_parallel.module.num_prototypes):\n",
    "        class_j = torch.argmax(prototype_network_parallel.module.prototype_class_identity[j]).item()\n",
    "        nearest_train_patch_class_counts_j = Counter(nearest_train_patch_class_ids[j])\n",
    "        \n",
    "        # if no such element is in Counter, it will return 0\n",
    "        if nearest_train_patch_class_counts_j[class_j] < prune_threshold:\n",
    "            prototypes_to_prune.append(j)\n",
    "\n",
    "    log('k = {}, prune_threshold = {}'.format(k, prune_threshold))\n",
    "    log('{} prototypes will be pruned'.format(len(prototypes_to_prune)))\n",
    "\n",
    "    ### bookkeeping of prototypes to be pruned\n",
    "    class_of_prototypes_to_prune = \\\n",
    "        torch.argmax(\n",
    "            prototype_network_parallel.module.prototype_class_identity[prototypes_to_prune],\n",
    "            dim=1).numpy().reshape(-1, 1)\n",
    "    prototypes_to_prune_np = np.array(prototypes_to_prune).reshape(-1, 1)\n",
    "    prune_info = np.hstack((prototypes_to_prune_np, class_of_prototypes_to_prune))\n",
    "    #makedir(os.path.join(original_model_dir, 'pruned_prototypes_epoch{}_k{}_pt{}'.format(epoch_number,\n",
    "    #                                      k,\n",
    "    #                                      prune_threshold)))\n",
    "    #np.save(os.path.join(original_model_dir, 'pruned_prototypes_epoch{}_k{}_pt{}'.format(epoch_number,\n",
    "    #                                      k,\n",
    "    #                                      prune_threshold), 'prune_info.npy'),\n",
    "    #        prune_info)\n",
    "\n",
    "    ### prune prototypes\n",
    "    prototype_network_parallel.module.prune_prototypes(prototypes_to_prune)\n",
    "    return prototypes_to_prune"
   ]
  },
  {
   "cell_type": "code",
   "execution_count": 4,
   "id": "6945c214-f169-49dd-a5ae-2b8278f65b31",
   "metadata": {
    "tags": []
   },
   "outputs": [],
   "source": [
    "normalize = transforms.Normalize(mean=mean, std=std)\n",
    "\n",
    "train_dataset = datasets.ImageFolder(\n",
    "        train_push_dir,\n",
    "        transforms.Compose([\n",
    "        transforms.Resize(size=(img_size, img_size)),\n",
    "        transforms.ToTensor(),\n",
    "        normalize,\n",
    "    ]))\n",
    "\n",
    "train_loader = torch.utils.data.DataLoader(\n",
    "    train_dataset, batch_size=80, shuffle=False,\n",
    "    num_workers=1, pin_memory=False)\n",
    "\n",
    "test_dataset = datasets.ImageFolder(\n",
    "        test_dir,\n",
    "        transforms.Compose([\n",
    "            transforms.Resize(size=(img_size, img_size)),\n",
    "            transforms.ToTensor(),\n",
    "            normalize,\n",
    "        ]))\n",
    "test_loader = torch.utils.data.DataLoader(\n",
    "    test_dataset, batch_size=test_batch_size, shuffle=False,\n",
    "    num_workers=1, pin_memory=False)\n",
    "\n"
   ]
  },
  {
   "cell_type": "code",
   "execution_count": 18,
   "id": "9d424cfb-1861-49f4-b8ba-bbd346978d31",
   "metadata": {
    "tags": []
   },
   "outputs": [],
   "source": [
    "#ppnet = torch.load(r'../saved_models/vgg19/004/100_7push0.7344.pth')\n",
    "ppnet = torch.load(r'./joint_results/003/12_12push0.7411.pth')\n",
    "ppnet_multi = torch.nn.DataParallel(ppnet).cuda()"
   ]
  },
  {
   "cell_type": "code",
   "execution_count": 6,
   "id": "dc520365-d067-4f04-889b-bafaa9c81708",
   "metadata": {
    "tags": []
   },
   "outputs": [
    {
     "name": "stdout",
     "output_type": "stream",
     "text": [
      "find nearest patches\n",
      "1.0\n",
      "batch 0\n",
      "batch 1\n",
      "batch 2\n",
      "batch 3\n",
      "batch 4\n",
      "batch 5\n",
      "batch 6\n",
      "batch 7\n",
      "batch 8\n",
      "batch 9\n",
      "batch 10\n",
      "batch 11\n",
      "batch 12\n",
      "batch 13\n",
      "batch 14\n",
      "batch 15\n",
      "batch 16\n",
      "batch 17\n",
      "batch 18\n",
      "batch 19\n",
      "batch 20\n",
      "batch 21\n",
      "batch 22\n",
      "batch 23\n",
      "batch 24\n",
      "batch 25\n",
      "batch 26\n",
      "batch 27\n",
      "batch 28\n",
      "batch 29\n",
      "batch 30\n",
      "batch 31\n",
      "batch 32\n",
      "batch 33\n",
      "batch 34\n",
      "batch 35\n",
      "batch 36\n",
      "batch 37\n",
      "batch 38\n",
      "batch 39\n",
      "batch 40\n",
      "batch 41\n",
      "batch 42\n",
      "batch 43\n",
      "batch 44\n",
      "batch 45\n",
      "batch 46\n",
      "batch 47\n",
      "batch 48\n",
      "batch 49\n",
      "batch 50\n",
      "batch 51\n",
      "batch 52\n",
      "batch 53\n",
      "batch 54\n",
      "batch 55\n",
      "batch 56\n",
      "batch 57\n",
      "batch 58\n",
      "batch 59\n",
      "batch 60\n",
      "batch 61\n",
      "batch 62\n",
      "batch 63\n",
      "batch 64\n",
      "batch 65\n",
      "batch 66\n",
      "batch 67\n",
      "batch 68\n",
      "batch 69\n",
      "batch 70\n",
      "batch 71\n",
      "batch 72\n",
      "batch 73\n",
      "batch 74\n",
      "\tfind nearest patches time: \t160.27685618400574\n"
     ]
    }
   ],
   "source": [
    "nearest_train_patch_class_ids = find_nearest.find_k_nearest_patches_to_prototypes(dataloader=train_loader,\n",
    "                                                          prototype_network_parallel=ppnet_multi,\n",
    "                                                          k=10,\n",
    "                                                          preprocess_input_function=preprocess_input_function,\n",
    "                                                          full_save=False,\n",
    "                                                          log=print)"
   ]
  },
  {
   "cell_type": "code",
   "execution_count": 19,
   "id": "d59ff4df-62f9-4711-b86b-8618138197a6",
   "metadata": {
    "tags": []
   },
   "outputs": [
    {
     "name": "stdout",
     "output_type": "stream",
     "text": [
      "k = 10, prune_threshold = 1\n",
      "64 prototypes will be pruned\n"
     ]
    }
   ],
   "source": [
    "prototypes_to_prune = prune_prototypes(train_loader, ppnet_multi, nearest_train_patch_class_ids, 10, 1, preprocess_input_function, original_model_dir=None, epoch_number=100, log=print, copy_prototype_imgs=False)"
   ]
  },
  {
   "cell_type": "code",
   "execution_count": 20,
   "id": "d4ca601a-39f9-40e7-8e59-cecbe2440190",
   "metadata": {
    "tags": []
   },
   "outputs": [
    {
     "name": "stdout",
     "output_type": "stream",
     "text": [
      "[5, 6, 18, 22, 46, 58, 96, 129, 130, 133, 145, 172, 189, 190, 244, 261, 263, 269, 298, 320, 321, 332, 367, 368, 399, 404, 410, 419, 433, 451, 454, 479, 484, 514, 529, 540, 554, 567, 600, 608, 655, 671, 680, 692, 718, 765, 789, 796, 801, 804, 813, 821, 833, 856, 873, 894, 921, 935, 939, 950, 953, 954, 978, 983]\n"
     ]
    }
   ],
   "source": [
    "print(prototypes_to_prune)"
   ]
  },
  {
   "cell_type": "code",
   "execution_count": 21,
   "id": "d3587878-91ca-48e5-8123-ce49ae224209",
   "metadata": {
    "tags": []
   },
   "outputs": [
    {
     "name": "stdout",
     "output_type": "stream",
     "text": [
      "\ttest\n"
     ]
    },
    {
     "name": "stderr",
     "output_type": "stream",
     "text": [
      "58it [00:41,  1.38it/s]\n"
     ]
    },
    {
     "name": "stdout",
     "output_type": "stream",
     "text": [
      "\ttime: \t42.00515055656433\n",
      "\tcross ent: \t1.315489997637683\n",
      "\tcluster: \t0.05828927592213812\n",
      "\tseparation:\t0.06427808317901759\n",
      "\tavg separation:\t1.1304978831061\n",
      "\taccu: \t\t73.47255781843286%\n",
      "\tl1: \t\t1202.0126953125\n",
      "\tp dist pair: \t2.1344339847564697\n"
     ]
    }
   ],
   "source": [
    "acc = tnt.test(model=ppnet_multi, dataloader=test_loader, class_specific=True, log=print)"
   ]
  },
  {
   "cell_type": "code",
   "execution_count": 16,
   "id": "e98f2f93-341b-44c6-9698-3076fa7fb4d4",
   "metadata": {
    "tags": []
   },
   "outputs": [
    {
     "data": {
      "text/plain": [
       "torch.Size([846, 128, 1, 1])"
      ]
     },
     "execution_count": 16,
     "metadata": {},
     "output_type": "execute_result"
    }
   ],
   "source": [
    "ppnet_multi.module.prototype_vectors.data.shape"
   ]
  },
  {
   "cell_type": "code",
   "execution_count": 22,
   "id": "7f7b0f17-df03-4700-8834-b49f57f2026b",
   "metadata": {},
   "outputs": [],
   "source": [
    "torch.save(ppnet_multi.module, r'./A3C_results/joint_004_pruned_10_1_0.7347')"
   ]
  },
  {
   "cell_type": "code",
   "execution_count": null,
   "id": "fbcaee84-ba9c-47f4-9bee-934bcd76fcdb",
   "metadata": {},
   "outputs": [],
   "source": []
  }
 ],
 "metadata": {
  "kernelspec": {
   "display_name": "Python 3 (ipykernel)",
   "language": "python",
   "name": "python3"
  },
  "language_info": {
   "codemirror_mode": {
    "name": "ipython",
    "version": 3
   },
   "file_extension": ".py",
   "mimetype": "text/x-python",
   "name": "python",
   "nbconvert_exporter": "python",
   "pygments_lexer": "ipython3",
   "version": "3.11.0"
  }
 },
 "nbformat": 4,
 "nbformat_minor": 5
}

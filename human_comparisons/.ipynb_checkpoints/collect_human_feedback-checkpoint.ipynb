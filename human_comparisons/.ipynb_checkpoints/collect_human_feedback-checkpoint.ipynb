{
 "cells": [
  {
   "cell_type": "code",
   "execution_count": 2,
   "id": "c30240dd-6c89-4c77-b514-1025e3154c68",
   "metadata": {},
   "outputs": [],
   "source": [
    "import pandas as pd\n",
    "from matplotlib import pyplot as plt\n",
    "import skimage as sk\n",
    "import skimage.io as skio"
   ]
  },
  {
   "cell_type": "code",
   "execution_count": null,
   "id": "5a948b04-146e-4143-ac4f-683038d9e6c8",
   "metadata": {},
   "outputs": [],
   "source": [
    "fig, axes = plt.subplots(200, 5)\n",
    "for i in range(200):\n",
    "    for j in range(5):\n",
    "        im = skio.imread('../saved_models/vgg19/004/img/epoch-10/prototype-img-original_with_self_act'+str(i*5+j)+'.png')\n",
    "        im = sk.img_as_float(im)\n",
    "        axes[i][j].imshow(im)\n",
    "    "
   ]
  }
 ],
 "metadata": {
  "kernelspec": {
   "display_name": "Python 3 (ipykernel)",
   "language": "python",
   "name": "python3"
  },
  "language_info": {
   "codemirror_mode": {
    "name": "ipython",
    "version": 3
   },
   "file_extension": ".py",
   "mimetype": "text/x-python",
   "name": "python",
   "nbconvert_exporter": "python",
   "pygments_lexer": "ipython3",
   "version": "3.8.3"
  }
 },
 "nbformat": 4,
 "nbformat_minor": 5
}

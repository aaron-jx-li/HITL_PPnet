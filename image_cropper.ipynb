{
 "cells": [
  {
   "cell_type": "code",
   "execution_count": 20,
   "id": "758064f3",
   "metadata": {},
   "outputs": [],
   "source": [
    "from PIL import Image\n",
    "import matplotlib.pyplot as plt\n",
    "import os.path, sys\n",
    "import os"
   ]
  },
  {
   "cell_type": "code",
   "execution_count": 10,
   "id": "551903f3",
   "metadata": {},
   "outputs": [],
   "source": [
    "old_path = '/Users/macbook/Desktop/Research/Berkeley Yu Group/Datasets/CUB_200_2011/images'\n",
    "new_path = '/Users/macbook/Desktop/Research/Berkeley Yu Group/Datasets/CUB_200_2011_cropped/images/'\n",
    "old_dirs = os.listdir(new_path)"
   ]
  },
  {
   "cell_type": "code",
   "execution_count": 13,
   "id": "244f9816",
   "metadata": {},
   "outputs": [
    {
     "name": "stdout",
     "output_type": "stream",
     "text": [
      "11788\n"
     ]
    }
   ],
   "source": [
    "image_dict = {}\n",
    "with open(\"/Users/macbook/Desktop/Research/Berkeley Yu Group/Datasets/CUB_200_2011/images.txt\") as file:\n",
    "    for line in file:\n",
    "        (image_id, loc) = line.split()\n",
    "        image_dict[image_id] = loc\n",
    "#print(len(image_dict))        "
   ]
  },
  {
   "cell_type": "code",
   "execution_count": 17,
   "id": "96ee8194",
   "metadata": {},
   "outputs": [],
   "source": [
    "with open(\"/Users/macbook/Desktop/Research/Berkeley Yu Group/Datasets/CUB_200_2011/bounding_boxes.txt\") as file:\n",
    "    for line in file:\n",
    "        (image_id, x, y, width, height) = line.split()\n",
    "        im = Image.open(new_path + image_dict[image_id])\n",
    "        im_cropped = im.crop((int(float(x)), int(float(y)), int(float(x))+int(float(width)), int(float(y))+int(float(height))))\n",
    "        im_cropped.save(new_path + image_dict[image_id])"
   ]
  },
  {
   "cell_type": "code",
   "execution_count": 28,
   "id": "b300c0e8",
   "metadata": {},
   "outputs": [],
   "source": [
    "train_dir = \"/Users/macbook/Desktop/Research/Berkeley Yu Group/Datasets/CUB_200_2011_cropped/train_cropped/\"\n",
    "test_dir = \"/Users/macbook/Desktop/Research/Berkeley Yu Group/Datasets/CUB_200_2011_cropped/test_cropped/\"\n",
    "#with open(\"/Users/macbook/Desktop/Research/Berkeley Yu Group/Datasets/CUB_200_2011/train_test_split.txt\") as file:\n",
    "#    for line in file:\n",
    "#        (image_id, is_train) = line.split()\n",
    "#        if int(is_train) == 0:\n",
    "#            os.remove(train_dir + image_dict[image_id])\n",
    "#        elif int(is_train) == 1:\n",
    "#            os.remove(test_dir + image_dict[image_id])\n",
    "            "
   ]
  },
  {
   "cell_type": "code",
   "execution_count": null,
   "id": "8dee8432",
   "metadata": {},
   "outputs": [],
   "source": []
  }
 ],
 "metadata": {
  "kernelspec": {
   "display_name": "Python 3 (ipykernel)",
   "language": "python",
   "name": "python3"
  },
  "language_info": {
   "codemirror_mode": {
    "name": "ipython",
    "version": 3
   },
   "file_extension": ".py",
   "mimetype": "text/x-python",
   "name": "python",
   "nbconvert_exporter": "python",
   "pygments_lexer": "ipython3",
   "version": "3.9.7"
  }
 },
 "nbformat": 4,
 "nbformat_minor": 5
}

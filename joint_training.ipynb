{
 "cells": [
  {
   "cell_type": "code",
   "execution_count": 1,
   "id": "11c90d99-9867-4fea-b7c0-2407dd0afd44",
   "metadata": {},
   "outputs": [],
   "source": [
    "import os\n",
    "import shutil\n",
    "\n",
    "import torch\n",
    "import torch.utils.data\n",
    "import pandas as pd\n",
    "# import torch.utils.data.distributed\n",
    "import torchvision.transforms as transforms\n",
    "import torchvision.datasets as datasets\n",
    "\n",
    "import argparse\n",
    "import re\n",
    "\n",
    "from helpers import makedir\n",
    "import model\n",
    "import push\n",
    "import prune\n",
    "import train_and_test as tnt\n",
    "import save\n",
    "from log import create_logger\n",
    "from preprocess import mean, std, preprocess_input_function\n",
    "\n",
    "from bounding_box_metrics import bounding_box_overlap\n",
    "from find_nearest import find_k_nearest_patches_to_prototypes\n",
    "from settings import coefs\n",
    "from settings import num_train_epochs, num_warm_epochs, push_start, push_epochs, push_saved_epochs"
   ]
  },
  {
   "cell_type": "code",
   "execution_count": 14,
   "id": "1f0a32a5-4dfb-4cf4-bf27-5d0e26b7267d",
   "metadata": {},
   "outputs": [],
   "source": [
    "from settings import train_dir, test_dir, train_push_dir, \\\n",
    "                     train_batch_size, test_batch_size, train_push_batch_size\n",
    "from settings import base_architecture, img_size, prototype_shape, num_classes, \\\n",
    "                     prototype_activation_function, add_on_layers_type, experiment_run\n",
    "\n",
    "normalize = transforms.Normalize(mean=mean,\n",
    "                                 std=std)\n",
    "train_dataset = datasets.ImageFolder(\n",
    "        train_dir,\n",
    "        transforms.Compose([\n",
    "        transforms.Resize(size=(img_size, img_size)),\n",
    "        transforms.ToTensor(),\n",
    "        normalize,\n",
    "]))\n",
    "\n",
    "train_loader = torch.utils.data.DataLoader(\n",
    "    train_dataset, batch_size=train_batch_size, shuffle=True,\n",
    "    num_workers=2, pin_memory=False)\n",
    "\n",
    "# push set\n",
    "train_push_dataset = datasets.ImageFolder(\n",
    "    train_push_dir,\n",
    "    transforms.Compose([\n",
    "        transforms.Resize(size=(img_size, img_size)),\n",
    "        transforms.ToTensor(),\n",
    "]))\n",
    "\n",
    "train_push_loader = torch.utils.data.DataLoader(\n",
    "    train_push_dataset, batch_size=train_push_batch_size, shuffle=False,\n",
    "    num_workers=2, pin_memory=False)\n",
    "\n",
    "# test set\n",
    "test_dataset = datasets.ImageFolder(\n",
    "    test_dir,\n",
    "    transforms.Compose([\n",
    "        transforms.Resize(size=(img_size, img_size)),\n",
    "        transforms.ToTensor(),\n",
    "        normalize,\n",
    "]))\n",
    "\n",
    "test_loader = torch.utils.data.DataLoader(\n",
    "    test_dataset, batch_size=test_batch_size, shuffle=False,\n",
    "    num_workers=2, pin_memory=False)"
   ]
  },
  {
   "cell_type": "code",
   "execution_count": 20,
   "id": "39b9a1e8-2260-45a3-8b07-9d22ac4a0a8a",
   "metadata": {},
   "outputs": [],
   "source": [
    "ppnet = torch.load(r'./A3C_results/005_ppnet.pth')\n",
    "ppnet_multi = ppnet.cuda()\n",
    "#ppnet = torch.nn.DataParallel(ppnet)\n",
    "class_specific = True"
   ]
  },
  {
   "cell_type": "code",
   "execution_count": 21,
   "id": "4a54b5b8-0446-45e2-9395-f741587ab44d",
   "metadata": {},
   "outputs": [],
   "source": [
    "from settings import joint_optimizer_lrs, joint_lr_step_size\n",
    "joint_optimizer_specs = \\\n",
    "[{'params': ppnet.module.features.parameters(), 'lr': joint_optimizer_lrs['features'], 'weight_decay': 1e-3}, # bias are now also being regularized\n",
    " {'params': ppnet.module.add_on_layers.parameters(), 'lr': joint_optimizer_lrs['add_on_layers'], 'weight_decay': 1e-3},\n",
    " {'params': ppnet.module.prototype_vectors, 'lr': joint_optimizer_lrs['prototype_vectors']},\n",
    "]\n",
    "joint_optimizer = torch.optim.Adam(joint_optimizer_specs)\n",
    "joint_lr_scheduler = torch.optim.lr_scheduler.StepLR(joint_optimizer, step_size=joint_lr_step_size, gamma=0.1)"
   ]
  },
  {
   "cell_type": "code",
   "execution_count": 22,
   "id": "34bb08ab-6316-4ae0-b396-a770655ed6c4",
   "metadata": {},
   "outputs": [],
   "source": [
    "model_dir = './joint_results/001/'\n",
    "makedir(model_dir)\n",
    "log, logclose = create_logger(log_filename=os.path.join(model_dir, 'train.log'))"
   ]
  },
  {
   "cell_type": "code",
   "execution_count": 27,
   "id": "da167739-7b3f-4a4b-8965-eeeed7eeb1ab",
   "metadata": {},
   "outputs": [
    {
     "name": "stdout",
     "output_type": "stream",
     "text": [
      "epoch: \t10\n",
      "\tjoint\n",
      "\ttrain\n"
     ]
    },
    {
     "name": "stderr",
     "output_type": "stream",
     "text": [
      "2248it [13:02,  2.87it/s]\n"
     ]
    },
    {
     "name": "stdout",
     "output_type": "stream",
     "text": [
      "\ttime: \t782.7445023059845\n",
      "\tcross ent: \t0.00116299423359295\n",
      "\tcluster: \t0.007484521454587924\n",
      "\tseparation:\t0.24203524141973448\n",
      "\tavg separation:\t1.4643946545085873\n",
      "\taccu: \t\t99.99721944166389%\n",
      "\tl1: \t\t1273.353515625\n",
      "\tp dist pair: \t2.5812838077545166\n"
     ]
    },
    {
     "ename": "NameError",
     "evalue": "name 'prototype_img_filename_prefix' is not defined",
     "output_type": "error",
     "traceback": [
      "\u001b[0;31m---------------------------------------------------------------------------\u001b[0m",
      "\u001b[0;31mNameError\u001b[0m                                 Traceback (most recent call last)",
      "Cell \u001b[0;32mIn[27], line 26\u001b[0m\n\u001b[1;32m     15\u001b[0m \u001b[38;5;28;01mif\u001b[39;00m epoch \u001b[38;5;241m>\u001b[39m\u001b[38;5;241m=\u001b[39m push_start \u001b[38;5;129;01mand\u001b[39;00m epoch \u001b[38;5;129;01min\u001b[39;00m push_epochs:\n\u001b[1;32m     16\u001b[0m     \u001b[38;5;66;03m# Only save the model in in push_saved_epochs\u001b[39;00m\n\u001b[1;32m     17\u001b[0m     \u001b[38;5;28;01mif\u001b[39;00m epoch \u001b[38;5;129;01min\u001b[39;00m push_saved_epochs:\n\u001b[1;32m     18\u001b[0m         bounding_box_tracker \u001b[38;5;241m=\u001b[39m push\u001b[38;5;241m.\u001b[39mpush_prototypes(\n\u001b[1;32m     19\u001b[0m             train_push_loader, \u001b[38;5;66;03m# pytorch dataloader (must be unnormalized in [0,1])\u001b[39;00m\n\u001b[1;32m     20\u001b[0m             prototype_network_parallel\u001b[38;5;241m=\u001b[39mppnet_multi, \u001b[38;5;66;03m# pytorch network with prototype_vectors\u001b[39;00m\n\u001b[1;32m     21\u001b[0m             class_specific\u001b[38;5;241m=\u001b[39mclass_specific,\n\u001b[1;32m     22\u001b[0m             preprocess_input_function\u001b[38;5;241m=\u001b[39mpreprocess_input_function, \u001b[38;5;66;03m# normalize if needed\u001b[39;00m\n\u001b[1;32m     23\u001b[0m             prototype_layer_stride\u001b[38;5;241m=\u001b[39m\u001b[38;5;241m1\u001b[39m,\n\u001b[1;32m     24\u001b[0m             root_dir_for_saving_prototypes\u001b[38;5;241m=\u001b[39m\u001b[38;5;28;01mNone\u001b[39;00m, \u001b[38;5;66;03m# if not None, prototypes will be saved here\u001b[39;00m\n\u001b[1;32m     25\u001b[0m             epoch_number\u001b[38;5;241m=\u001b[39mepoch, \u001b[38;5;66;03m# if not provided, prototypes saved previously will be overwritten\u001b[39;00m\n\u001b[0;32m---> 26\u001b[0m             prototype_img_filename_prefix\u001b[38;5;241m=\u001b[39m\u001b[43mprototype_img_filename_prefix\u001b[49m,\n\u001b[1;32m     27\u001b[0m             prototype_self_act_filename_prefix\u001b[38;5;241m=\u001b[39mprototype_self_act_filename_prefix,\n\u001b[1;32m     28\u001b[0m             proto_bound_boxes_filename_prefix\u001b[38;5;241m=\u001b[39mproto_bound_boxes_filename_prefix,\n\u001b[1;32m     29\u001b[0m             save_prototype_class_identity\u001b[38;5;241m=\u001b[39m\u001b[38;5;28;01mTrue\u001b[39;00m,\n\u001b[1;32m     30\u001b[0m             log\u001b[38;5;241m=\u001b[39mlog,\n\u001b[1;32m     31\u001b[0m             bounding_box_tracker\u001b[38;5;241m=\u001b[39mbounding_box_tracker)\n\u001b[1;32m     32\u001b[0m         accu \u001b[38;5;241m=\u001b[39m tnt\u001b[38;5;241m.\u001b[39mtest(model\u001b[38;5;241m=\u001b[39mppnet_multi, dataloader\u001b[38;5;241m=\u001b[39mtest_loader,\n\u001b[1;32m     33\u001b[0m                         class_specific\u001b[38;5;241m=\u001b[39mclass_specific, log\u001b[38;5;241m=\u001b[39mlog)\n\u001b[1;32m     34\u001b[0m         save\u001b[38;5;241m.\u001b[39msave_model_w_condition(model\u001b[38;5;241m=\u001b[39mppnet, model_dir\u001b[38;5;241m=\u001b[39mmodel_dir, model_name\u001b[38;5;241m=\u001b[39m\u001b[38;5;28mstr\u001b[39m(epoch) \u001b[38;5;241m+\u001b[39m \u001b[38;5;124m'\u001b[39m\u001b[38;5;124mpush\u001b[39m\u001b[38;5;124m'\u001b[39m, accu\u001b[38;5;241m=\u001b[39maccu,\n\u001b[1;32m     35\u001b[0m                                     target_accu\u001b[38;5;241m=\u001b[39m\u001b[38;5;241m0.70\u001b[39m, log\u001b[38;5;241m=\u001b[39mlog)\n",
      "\u001b[0;31mNameError\u001b[0m: name 'prototype_img_filename_prefix' is not defined"
     ]
    }
   ],
   "source": [
    "for epoch in range(10, 20):\n",
    "    print('epoch: \\t{0}'.format(epoch))\n",
    "\n",
    "    \n",
    "    tnt.joint(model=ppnet_multi, log=log)\n",
    "    joint_lr_scheduler.step()\n",
    "    _ = tnt.train(model=ppnet_multi, dataloader=train_loader, optimizer=joint_optimizer,\n",
    "                  class_specific=class_specific, coefs=coefs, log=log)\n",
    "\n",
    "#     accu = tnt.test(model=ppnet_multi, dataloader=test_loader,\n",
    "#                     class_specific=class_specific, log=log)\n",
    "#     save.save_model_w_condition(model=ppnet, model_dir=model_dir, model_name=str(epoch) + 'nopush', accu=accu,\n",
    "#                                 target_accu=0.70, log=log)\n",
    "\n",
    "    if epoch >= push_start and epoch in push_epochs:\n",
    "        # Only save the model in in push_saved_epochs\n",
    "        if epoch in push_saved_epochs:\n",
    "            bounding_box_tracker = push.push_prototypes(\n",
    "                train_push_loader, # pytorch dataloader (must be unnormalized in [0,1])\n",
    "                prototype_network_parallel=ppnet_multi, # pytorch network with prototype_vectors\n",
    "                class_specific=class_specific,\n",
    "                preprocess_input_function=preprocess_input_function, # normalize if needed\n",
    "                prototype_layer_stride=1,\n",
    "                root_dir_for_saving_prototypes=None, # if not None, prototypes will be saved here\n",
    "                epoch_number=epoch, # if not provided, prototypes saved previously will be overwritten\n",
    "                prototype_img_filename_prefix=prototype_img_filename_prefix,\n",
    "                prototype_self_act_filename_prefix=prototype_self_act_filename_prefix,\n",
    "                proto_bound_boxes_filename_prefix=proto_bound_boxes_filename_prefix,\n",
    "                save_prototype_class_identity=True,\n",
    "                log=log,\n",
    "                bounding_box_tracker=bounding_box_tracker)\n",
    "            accu = tnt.test(model=ppnet_multi, dataloader=test_loader,\n",
    "                            class_specific=class_specific, log=log)\n",
    "            save.save_model_w_condition(model=ppnet, model_dir=model_dir, model_name=str(epoch) + 'push', accu=accu,\n",
    "                                        target_accu=0.70, log=log)\n",
    "\n",
    "            # updated bounding_box_tracker is used  \n",
    "            #overlap = bounding_box_overlap(bounding_box_tracker, prototype_shape[0], num_classes)\n",
    "            #overlaps[\"epoch\"].append(epoch)\n",
    "            #overlaps[\"overlap\"].append(overlap)   \n",
    "\n",
    "            #pd.DataFrame(overlaps).to_csv(model_dir + \"overlap_\" + str(epoch) + \".csv\")\n",
    "\n",
    "        else:\n",
    "            bounding_box_tracker = push.push_prototypes(\n",
    "                train_push_loader, # pytorch dataloader (must be unnormalized in [0,1])\n",
    "                prototype_network_parallel=ppnet_multi, # pytorch network with prototype_vectors\n",
    "                class_specific=class_specific,\n",
    "                preprocess_input_function=preprocess_input_function, # normalize if needed\n",
    "                prototype_layer_stride=1,\n",
    "                root_dir_for_saving_prototypes=None, # if not None, prototypes will be saved here\n",
    "                epoch_number=None, # if not provided, prototypes saved previously will be overwritten\n",
    "                prototype_img_filename_prefix=\"\",\n",
    "                prototype_self_act_filename_prefix=\"\",\n",
    "                proto_bound_boxes_filename_prefix=proto_bound_boxes_filename_prefix=\"\",\n",
    "                save_prototype_class_identity=True,\n",
    "                log=log,\n",
    "                bounding_box_tracker=bounding_box_tracker)\n",
    "#             accu = tnt.test(model=ppnet_multi, dataloader=test_loader,\n",
    "#                             class_specific=class_specific, log=log)\n",
    "#             save.save_model_w_condition(model=ppnet, model_dir=model_dir, model_name=str(epoch) + 'push', accu=accu,\n",
    "#                                         target_accu=0.70, log=log)\n",
    "\n",
    "            #overlap = bounding_box_overlap(bounding_box_tracker, prototype_shape[0], num_classes)\n",
    "            #overlaps[\"epoch\"].append(epoch)\n",
    "            #overlaps[\"overlap\"].append(overlap)\n",
    "\n",
    "        if prototype_activation_function != 'linear':\n",
    "            tnt.last_only(model=ppnet_multi, log=log)\n",
    "            # Fine tune the last layers\n",
    "            for i in range(8):\n",
    "                log('iteration: \\t{0}'.format(i))\n",
    "                _ = tnt.train(model=ppnet_multi, dataloader=train_loader, optimizer=last_layer_optimizer,\n",
    "                              class_specific=class_specific, coefs=coefs, log=log)\n",
    "\n",
    "            # Save the last with the final layer fine-tuned\n",
    "            if epoch in push_saved_epochs:\n",
    "                accu = tnt.test(model=ppnet_multi, dataloader=test_loader,\n",
    "                                class_specific=class_specific, log=log)\n",
    "                print(\"Test accuracy: \", accu)\n",
    "                save.save_model_w_condition(model=ppnet, model_dir=model_dir, model_name=str(epoch) + '_' + str(i) + 'push', accu=accu,\n",
    "                                            target_accu=0.70, log=log)"
   ]
  },
  {
   "cell_type": "code",
   "execution_count": 25,
   "id": "50fc4634-f69c-4e09-ba67-9dc53e80aaaf",
   "metadata": {},
   "outputs": [],
   "source": [
    "torch.save(ppnet_multi.module, r'./joint_results/001_ppnet_72.07.pth')"
   ]
  },
  {
   "cell_type": "code",
   "execution_count": 28,
   "id": "565681a4-2d0d-4595-a98e-7e90cfeda155",
   "metadata": {},
   "outputs": [
    {
     "name": "stdout",
     "output_type": "stream",
     "text": [
      "\ttest\n"
     ]
    },
    {
     "name": "stderr",
     "output_type": "stream",
     "text": [
      "58it [00:16,  3.49it/s]\n"
     ]
    },
    {
     "name": "stdout",
     "output_type": "stream",
     "text": [
      "\ttime: \t16.795644998550415\n",
      "\tcross ent: \t1.3844326472487942\n",
      "\tcluster: \t0.14498716457907496\n",
      "\tseparation:\t0.20993644397320418\n",
      "\tavg separation:\t1.4998664485997166\n",
      "\taccu: \t\t71.50500517777012%\n",
      "\tl1: \t\t1273.353515625\n",
      "\tp dist pair: \t2.5812838077545166\n"
     ]
    }
   ],
   "source": [
    "acc = tnt.test(model=ppnet_multi, dataloader=test_loader, class_specific=True, log=print)"
   ]
  },
  {
   "cell_type": "code",
   "execution_count": null,
   "id": "4095f075-1f3c-4044-b3b7-d4c4dbd1fc44",
   "metadata": {},
   "outputs": [],
   "source": []
  }
 ],
 "metadata": {
  "kernelspec": {
   "display_name": "Python 3 (ipykernel)",
   "language": "python",
   "name": "python3"
  },
  "language_info": {
   "codemirror_mode": {
    "name": "ipython",
    "version": 3
   },
   "file_extension": ".py",
   "mimetype": "text/x-python",
   "name": "python",
   "nbconvert_exporter": "python",
   "pygments_lexer": "ipython3",
   "version": "3.11.0"
  }
 },
 "nbformat": 4,
 "nbformat_minor": 5
}

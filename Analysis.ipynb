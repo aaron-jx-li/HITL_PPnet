{
 "cells": [
  {
   "cell_type": "code",
   "execution_count": 16,
   "id": "95714fc3-3cc2-4da2-9911-9acbc460faa0",
   "metadata": {},
   "outputs": [],
   "source": [
    "import sys\n",
    "import torch  \n",
    "import numpy as np  \n",
    "import torch.nn as nn \n",
    "import torch.optim as optim\n",
    "import torch.nn.functional as F\n",
    "from torch.autograd import Variable\n",
    "import matplotlib.pyplot as plt\n",
    "import pandas as pd\n",
    "from torch.distributions.categorical import Categorical\n",
    "import math\n",
    "import os\n",
    "import torchvision.transforms as transforms\n",
    "import torchvision.datasets as datasets\n",
    "from preprocess import mean, std, preprocess_input_function\n",
    "from settings import train_dir, test_dir, train_push_dir, train_batch_size, test_batch_size, train_push_batch_size\n",
    "from settings import base_architecture, img_size, prototype_shape, num_classes, prototype_activation_function, add_on_layers_type\n",
    "from receptive_field import compute_rf_prototype\n",
    "import cv2\n",
    "#from reward_model import construct_PrefNet, paired_cross_entropy_loss, PrefNet\n",
    "from tqdm import tqdm\n",
    "from settings import joint_optimizer_lrs, joint_lr_step_size\n",
    "import skimage as sk\n",
    "import skimage.io as skio\n",
    "import train_and_test as tnt\n",
    "from torch.utils.data import Subset\n",
    "import time\n",
    "import heapq\n",
    "import model"
   ]
  },
  {
   "cell_type": "code",
   "execution_count": 17,
   "id": "72796f74-9174-418e-99c5-2abc5e60ffb8",
   "metadata": {},
   "outputs": [],
   "source": [
    "'''\n",
    "Use PPnet's forward pass as the policy network (actor network); what about the network for value function (critic network)?\n",
    "Since there are only determinant actions, this is essentially A2C...\n",
    "'''\n",
    "class A3C_PPnet(nn.Module):\n",
    "    def __init__(self, PPnet, preference_model, k=1, p=5, learning_rate=1e-4, dummy_reward=False, train_batch_size=80):\n",
    "        super(A3C_PPnet, self).__init__()\n",
    "        \n",
    "        \n",
    "        self.PPnet = PPnet.cuda()\n",
    "        self.k = k\n",
    "        self.pf_model = preference_model.cuda()\n",
    "        \n",
    "        self.PPnet_multi = self.PPnet\n",
    "        for p in self.PPnet_multi.module.features.parameters():\n",
    "            p.requires_grad = False\n",
    "        for p in self.PPnet_multi.module.add_on_layers.parameters():\n",
    "            p.requires_grad = False\n",
    "        self.PPnet_multi.module.prototype_vectors.requires_grad = True\n",
    "        for p in self.PPnet_multi.module.last_layer.parameters():\n",
    "            p.requires_grad = False\n",
    "        \n",
    "        self.train_batch_size = train_batch_size\n",
    "        self.num_epoch = 0\n",
    "        policy_optimizer_specs = [#{'params': self.PPnet.features.parameters(), 'lr': joint_optimizer_lrs['features'], 'weight_decay': 1e-3}, \n",
    "                                  #{'params': self.PPnet.add_on_layers.parameters(), 'lr': joint_optimizer_lrs['add_on_layers'], 'weight_decay': 1e-3},\n",
    "                                  #{'params': self.PPnet.prototype_vectors, 'lr': joint_optimizer_lrs['prototype_vectors']},\n",
    "                                  #{'params': self.PPnet.module.add_on_layers.parameters(), 'lr': 1e-4, 'weight_decay': 1e-5},\n",
    "                                  {'params': self.PPnet.module.prototype_vectors, 'lr': 1e-3, 'weight_decay': 1e-4}\n",
    "                                  ]\n",
    "        self.policy_optimizer = torch.optim.Adam(policy_optimizer_specs)\n",
    "        self.num_iteration = 0\n",
    "        \n",
    "        \n",
    "    def get_heatmaps(self, batch_x, labels, pid):\n",
    "        self.PPnet_multi.eval()\n",
    "        n_prototypes = self.PPnet_multi.module.num_prototypes\n",
    "        prototype_shape = self.PPnet_multi.module.prototype_shape\n",
    "        max_dist = prototype_shape[1] * prototype_shape[2] * prototype_shape[3]\n",
    "        protoL_rf_info = self.PPnet_multi.module.proto_layer_rf_info\n",
    "        \n",
    "        batch_x = batch_x.cuda()\n",
    "        protoL_input_torch, proto_dist_torch = self.PPnet_multi.module.push_forward(batch_x)\n",
    "        \n",
    "        proto_dist_ = proto_dist_torch.view(proto_dist_torch.shape[0], proto_dist_torch.shape[1], -1)\n",
    "        # proto_dist_: (batch_size, 1000, 49)\n",
    "        all_distances = torch.amin(proto_dist_, axis=-1)\n",
    "        # all_distances: (batch_size, 1000)\n",
    "        target_p = [pid]\n",
    "        #for i in range(all_distances.shape[1]):\n",
    "        #    class_i = torch.argmax(self.PPnet_multi.module.prototype_class_identity[i])\n",
    "        #    if class_i == class_identity:\n",
    "        #        target_p.append(i)\n",
    "        \n",
    "        proto_dist = torch.clone(proto_dist_torch)\n",
    "       \n",
    "        proto_dist = torch.transpose(proto_dist, 0, 1)\n",
    "        dists = all_distances[:, target_p]\n",
    "        dists = torch.transpose(dists, 0, 1)\n",
    "        \n",
    "    \n",
    "        # proto_dist: (1000, batch_size)\n",
    "        proto_dist_numpy = proto_dist.detach().cpu().numpy()\n",
    "        \n",
    "        \n",
    "        original_imgs = []\n",
    "        rescaled_patterns = []\n",
    "        \n",
    "        for j in target_p:\n",
    "            \n",
    "            original_imgs_j = []\n",
    "            rescaled_patterns_j = []\n",
    "           \n",
    "            for i in range(len(batch_x)):\n",
    "                closest_patch_indices_in_distance_map_j = list(np.unravel_index(np.argmin(proto_dist_numpy[j][i],axis=None), proto_dist_numpy[j][i].shape))\n",
    "                closest_patch_indices_in_distance_map_j = [0] + closest_patch_indices_in_distance_map_j\n",
    "                \n",
    "                closest_patch_indices_in_img = compute_rf_prototype(batch_x.size(2), closest_patch_indices_in_distance_map_j, protoL_rf_info)\n",
    "                closest_patch = \\\n",
    "                    batch_x[i, :, closest_patch_indices_in_img[1]:closest_patch_indices_in_img[2], closest_patch_indices_in_img[3]:closest_patch_indices_in_img[4]]\n",
    "                closest_patch = closest_patch.cpu().numpy()\n",
    "                closest_patch = np.transpose(closest_patch, (1, 2, 0))\n",
    "\n",
    "                original_img = batch_x[i].cpu().numpy()\n",
    "                original_img = np.transpose(original_img, (1, 2, 0))\n",
    "                \n",
    "                \n",
    "                if self.PPnet_multi.module.prototype_activation_function == 'log':\n",
    "                    act_pattern = np.log((proto_dist_numpy[j][i] + 1)/(proto_dist_numpy[j][i] + self.PPnet_multi.module.epsilon))\n",
    "                elif self.PPnet_multi.module.prototype_activation_function == 'linear':\n",
    "                    act_pattern = max_dist - proto_dist_numpy[j][i]\n",
    "                else:\n",
    "                    act_pattern = prototype_activation_function_in_numpy(proto_dist_numpy[j][i])\n",
    "\n",
    "                patch_indices = closest_patch_indices_in_img[1:5]\n",
    "                          \n",
    "                upsampled_act_pattern = cv2.resize(act_pattern, dsize=(img_size, img_size), interpolation=cv2.INTER_CUBIC)\n",
    "                rescaled_act_pattern = upsampled_act_pattern - np.amin(upsampled_act_pattern)\n",
    "                rescaled_act_pattern = rescaled_act_pattern / np.amax(rescaled_act_pattern)\n",
    "                \n",
    "                original_img = original_img - np.amin(original_img)\n",
    "                original_img = original_img / np.amax(original_img)\n",
    "                original_imgs_j.append(original_img)\n",
    "                rescaled_patterns_j.append(rescaled_act_pattern)\n",
    "                \n",
    "            \n",
    "            original_imgs.append(original_imgs_j)\n",
    "            rescaled_patterns.append(rescaled_patterns_j)\n",
    "    \n",
    "        return original_imgs, rescaled_patterns, dists\n",
    "    \n",
    "    '''\n",
    "    imgs: (1000, 1, 224, 224, 3), patterns: (1000, 1, 224, 224)\n",
    "    '''\n",
    "    def get_rewards(self, imgs, patterns):\n",
    "        \n",
    "        num_p = len(imgs)\n",
    "        assert num_p == len(patterns)\n",
    "        batch_size = len(imgs[0])\n",
    "        assert batch_size == len(patterns[0])\n",
    "        \n",
    "        with torch.no_grad():\n",
    "            rewards = torch.empty((num_p, batch_size))\n",
    "            for i in range(num_p):\n",
    "                for j in range(batch_size):\n",
    "                    img = np.array([imgs[i][j]])\n",
    "                    img = np.transpose(img, (0, 3, 1, 2))\n",
    "                    img = torch.from_numpy(img).cuda()\n",
    "                \n",
    "                    pattern = patterns[i][j]\n",
    "                    pattern = np.array([pattern, pattern, pattern])\n",
    "                    pattern = torch.from_numpy(np.array([pattern])).cuda()\n",
    "                    reward = self.pf_model(img, pattern) \n",
    "                    rewards[i][j] = reward\n",
    "                \n",
    "        return rewards\n",
    "        \n",
    "    def joint_update(self, rewards, dists):\n",
    "        #print(dists)\n",
    "        \n",
    "        assert rewards.shape[0] == len(dists)\n",
    "        assert rewards.shape[1] == len(dists[0])\n",
    "        \n",
    "        self.policy_optimizer.zero_grad()\n",
    "        loss = 0\n",
    "        for i in range(rewards.shape[0]):\n",
    "            for j in range(rewards.shape[1]):\n",
    "                if dists[i][j] > 0:\n",
    "                    loss -= (1 / (100*dists[i][j]+1)) * rewards[i][j]\n",
    "                #elif dists[i][j] == 0:\n",
    "                #    loss -= rewards[i][j]\n",
    "        \n",
    "        loss.backward()\n",
    "        self.policy_optimizer.step()\n",
    "        return \n",
    "    \n",
    "    \n",
    "    def run(self, batch_x, labels, pid, update=True):\n",
    "\n",
    "        original_imgs, rescaled_patterns, dists = self.get_heatmaps(batch_x, labels, pid)\n",
    "        rewards = self.get_rewards(original_imgs, rescaled_patterns)\n",
    "        if update:\n",
    "            loss = self.joint_update(rewards, dists)\n",
    "        \n",
    "        \n",
    "        \n",
    "        return torch.mean(rewards)\n",
    "   \n",
    "    "
   ]
  },
  {
   "cell_type": "code",
   "execution_count": 18,
   "id": "a8175c67-7b24-4b46-87cb-5948a8903a5d",
   "metadata": {
    "tags": []
   },
   "outputs": [],
   "source": [
    "from resnet_features import resnet18_features, resnet34_features, resnet50_features, resnet101_features, resnet152_features\n",
    "from densenet_features import densenet121_features, densenet161_features, densenet169_features, densenet201_features\n",
    "from vgg_features import vgg11_features, vgg11_bn_features, vgg13_features, vgg13_bn_features, vgg16_features, vgg16_bn_features,\\\n",
    "                         vgg19_features, vgg19_bn_features\n",
    "from receptive_field import compute_proto_layer_rf_info_v2\n",
    "base_architecture_to_features = {'resnet18': resnet18_features,\n",
    "                                 'resnet34': resnet34_features,\n",
    "                                 'resnet50': resnet50_features,\n",
    "                                 'resnet101': resnet101_features,\n",
    "                                 'resnet152': resnet152_features,\n",
    "                                 'densenet121': densenet121_features,\n",
    "                                 'densenet161': densenet161_features,\n",
    "                                 'densenet169': densenet169_features,\n",
    "                                 'densenet201': densenet201_features,\n",
    "                                 'vgg11': vgg11_features,\n",
    "                                 'vgg11_bn': vgg11_bn_features,\n",
    "                                 'vgg13': vgg13_features,\n",
    "                                 'vgg13_bn': vgg13_bn_features,\n",
    "                                 'vgg16': vgg16_features,\n",
    "                                 'vgg16_bn': vgg16_bn_features,\n",
    "                                 'vgg19': vgg19_features,\n",
    "                                 'vgg19_bn': vgg19_bn_features}\n",
    "\n",
    "\n",
    "class PrefNet(nn.Module):\n",
    "\n",
    "    def __init__(self, img_features, pattern_features, img_size, prototype_shape,\n",
    "                 proto_layer_rf_info, num_classes, init_weights=False,\n",
    "                 prototype_activation_function='log',\n",
    "                 add_on_layers_type='bottleneck', \n",
    "                k = 1):\n",
    "\n",
    "        super(PrefNet, self).__init__()\n",
    "        self.img_size = img_size\n",
    "        self.prototype_shape = prototype_shape\n",
    "        self.num_prototypes = prototype_shape[0]\n",
    "        self.num_classes = num_classes\n",
    "        self.epsilon = 1e-4\n",
    "        self.k = k\n",
    "        \n",
    "        # this has to be named features to allow the precise loading\n",
    "        self.img_features = img_features\n",
    "        self.pattern_features = pattern_features\n",
    "        \n",
    "                \n",
    "#         self.prototype_vectors = nn.Parameter(torch.rand(self.prototype_shape),\n",
    "#                                               requires_grad=True)\n",
    "\n",
    "#         # do not make this just a tensor,\n",
    "#         # since it will not be moved automatically to gpu\n",
    "#         self.ones = nn.Parameter(torch.ones(self.prototype_shape),\n",
    "#                                  requires_grad=False)\n",
    "\n",
    "#         self.last_layer = nn.Linear(self.num_prototypes, self.num_classes,\n",
    "#                                     bias=False) # do not use bias\n",
    "    \n",
    "\n",
    "        self.img_conv = nn.Sequential(\n",
    "            nn.Conv2d(in_channels=2048, out_channels=512, kernel_size=5),\n",
    "            nn.ReLU(),\n",
    "            nn.Conv2d(in_channels=512, out_channels=128, kernel_size=3),\n",
    "            nn.Sigmoid()\n",
    "            )\n",
    "        \n",
    "        self.pattern_conv = nn.Sequential(\n",
    "            nn.Conv2d(in_channels=2048, out_channels=512, kernel_size=5),\n",
    "            nn.ReLU(),\n",
    "            nn.Conv2d(in_channels=512, out_channels=128, kernel_size=3),\n",
    "            nn.Sigmoid()\n",
    "            )\n",
    "        \n",
    "        self.final_fc = nn.Sequential(\n",
    "            nn.Linear(256, 32),\n",
    "            nn.ReLU(),\n",
    "            nn.Sigmoid(),\n",
    "            nn.Linear(32, 1),\n",
    "            nn.Sigmoid()\n",
    "        \n",
    "            )\n",
    "        \n",
    "        #self.fc1 = nn.Linear(6400, 512)\n",
    "        #self.fc2 = nn.Linear(512, 32)\n",
    "        #self.fc3 = nn.Linear(32, 1)\n",
    "        #self.fc1 = nn.Linear(64, 16)\n",
    "        \n",
    "\n",
    "        if init_weights:\n",
    "            self._initialize_weights()\n",
    "            \n",
    "            \n",
    "    def conv_features(self, x):\n",
    "        '''\n",
    "        the feature input to prototype layer\n",
    "        '''\n",
    "        # Insert k and then img size\n",
    "        x = self.features(x)\n",
    "        #print(\"base features: \", x.shape)\n",
    "        #x = self.add_on_layers(x)\n",
    "        return x\n",
    "    \n",
    "    def forward(self, x, p):\n",
    "        # (N, 512, 7, 7)\n",
    "        #x = self.conv_features(x)\n",
    "        x = self.img_features(x)\n",
    "        #x = self.add_on_layers(x)\n",
    "        x = self.img_conv(x)\n",
    "        #print(\"conv out:\", x.shape)\n",
    "        p = self.pattern_features(p)\n",
    "        #p = self.conv_features(p)\n",
    "        #p = self.add_on_layers(p)\n",
    "        p = self.pattern_conv(p)\n",
    "        \n",
    "        out = torch.cat((x, p), dim=1)\n",
    "        #print(\"cat out shape: \", out.shape)\n",
    "        out = torch.flatten(out, 1) \n",
    "        #print(\"flatten out shape: \", out.shape)\n",
    "        \n",
    "        out = self.final_fc(out)\n",
    "        #out = torch.sigmoid(self.fc1(out))\n",
    "        #out = torch.sigmoid(self.fc2(out))\n",
    "        #out = self.fc3(out)\n",
    "        return out\n",
    "\n",
    "    \n",
    "    def _initialize_weights(self):\n",
    "        for m in self.img_conv.modules():\n",
    "            if isinstance(m, nn.Conv2d):\n",
    "                # every init technique has an underscore _ in the name\n",
    "                nn.init.kaiming_normal_(m.weight, mode='fan_out', nonlinearity='relu')\n",
    "\n",
    "                if m.bias is not None:\n",
    "                    nn.init.constant_(m.bias, 0)\n",
    "\n",
    "            elif isinstance(m, nn.BatchNorm2d):\n",
    "                nn.init.constant_(m.weight, 1)\n",
    "                nn.init.constant_(m.bias, 0)\n",
    "                \n",
    "        for m in self.pattern_conv.modules():\n",
    "            if isinstance(m, nn.Conv2d):\n",
    "                # every init technique has an underscore _ in the name\n",
    "                nn.init.kaiming_normal_(m.weight, mode='fan_out', nonlinearity='relu')\n",
    "\n",
    "                if m.bias is not None:\n",
    "                    nn.init.constant_(m.bias, 0)\n",
    "\n",
    "            elif isinstance(m, nn.BatchNorm2d):\n",
    "                nn.init.constant_(m.weight, 1)\n",
    "                nn.init.constant_(m.bias, 0)\n",
    "\n",
    "\n",
    "\n",
    "\n",
    "            \n",
    "def construct_PrefNet(base_architecture, pretrained=True, img_size=224,\n",
    "                    prototype_shape=(1000, 128, 1, 1), num_classes=200,\n",
    "                    prototype_activation_function='log',\n",
    "                    add_on_layers_type='bottleneck',\n",
    "                    k = 1):\n",
    "    img_features = base_architecture_to_features[base_architecture](pretrained=pretrained)\n",
    "    pattern_features = base_architecture_to_features[base_architecture](pretrained=pretrained)\n",
    "    layer_filter_sizes, layer_strides, layer_paddings = img_features.conv_info()\n",
    "    proto_layer_rf_info = compute_proto_layer_rf_info_v2(img_size=img_size,\n",
    "                                                         layer_filter_sizes=layer_filter_sizes,\n",
    "                                                         layer_strides=layer_strides,\n",
    "                                                         layer_paddings=layer_paddings,\n",
    "                                                         prototype_kernel_size=prototype_shape[2])\n",
    "    return PrefNet(img_features=img_features,\n",
    "                   pattern_features=pattern_features,\n",
    "                 img_size=img_size,\n",
    "                 prototype_shape=prototype_shape,\n",
    "                 proto_layer_rf_info=proto_layer_rf_info,\n",
    "                 num_classes=num_classes,\n",
    "                 init_weights=True,\n",
    "                 prototype_activation_function=prototype_activation_function,\n",
    "                 add_on_layers_type=add_on_layers_type,\n",
    "                 k = k)\n",
    "\n",
    "\n",
    "def paired_cross_entropy_loss(out1, out2, targets):\n",
    "    \n",
    "    total_loss = 0\n",
    "    for i in range(len(targets)):\n",
    "        \n",
    "        if targets[i] == -1:\n",
    "            p1 = torch.exp(out1[i])/(torch.exp(out1[i]) + torch.exp(out2[i]))\n",
    "            loss = - torch.log(p1)\n",
    "        elif targets[i] == 1:\n",
    "            p2 = torch.exp(out2[i])/(torch.exp(out1[i]) + torch.exp(out2[i]))\n",
    "            loss = - torch.log(p2)\n",
    "\n",
    "        else:\n",
    "            p1 = torch.exp(out1[i])/(torch.exp(out1[i]) + torch.exp(out2[i]))\n",
    "            p2 = torch.exp(out2[i])/(torch.exp(out1[i]) + torch.exp(out2[i]))\n",
    "            loss = - (0.5*torch.log(p1) + 0.5*torch.log(p2))\n",
    "            \n",
    "        total_loss += loss\n",
    "    return total_loss\n"
   ]
  },
  {
   "cell_type": "code",
   "execution_count": 19,
   "id": "f91a5493-4a55-4bef-bc31-0720d6d7f1c9",
   "metadata": {},
   "outputs": [],
   "source": [
    "#ppnet = torch.load(r'../saved_models/vgg19/004/100_7push0.7344.pth')\n",
    "ppnet = torch.load(r'./A3C_results/joint_resnet34_005.pth')\n",
    "ppnet = torch.nn.DataParallel(ppnet)\n",
    "pf_model = torch.load('./human_comparisons/pref_model_700_random_rating_split0.7_acc0.915.pth')"
   ]
  },
  {
   "cell_type": "code",
   "execution_count": 20,
   "id": "e466d6d1-e6b3-4ac7-93df-98be13a66d7e",
   "metadata": {},
   "outputs": [],
   "source": [
    "normalize = transforms.Normalize(mean=mean, std=std)\n",
    "\n",
    "train_dataset = datasets.ImageFolder(\n",
    "        train_push_dir,\n",
    "        transforms.Compose([\n",
    "        transforms.Resize(size=(img_size, img_size)),\n",
    "        transforms.ToTensor(),\n",
    "        normalize,\n",
    "    ]))\n",
    "\n",
    "train_loader = torch.utils.data.DataLoader(\n",
    "    train_dataset, batch_size=80, shuffle=False,\n",
    "    num_workers=2, pin_memory=False)\n",
    "\n",
    "test_dataset = datasets.ImageFolder(\n",
    "        test_dir,\n",
    "        transforms.Compose([\n",
    "            transforms.Resize(size=(img_size, img_size)),\n",
    "            transforms.ToTensor(),\n",
    "            normalize,\n",
    "        ]))\n",
    "\n",
    "test_loader = torch.utils.data.DataLoader(\n",
    "    test_dataset, batch_size=test_batch_size, shuffle=False,\n",
    "    num_workers=2, pin_memory=False)\n",
    "\n",
    "\n",
    "#shuffled_dataset = Subset(train_dataset, shuffled_indices)"
   ]
  },
  {
   "cell_type": "code",
   "execution_count": 21,
   "id": "dff99dca-24da-45a1-8232-6bb8161b01ba",
   "metadata": {},
   "outputs": [],
   "source": [
    "def evaluate_avg_rewards(a3c):\n",
    "    rewards = []\n",
    "    for p_idx in tqdm(range(2000)):\n",
    "        if p_idx % 10 == 0:\n",
    "            class_idx = p_idx // 10\n",
    "            class_imgs = [x for x, y in enumerate(test_dataset.targets) if y == class_idx]\n",
    "            class_dataset = Subset(test_dataset, class_imgs)\n",
    "            dataloader = torch.utils.data.DataLoader(class_dataset, batch_size=32, shuffle=False, num_workers=2, pin_memory=False)\n",
    "            batch, label = next(iter(dataloader))\n",
    "        with torch.no_grad():\n",
    "            best_reward = a3c.run(batch, label, p_idx, update=False)\n",
    "        rewards.append(best_reward)\n",
    "    return rewards"
   ]
  },
  {
   "cell_type": "code",
   "execution_count": 22,
   "id": "b58a0a6d-8a8b-4e31-9c19-d4cc55b83229",
   "metadata": {},
   "outputs": [
    {
     "name": "stderr",
     "output_type": "stream",
     "text": [
      "100%|██████████| 2000/2000 [15:27<00:00,  2.16it/s]\n"
     ]
    }
   ],
   "source": [
    "a3c = A3C_PPnet(ppnet, pf_model)\n",
    "rewards = evaluate_avg_rewards(a3c)"
   ]
  },
  {
   "cell_type": "code",
   "execution_count": 23,
   "id": "d9325062-0e14-4fd1-a94f-b1e30ec6ac16",
   "metadata": {
    "tags": []
   },
   "outputs": [
    {
     "data": {
      "text/plain": [
       "0.57091695"
      ]
     },
     "execution_count": 23,
     "metadata": {},
     "output_type": "execute_result"
    }
   ],
   "source": [
    "np.mean(np.array(rewards))"
   ]
  },
  {
   "cell_type": "code",
   "execution_count": 25,
   "id": "8b6d57d8-204e-434f-8f72-6d0a0d646149",
   "metadata": {
    "tags": []
   },
   "outputs": [],
   "source": [
    "np.save('./figures/prototype_rewards_reselect_resnet_test', rewards)"
   ]
  },
  {
   "cell_type": "code",
   "execution_count": 31,
   "id": "4d2b3aac-6a9c-420d-a8b9-677834b74f83",
   "metadata": {
    "tags": []
   },
   "outputs": [
    {
     "data": {
      "image/png": "[encoded data removed]",
      "text/plain": [
       "<Figure size 640x480 with 1 Axes>"
      ]
     },
     "metadata": {},
     "output_type": "display_data"
    }
   ],
   "source": [
    "rewards_new = np.load('./figures/prototype_rewards_joint_vgg_10_test.npy')\n",
    "plt.hist(rewards_new, np.linspace(0, 1, num=11), color = \"black\", ec=\"white\")\n",
    "plt.ylim([0, 450])\n",
    "plt.savefig('./figures/test_reward_hist_vgg_10_joint.pdf', format='pdf', bbox_inches='tight')"
   ]
  },
  {
   "cell_type": "code",
   "execution_count": 39,
   "id": "eac5f83d-7d93-4ebc-9a21-adc80de0cff5",
   "metadata": {
    "tags": []
   },
   "outputs": [
    {
     "data": {
      "image/png": "[encoded data removed]",
      "text/plain": [
       "<Figure size 640x480 with 1 Axes>"
      ]
     },
     "metadata": {},
     "output_type": "display_data"
    }
   ],
   "source": [
    "rewards_old = np.load('./figures/prototype_rewards_ppnet_vgg_5_0.7344.npy')\n",
    "plt.hist(rewards_old, np.linspace(0, 1, num=11), color = \"black\", ec=\"white\")\n",
    "#plt.savefig('./figures/reward_hist_vgg_5_ppnet.png', bbox_inches='tight')"
   ]
  },
  {
   "cell_type": "code",
   "execution_count": null,
   "id": "4718ab2d-2a61-43e1-b11e-ef40c378a64b",
   "metadata": {},
   "outputs": [],
   "source": []
  },
  {
   "cell_type": "code",
   "execution_count": null,
   "id": "1611deaa-f505-450b-b5bd-40d63b9485b4",
   "metadata": {},
   "outputs": [],
   "source": []
  },
  {
   "cell_type": "code",
   "execution_count": 13,
   "id": "ef2a4162-3544-4698-9177-dac31fd20b8d",
   "metadata": {
    "tags": []
   },
   "outputs": [
    {
     "data": {
      "text/plain": [
       "0.67571527"
      ]
     },
     "execution_count": 13,
     "metadata": {},
     "output_type": "execute_result"
    }
   ],
   "source": [
    "np.mean(np.array(rewards))"
   ]
  },
  {
   "cell_type": "code",
   "execution_count": 12,
   "id": "9536cf4b-e51a-4682-9fdc-0c6af25779e7",
   "metadata": {
    "tags": []
   },
   "outputs": [
    {
     "data": {
      "text/plain": [
       "0.68316084"
      ]
     },
     "execution_count": 12,
     "metadata": {},
     "output_type": "execute_result"
    }
   ],
   "source": [
    "rewards_1 = np.load('./figures/prototype_rewards_joint_vgg_5_0.7411.npy')\n",
    "np.mean(rewards_1)"
   ]
  },
  {
   "cell_type": "code",
   "execution_count": 21,
   "id": "4b771fe2-4c67-4d26-b087-52a70d813942",
   "metadata": {
    "tags": []
   },
   "outputs": [
    {
     "data": {
      "text/plain": [
       "0.68316084"
      ]
     },
     "execution_count": 21,
     "metadata": {},
     "output_type": "execute_result"
    }
   ],
   "source": [
    "rewards_1_updated = np.load('./figures/prototype_rewards_joint_vgg_5_0.7411.npy')\n",
    "np.mean(rewards_1_updated)"
   ]
  },
  {
   "cell_type": "code",
   "execution_count": 6,
   "id": "ee550343-e81b-4e29-b1d5-c05d1bc6e7b5",
   "metadata": {},
   "outputs": [
    {
     "name": "stdout",
     "output_type": "stream",
     "text": [
      "\ttest\n"
     ]
    },
    {
     "name": "stderr",
     "output_type": "stream",
     "text": [
      "58it [00:24,  2.40it/s]\n"
     ]
    },
    {
     "name": "stdout",
     "output_type": "stream",
     "text": [
      "\ttime: \t24.293993949890137\n",
      "\tcross ent: \t1.5754019689971004\n",
      "\tcluster: \t0.04503387235233496\n",
      "\tseparation:\t0.03591254013108796\n",
      "\tavg separation:\t1.035600067212664\n",
      "\taccu: \t\t70.31411805315844%\n",
      "\tl1: \t\t1273.353515625\n",
      "\tp dist pair: \t2.1466312408447266\n"
     ]
    }
   ],
   "source": [
    "\n",
    "ppnet = torch.load(r'./A3C_results/joint_003_reselect_1000.pth')\n",
    "ppnet_multi = torch.nn.DataParallel(ppnet)\n",
    "acc = tnt.test(model=ppnet_multi, dataloader=test_loader, class_specific=True, log=print)"
   ]
  },
  {
   "cell_type": "code",
   "execution_count": null,
   "id": "1ea27188-7668-4f96-b236-1d9254a09d18",
   "metadata": {},
   "outputs": [],
   "source": []
  },
  {
   "cell_type": "code",
   "execution_count": null,
   "id": "782f2c26-fdba-4306-8b71-0e463fd54812",
   "metadata": {},
   "outputs": [],
   "source": []
  }
 ],
 "metadata": {
  "kernelspec": {
   "display_name": "Python 3 (ipykernel)",
   "language": "python",
   "name": "python3"
  },
  "language_info": {
   "codemirror_mode": {
    "name": "ipython",
    "version": 3
   },
   "file_extension": ".py",
   "mimetype": "text/x-python",
   "name": "python",
   "nbconvert_exporter": "python",
   "pygments_lexer": "ipython3",
   "version": "3.11.0"
  }
 },
 "nbformat": 4,
 "nbformat_minor": 5
}

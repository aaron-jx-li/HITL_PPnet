{
 "cells": [
  {
   "cell_type": "code",
   "execution_count": 26,
   "id": "b2a852f2-8c10-4b18-80dc-f27623df614b",
   "metadata": {},
   "outputs": [],
   "source": [
    "import sys\n",
    "import torch  \n",
    "import numpy as np  \n",
    "import torch.nn as nn \n",
    "import torch.optim as optim\n",
    "import torch.nn.functional as F\n",
    "from torch.autograd import Variable\n",
    "import matplotlib.pyplot as plt\n",
    "import pandas as pd\n",
    "from torch.distributions.categorical import Categorical\n",
    "import math\n",
    "import os\n",
    "import torchvision.transforms as transforms\n",
    "import torchvision.datasets as datasets\n",
    "from preprocess import mean, std, preprocess_input_function\n",
    "from settings import train_dir, test_dir, train_push_dir, train_batch_size, test_batch_size, train_push_batch_size\n",
    "from settings import base_architecture, img_size, prototype_shape, num_classes, prototype_activation_function, add_on_layers_type\n",
    "from receptive_field import compute_rf_prototype\n",
    "import cv2\n",
    "from reward_model import construct_PrefNet, paired_cross_entropy_loss, PrefNet\n",
    "from tqdm import tqdm\n",
    "from settings import joint_optimizer_lrs, joint_lr_step_size\n",
    "import skimage as sk\n",
    "import skimage.io as skio\n",
    "import train_and_test as tnt\n",
    "from torch.utils.data import Subset\n",
    "import time\n",
    "import heapq"
   ]
  },
  {
   "cell_type": "code",
   "execution_count": 56,
   "id": "8e9a1391-363b-40f3-a829-5d7abf77fc8e",
   "metadata": {},
   "outputs": [],
   "source": [
    "'''\n",
    "Use PPnet's forward pass as the policy network (actor network); what about the network for value function (critic network)?\n",
    "Since there are only determinant actions, this is essentially A2C...\n",
    "'''\n",
    "class A3C_PPnet(nn.Module):\n",
    "    def __init__(self, PPnet, preference_model, k=1, p=5, learning_rate=1e-7, dummy_reward=False, train_batch_size=80):\n",
    "        super(A3C_PPnet, self).__init__()\n",
    "        \n",
    "        \n",
    "        self.PPnet = PPnet.cuda()\n",
    "        self.k = k\n",
    "        self.pf_model = preference_model.cuda()\n",
    "        \n",
    "        self.PPnet_multi = self.PPnet\n",
    "        for p in self.PPnet_multi.module.features.parameters():\n",
    "            p.requires_grad = False\n",
    "        for p in self.PPnet_multi.module.add_on_layers.parameters():\n",
    "            p.requires_grad = True\n",
    "        self.PPnet_multi.module.prototype_vectors.requires_grad = True\n",
    "        for p in self.PPnet_multi.module.last_layer.parameters():\n",
    "            p.requires_grad = False\n",
    "        \n",
    "        #self.critic_model = self.construct_critic().cuda()\n",
    "        self.p = p\n",
    "        self.critic_model = Critic().cuda()\n",
    "        for p in self.critic_model.parameters():\n",
    "            p.requires_grad = True\n",
    "        self.train_batch_size = train_batch_size\n",
    "        self.num_epoch = 0\n",
    "        policy_optimizer_specs = [#{'params': self.PPnet.features.parameters(), 'lr': joint_optimizer_lrs['features'], 'weight_decay': 1e-3}, \n",
    "                                  #{'params': self.PPnet.add_on_layers.parameters(), 'lr': joint_optimizer_lrs['add_on_layers'], 'weight_decay': 1e-3},\n",
    "                                  #{'params': self.PPnet.prototype_vectors, 'lr': joint_optimizer_lrs['prototype_vectors']},\n",
    "                                  #{'params': self.PPnet.add_on_layers.parameters(), 'lr': 1e-6, 'weight_decay': 0},\n",
    "                                  {'params': self.PPnet.module.prototype_vectors, 'lr': 1e-5, 'weight_decay': 1e-3}\n",
    "            \n",
    "                                  ]\n",
    "        self.policy_optimizer = torch.optim.Adam(policy_optimizer_specs)\n",
    "        #self.policy_optimizer = torch.optim.Adam(self.PPnet.features.parameters())\n",
    "        self.critic_optimizer = torch.optim.Adam(self.critic_model.parameters(), lr=1e-4)\n",
    "        self.num_iteration = 0\n",
    "        self.p_avg = torch.zeros(1000)\n",
    "        self.p_count = torch.zeros(1000)\n",
    "        \n",
    "    def get_heatmaps(self, batch_x, labels, dummy=False, track=False, save_prototypes=[], save_epochs=[]):\n",
    "        self.PPnet_multi.eval()\n",
    "        n_prototypes = self.PPnet_multi.module.num_prototypes\n",
    "        prototype_shape = self.PPnet_multi.module.prototype_shape\n",
    "        max_dist = prototype_shape[1] * prototype_shape[2] * prototype_shape[3]\n",
    "        protoL_rf_info = self.PPnet_multi.module.proto_layer_rf_info\n",
    "        \n",
    "        batch_x = batch_x.cuda()\n",
    "        protoL_input_torch, proto_dist_torch = self.PPnet_multi.module.push_forward(batch_x)\n",
    "        \n",
    "        proto_dist_ = proto_dist_torch.view(proto_dist_torch.shape[0], proto_dist_torch.shape[1], -1)\n",
    "        distances = torch.amin(proto_dist_, axis=-1)\n",
    "       \n",
    "        actions, p_idx = self.sample_from_distances(distances, labels, track=track)\n",
    "        #print(\"p_idx: \", p_idx)\n",
    "        proto_dist = torch.clone(proto_dist_torch)\n",
    "       \n",
    "        proto_dist = torch.transpose(proto_dist, 0, 1)\n",
    "        proto_dist = proto_dist.detach().cpu().numpy()\n",
    "        \n",
    "        joint_log_probs = []\n",
    "        original_imgs = []\n",
    "        rescaled_patterns = []\n",
    "        \n",
    "        for action in actions:\n",
    "            img_idx, probs, j, class_identity = action[0], action[1], action[2], action[3]\n",
    "            \n",
    "            original_imgs_j = []\n",
    "            rescaled_patterns_j = []\n",
    "           \n",
    "            for i in img_idx:\n",
    "                \n",
    "                closest_patch_indices_in_distance_map_j = list(np.unravel_index(np.argmin(proto_dist[j][i],axis=None), proto_dist[j][i].shape))\n",
    "                closest_patch_indices_in_distance_map_j = [0] + closest_patch_indices_in_distance_map_j\n",
    "                \n",
    "                closest_patch_indices_in_img = compute_rf_prototype(batch_x.size(2), closest_patch_indices_in_distance_map_j, protoL_rf_info)\n",
    "                closest_patch = \\\n",
    "                    batch_x[i, :, closest_patch_indices_in_img[1]:closest_patch_indices_in_img[2], closest_patch_indices_in_img[3]:closest_patch_indices_in_img[4]]\n",
    "                closest_patch = closest_patch.cpu().numpy()\n",
    "                closest_patch = np.transpose(closest_patch, (1, 2, 0))\n",
    "\n",
    "                original_img = batch_x[i].cpu().numpy()\n",
    "                original_img = np.transpose(original_img, (1, 2, 0))\n",
    "                \n",
    "                \n",
    "                if self.PPnet_multi.module.prototype_activation_function == 'log':\n",
    "                    act_pattern = np.log((proto_dist[j][i] + 1)/(proto_dist[j][i] + self.PPnet_multi.module.epsilon))\n",
    "                elif self.PPnet_multi.module.prototype_activation_function == 'linear':\n",
    "                    act_pattern = max_dist - proto_dist[j][i]\n",
    "                else:\n",
    "                    act_pattern = prototype_activation_function_in_numpy(proto_dist[j][i])\n",
    "\n",
    "                patch_indices = closest_patch_indices_in_img[1:5]\n",
    "                          \n",
    "                upsampled_act_pattern = cv2.resize(act_pattern, dsize=(img_size, img_size), interpolation=cv2.INTER_CUBIC)\n",
    "                rescaled_act_pattern = upsampled_act_pattern - np.amin(upsampled_act_pattern)\n",
    "                rescaled_act_pattern = rescaled_act_pattern / np.amax(rescaled_act_pattern)\n",
    "                \n",
    "                original_img = original_img - np.amin(original_img)\n",
    "                original_img = original_img / np.amax(original_img)\n",
    "                original_imgs_j.append(original_img)\n",
    "                rescaled_patterns_j.append(rescaled_act_pattern)\n",
    "                \n",
    "                \n",
    "            joint_log_prob = torch.prod(probs) * math.factorial(self.k)\n",
    "            original_imgs.append(original_imgs_j)\n",
    "            rescaled_patterns.append(rescaled_patterns_j)\n",
    "\n",
    "            joint_log_probs.append(joint_log_prob)\n",
    "    \n",
    "        return original_imgs, rescaled_patterns, joint_log_probs, distances, p_idx\n",
    "    \n",
    "    def sample_from_distances(self, distances, labels, track_iters=[], track=False):\n",
    "        '''\n",
    "        Takes in distances of shape (80, 1000)\n",
    "        returns actions of shape (1000, ), one for each prototype\n",
    "        '''\n",
    "        \n",
    "        distances = torch.clip(distances, min=1e-7, max=None)\n",
    "        similarities = 1 / distances\n",
    "        #print(similarities)\n",
    "        softmax_dist = F.log_softmax(similarities, dim=0)\n",
    "        softmax_dist = torch.transpose(softmax_dist, 0, 1)\n",
    "        # Maybe using combinatorics?\n",
    "        actions = []\n",
    "        p_idx = []\n",
    "        # For each of the 1000 prototypes...\n",
    "        for i in range(softmax_dist.shape[0]):\n",
    "            class_identity = torch.argmax(self.PPnet_multi.module.prototype_class_identity[i])\n",
    "\n",
    "            class_dist = softmax_dist[i][labels==class_identity]\n",
    "            if len(class_dist) > self.k:\n",
    "                dist = Categorical(class_dist)\n",
    "                img_idx = dist.sample(sample_shape=torch.tensor([self.k]))\n",
    "                probs = dist.log_prob(img_idx)\n",
    "                probs = torch.exp(probs)\n",
    "                actions.append([img_idx, probs, i, class_identity])\n",
    "                p_idx.append(i)\n",
    "        return actions, p_idx\n",
    "    \n",
    "\n",
    "    def get_critic_inputs(self, imgs, patterns, dummy=False):\n",
    "        critic_inputs = []\n",
    "        for i in range(len(imgs)):\n",
    "            #x = np.concatenate(heatmaps[i], axis=1)\n",
    "            #print(x.shape)\n",
    "            x = imgs[i]\n",
    "            \n",
    "            x = np.transpose(x, (0, 3, 1, 2))\n",
    "            x = torch.tensor(x).cuda()\n",
    "            \n",
    "            p = patterns[i][0]\n",
    "            p = np.array([p, p, p])\n",
    "            p = torch.from_numpy(np.array([p])).cuda()\n",
    "            with torch.no_grad():\n",
    "                x = self.pf_model.conv_features(x)\n",
    "                p = self.pf_model.conv_features(p)\n",
    "            \n",
    "            critic_inputs.append((x, p))\n",
    "       \n",
    "        return critic_inputs\n",
    "        \n",
    "    def critic(self, critic_inputs):\n",
    "        values = torch.zeros(len(critic_inputs))\n",
    "        for i in range(len(critic_inputs)):\n",
    "            value = self.critic_model(critic_inputs[i][0], critic_inputs[i][1])\n",
    "            values[i] = value\n",
    "        return values\n",
    "    \n",
    "    '''\n",
    "    imgs: (1000, 1, 224, 224, 3), patterns: (1000, 1, 224, 224)\n",
    "    '''\n",
    "    def get_rewards(self, imgs, patterns, dummy=False):\n",
    "        \n",
    "        with torch.no_grad():\n",
    "            rewards = torch.empty(len(imgs))\n",
    "            for i in range(len(imgs)):\n",
    "                \n",
    "                img = np.array(imgs[i])\n",
    "                img = np.transpose(img, (0, 3, 1, 2))\n",
    "                img = torch.from_numpy(img).cuda()\n",
    "                \n",
    "                pattern = patterns[i][0]\n",
    "                pattern = np.array([pattern, pattern, pattern])\n",
    "                pattern = torch.from_numpy(np.array([pattern])).cuda()\n",
    "                reward = self.pf_model(img, pattern) \n",
    "                rewards[i] = reward + 15\n",
    "                \n",
    "        return rewards\n",
    "        \n",
    "    def update_v1(self, rewards, values, probs, p_idx):\n",
    "        assert len(p_idx) == len(rewards)\n",
    "        self.policy_optimizer.zero_grad()\n",
    "        policy_loss = 0\n",
    "        '''\n",
    "        Customized A2C\n",
    "        '''\n",
    "        for i in range(len(rewards)):\n",
    "            policy_loss -= probs[i] * (rewards[i] - values[i])    \n",
    "        policy_loss.backward(retain_graph=True)\n",
    "        self.policy_optimizer.step()\n",
    "        for i in range(len(rewards)):\n",
    "            pid = p_idx[i]\n",
    "            self.p_avg[pid] = (self.p_avg[pid] * self.p_count[pid] + rewards[i]) / (self.p_count[pid]+1)\n",
    "            self.p_count[pid] += 1\n",
    "        #print(\"avg: \", self.p_avg)\n",
    "        #print(\"count: \", self.p_count)\n",
    "        #self.critic_optimizer.zero_grad()\n",
    "        #critic_loss = 0\n",
    "        #for i in range(len(rewards)):\n",
    "        #    critic_loss += (rewards[i] - values[i]) ** 2\n",
    "        \n",
    "        #critic_loss.backward()\n",
    "        #self.critic_optimizer.step()\n",
    "        \n",
    "        return \n",
    "    \n",
    "    \n",
    "    def run(self, batch_x, labels, save_prototypes=[], save_epochs=[], track=False):\n",
    "\n",
    "        # action is n_prototypes * k heatmaps\n",
    "        original_imgs, rescaled_patterns, probs, img_distances, p_idx = self.get_heatmaps(batch_x, labels, track=track)\n",
    "        \n",
    "        #critic_inputs = self.get_critic_inputs(original_imgs, rescaled_patterns)\n",
    "        #values = self.critic(critic_inputs)\n",
    "        values = self.p_avg\n",
    "        '''\n",
    "        A simple running average as the critic outputs\n",
    "        '''\n",
    "        \n",
    "        rewards = self.get_rewards(original_imgs, rescaled_patterns)\n",
    "        \n",
    "        self.update_v1(rewards, values, probs, p_idx)\n",
    "        \n",
    "        self.num_iteration += 1\n",
    "        if self.num_iteration == 75:\n",
    "            self.num_iteration = 0\n",
    "            self.num_epoch += 1\n",
    "        \n",
    "        return rewards, values, probs\n",
    "    '''\n",
    "    \n",
    "    def run_dummy(self, batch_x, labels, save_prototypes=[], save_epochs=[], track=False):\n",
    "        heatmaps, probs, img_distances, rewards  = self.get_heatmaps(batch_x, labels, dummy=True, track=track, save_prototypes=save_prototypes, save_epochs=save_epochs)\n",
    "        \n",
    "        critic_inputs = self.get_critic_inputs(heatmaps)\n",
    "        values = self.critic_model(critic_inputs)\n",
    "        #values = []\n",
    "        self.update_v1(rewards, values, probs)\n",
    "        #if len(save_prototypes) > 0 and self.num_iteration in save_iters:\n",
    "        #    for p in save_prototypes:\n",
    "        #        \n",
    "        #        for k in range(len(heatmaps[p])):\n",
    "        #            plt.imsave(r'./A3C_results/epoch_'+str(self.num_epoch)+'_prototype_'+str(p)+'_best_'+str(k+1)+'_dummy.jpg', heatmaps[p][k])\n",
    "            \n",
    "        self.num_iteration += 1\n",
    "        if self.num_iteration == 75:\n",
    "            self.num_iteration = 0\n",
    "            self.num_epoch += 1\n",
    "        \n",
    "        return rewards, values, probs, heatmaps\n",
    "    '''\n",
    "    \n",
    "    "
   ]
  },
  {
   "cell_type": "code",
   "execution_count": 57,
   "id": "3e467d59-2dc1-4663-a5bf-f96810f470c7",
   "metadata": {},
   "outputs": [],
   "source": [
    "class Critic(nn.Module):\n",
    "    def __init__(self, k=3, learning_rate=3e-4):\n",
    "        super(Critic, self).__init__()\n",
    "        \n",
    "        '''\n",
    "        self.critic_linear1 = nn.Linear(num_inputs, hidden_size)\n",
    "        self.critic_linear2 = nn.Linear(hidden_size, 1)\n",
    "\n",
    "        self.actor_linear1 = nn.Linear(num_inputs, hidden_size)\n",
    "        self.actor_linear2 = nn.Linear(hidden_size, num_actions)\n",
    "        '''\n",
    "        \n",
    "        self.img_conv = nn.Sequential(\n",
    "            nn.Conv2d(in_channels=512, out_channels=128, kernel_size=1),\n",
    "            nn.ReLU(),\n",
    "            nn.Conv2d(in_channels=128, out_channels=128, kernel_size=3),\n",
    "            nn.Sigmoid()\n",
    "            )\n",
    "        \n",
    "        self.pattern_conv = nn.Sequential(\n",
    "            nn.Conv2d(in_channels=512, out_channels=128, kernel_size=1),\n",
    "            nn.ReLU(),\n",
    "            nn.Conv2d(in_channels=128, out_channels=128, kernel_size=3),\n",
    "            nn.Sigmoid()\n",
    "            )\n",
    "        \n",
    "        self.fc1 = nn.Linear(6400, 512)\n",
    "        self.fc2 = nn.Linear(512, 32)\n",
    "        self.fc3 = nn.Linear(32, 1)\n",
    "    \n",
    "    def forward(self, x ,p):\n",
    "\n",
    "        x = self.img_conv(x)\n",
    "        p = self.pattern_conv(p)\n",
    "    \n",
    "        out = torch.cat((x, p), dim=1)\n",
    "        out = torch.flatten(out, 1) # flatten all dimensions except batch\n",
    "\n",
    "        out = torch.sigmoid(self.fc1(out))\n",
    "        out = torch.sigmoid(self.fc2(out))\n",
    "        out = self.fc3(out)\n",
    "\n",
    "        return out"
   ]
  },
  {
   "cell_type": "code",
   "execution_count": 58,
   "id": "bd4ed326-130d-417f-8f74-f38a26602f16",
   "metadata": {},
   "outputs": [],
   "source": [
    "def reselect_prototypes(a3c, reward_threshold, data_loader, original_imgs, patterns):\n",
    "    # get the heatmaps by searching for the closest images in the entire dataset\n",
    "    # can use different k values\n",
    "    # heatmaps: (1000, 1, 224, 224, 3)\n",
    "    # rewards: (1000,)\n",
    "    prototype_shape = a3c.PPnet_multi.module.prototype_shape\n",
    "    bad_prototype_idx = []\n",
    "    rewards = a3c.get_rewards(original_imgs, patterns)\n",
    "    for i in range(len(rewards)):\n",
    "        if rewards[i] < reward_threshold:\n",
    "            bad_prototype_idx.append(i)\n",
    "    print(\"bad prototype number: \", len(bad_prototype_idx))\n",
    "    global_max_rewards = np.zeros((200, 5))\n",
    "    global_best_patches = torch.zeros((200, 5, 128, 1, 1)).cuda()\n",
    "    \n",
    "    class_comps = np.zeros((200, 5))\n",
    "    \n",
    "    for idx, (batch_x, labels) in tqdm(enumerate(data_loader)):\n",
    "        a3c.PPnet_multi.eval()\n",
    "        n_prototypes = a3c.PPnet_multi.module.num_prototypes\n",
    "        prototype_shape = a3c.PPnet_multi.module.prototype_shape\n",
    "        max_dist = prototype_shape[1] * prototype_shape[2] * prototype_shape[3]\n",
    "        protoL_rf_info = a3c.PPnet_multi.module.proto_layer_rf_info\n",
    "        \n",
    "        batch_x = batch_x.cuda()\n",
    "        # conv_outs: (80, 128, 7, 7)\n",
    "        conv_outs = a3c.PPnet_multi.module.conv_features(batch_x)\n",
    "\n",
    "        # loop over each prototype\n",
    "        for j in bad_prototype_idx:\n",
    "            class_identity = torch.argmax(a3c.PPnet_multi.module.prototype_class_identity[j])\n",
    "            batch_idx = np.arange(batch_x.shape[0])\n",
    "            class_idx_batch = batch_idx[labels == class_identity]\n",
    "            #print(class_idx_batch)\n",
    "            class_outs = conv_outs[labels == class_identity]\n",
    "            if class_outs.shape[0] == 0:\n",
    "                continue\n",
    "            height = class_outs.shape[2]\n",
    "            width = class_outs.shape[3]\n",
    "            \n",
    "            for img_idx in range(class_outs.shape[0]):\n",
    "                img_max_reward = 0\n",
    "                img_best_patch = a3c.PPnet_multi.module.prototype_vectors.data[j]\n",
    "                for h in range(height):\n",
    "                    for w in range(width):\n",
    "                        # actually old_vec might not be necessary\n",
    "                        # old_vec = np.copy(a3c.PPnet_multi.module.prototype_vectors.data[j])\n",
    "                        patch_candidate = class_outs[img_idx, :, h:h+1, w:w+1]\n",
    "                        a3c.PPnet_multi.module.prototype_vectors.data[j] = patch_candidate\n",
    "                        #a3c.PPnet_multi.module.prototype_vectors.data.copy_(vec)\n",
    "                        # distances: (7, 7)\n",
    "                        distances = a3c.PPnet_multi.module._l2_convolution(class_outs[img_idx])[j].detach().cpu().numpy()\n",
    "                        \n",
    "                        if a3c.PPnet_multi.module.prototype_activation_function == 'log':\n",
    "                            act_pattern = np.log((distances + 1)/(distances + a3c.PPnet_multi.module.epsilon))\n",
    "                        elif a3c.PPnet_multi.module.prototype_activation_function == 'linear':\n",
    "                            act_pattern = max_dist - distances\n",
    "                        else:\n",
    "                            act_pattern = prototype_activation_function_in_numpy(distances)\n",
    "                            \n",
    "                        upsampled_act_pattern = cv2.resize(act_pattern, dsize=(img_size, img_size), interpolation=cv2.INTER_CUBIC)\n",
    "                        rescaled_act_pattern = upsampled_act_pattern - np.amin(upsampled_act_pattern)\n",
    "                        rescaled_act_pattern = rescaled_act_pattern / np.amax(rescaled_act_pattern)\n",
    "                        \n",
    "                        img = torch.unsqueeze(batch_x[class_idx_batch[img_idx]], 0)\n",
    "                        pattern = torch.tensor([rescaled_act_pattern, rescaled_act_pattern, rescaled_act_pattern])\n",
    "                        pattern = torch.unsqueeze(pattern, 0)\n",
    "                        \n",
    "                        \n",
    "                        patch_reward = a3c.pf_model(img, pattern.cuda()) + 15\n",
    "                        \n",
    "                        if patch_reward > img_max_reward:\n",
    "                            img_max_reward = patch_reward\n",
    "                            img_best_patch = patch_candidate\n",
    "                        #else:\n",
    "                        #    a3c.PPnet_multi.module.prototype_vectors.data[j] = old_vec\n",
    "                            \n",
    "                \n",
    "                min_index = int(class_comps[class_identity][-1])\n",
    "                if img_max_reward > global_max_rewards[class_identity][min_index]:\n",
    "                    global_max_rewards[class_identity][min_index] = img_max_reward\n",
    "                    global_best_patches[class_identity][min_index] = img_best_patch\n",
    "                    class_comps[class_identity] = np.flip(np.argsort(global_max_rewards[class_identity]))\n",
    "                   \n",
    "  \n",
    "    for i in bad_prototype_idx:\n",
    "        class_num = int(i // 5)\n",
    "        p_num = int(class_comps[class_num][0])\n",
    "        class_comps[class_num] = np.roll(class_comps[class_num], -1)\n",
    "        a3c.PPnet_multi.module.prototype_vectors.data[i] = global_best_patches[class_num][p_num]\n",
    "        \n",
    "    return global_max_rewards"
   ]
  },
  {
   "cell_type": "code",
   "execution_count": 59,
   "id": "08104e55-fea7-4624-ad33-56e90e83e895",
   "metadata": {},
   "outputs": [],
   "source": [
    "class ImagePatch:\n",
    "\n",
    "    def __init__(self, patch, label, distance,\n",
    "                 original_img=None, act_pattern=None, patch_indices=None):\n",
    "        self.patch = patch\n",
    "        self.label = label\n",
    "        self.negative_distance = -distance\n",
    "\n",
    "        self.original_img = original_img\n",
    "        self.act_pattern = act_pattern\n",
    "        self.patch_indices = patch_indices\n",
    "\n",
    "    def __lt__(self, other):\n",
    "        return self.negative_distance < other.negative_distance\n",
    "\n",
    "\n",
    "class ImagePatchInfo:\n",
    "\n",
    "    def __init__(self, label, distance):\n",
    "        self.label = label\n",
    "        self.negative_distance = -distance\n",
    "\n",
    "    def __lt__(self, other):\n",
    "        return self.negative_distance < other.negative_distance\n",
    "\n",
    "def find_k_nearest_patches_to_prototypes(dataloader, # pytorch dataloader (must be unnormalized in [0,1])\n",
    "                                         prototype_network_parallel, # pytorch network with prototype_vectors\n",
    "                                         k=3,\n",
    "                                         preprocess_input_function=None, # normalize if needed\n",
    "                                         full_save=False, # save all the images\n",
    "                                         root_dir_for_saving_images='./nearest',\n",
    "                                         log=print,\n",
    "                                         prototype_activation_function_in_numpy=None, heatmap_ratio = 1.0):\n",
    "    prototype_network_parallel.eval()\n",
    "    '''\n",
    "    full_save=False will only return the class identity of the closest\n",
    "    patches, but it will not save anything.\n",
    "    '''\n",
    "    log('find nearest patches')\n",
    "    start = time.time()\n",
    "    n_prototypes = prototype_network_parallel.module.num_prototypes\n",
    "    \n",
    "    prototype_shape = prototype_network_parallel.module.prototype_shape\n",
    "    max_dist = prototype_shape[1] * prototype_shape[2] * prototype_shape[3]\n",
    "\n",
    "    protoL_rf_info = prototype_network_parallel.module.proto_layer_rf_info\n",
    "\n",
    "    heaps = []\n",
    "    # allocate an array of n_prototypes number of heaps\n",
    "    for _ in range(n_prototypes):\n",
    "        # a heap in python is just a maintained list\n",
    "        heaps.append([])\n",
    "\n",
    "    for idx, (search_batch_input, search_y) in tqdm(enumerate(dataloader)):\n",
    "        #print('batch {}'.format(idx))\n",
    "        if preprocess_input_function is not None:\n",
    "            # print('preprocessing input for pushing ...')\n",
    "            # search_batch = copy.deepcopy(search_batch_input)\n",
    "            search_batch = preprocess_input_function(search_batch_input)\n",
    "\n",
    "        else:\n",
    "            search_batch = search_batch_input\n",
    "\n",
    "        with torch.no_grad():\n",
    "            search_batch = search_batch.cuda()\n",
    "            protoL_input_torch, proto_dist_torch = \\\n",
    "                prototype_network_parallel.module.push_forward(search_batch)\n",
    "\n",
    "        #protoL_input_ = np.copy(protoL_input_torch.detach().cpu().numpy())\n",
    "        proto_dist_ = np.copy(proto_dist_torch.detach().cpu().numpy())\n",
    "        \n",
    "        # proto_dist_: (80, 1000, 7, 7)\n",
    "\n",
    "        for img_idx, distance_map in enumerate(proto_dist_):\n",
    "            for j in range(n_prototypes):\n",
    "                # find the closest patches in this batch to prototype j\n",
    "\n",
    "                closest_patch_distance_to_prototype_j = np.amin(distance_map[j])\n",
    "\n",
    "\n",
    "\n",
    "                closest_patch_indices_in_distance_map_j = \\\n",
    "                    list(np.unravel_index(np.argmin(distance_map[j],axis=None),\n",
    "                                          distance_map[j].shape))\n",
    "                closest_patch_indices_in_distance_map_j = [0] + closest_patch_indices_in_distance_map_j\n",
    "                closest_patch_indices_in_img = \\\n",
    "                    compute_rf_prototype(search_batch.size(2),\n",
    "                                         closest_patch_indices_in_distance_map_j,\n",
    "                                         protoL_rf_info)\n",
    "                closest_patch = \\\n",
    "                    search_batch_input[img_idx, :,\n",
    "                                       closest_patch_indices_in_img[1]:closest_patch_indices_in_img[2],\n",
    "                                       closest_patch_indices_in_img[3]:closest_patch_indices_in_img[4]]\n",
    "                closest_patch = closest_patch.numpy()\n",
    "                closest_patch = np.transpose(closest_patch, (1, 2, 0))\n",
    "\n",
    "                original_img = search_batch_input[img_idx].numpy()\n",
    "                original_img = np.transpose(original_img, (1, 2, 0))\n",
    "\n",
    "                if prototype_network_parallel.module.prototype_activation_function == 'log':\n",
    "                    act_pattern = np.log((distance_map[j] + 1)/(distance_map[j] + prototype_network_parallel.module.epsilon))\n",
    "                elif prototype_network_parallel.module.prototype_activation_function == 'linear':\n",
    "                    act_pattern = max_dist - distance_map[j]\n",
    "                else:\n",
    "                    act_pattern = prototype_activation_function_in_numpy(distance_map[j])\n",
    "\n",
    "                # 4 numbers: height_start, height_end, width_start, width_end\n",
    "                patch_indices = closest_patch_indices_in_img[1:5]\n",
    "\n",
    "                # construct the closest patch object\n",
    "                closest_patch = ImagePatch(patch=closest_patch,\n",
    "                                           label=search_y[img_idx],\n",
    "                                           distance=closest_patch_distance_to_prototype_j,\n",
    "                                           original_img=original_img,\n",
    "                                           act_pattern=act_pattern,\n",
    "                                           patch_indices=patch_indices)\n",
    "                '''\n",
    "                else:\n",
    "                \n",
    "                closest_patch = ImagePatchInfo(label=search_y[img_idx],\n",
    "                                                   distance=closest_patch_distance_to_prototype_j)\n",
    "                '''\n",
    "\n",
    "                # add to the j-th heap \n",
    "                if len(heaps[j]) < k:\n",
    "                    heapq.heappush(heaps[j], closest_patch)\n",
    "                else:\n",
    "                    # heappushpop runs more efficiently than heappush\n",
    "                    # followed by heappop\n",
    "                    heapq.heappushpop(heaps[j], closest_patch)\n",
    "                    \n",
    "\n",
    "    # after looping through the dataset every heap will\n",
    "    # have the k closest prototypes\n",
    "    original_imgs = []\n",
    "    patterns = []\n",
    "    for j in range(n_prototypes):\n",
    "        # finally sort the heap; the heap only contains the k closest\n",
    "        # but they are not ranked yet\n",
    "        heaps[j].sort()\n",
    "        heaps[j] = heaps[j][::-1]\n",
    "\n",
    "        original_imgs_j = []\n",
    "        patterns_j = []\n",
    "        for i, patch in enumerate(heaps[j]):\n",
    "            \n",
    "            img_size = patch.original_img.shape[0]\n",
    "            upsampled_act_pattern = cv2.resize(patch.act_pattern,\n",
    "                                               dsize=(img_size, img_size),\n",
    "                                               interpolation=cv2.INTER_CUBIC)\n",
    "            rescaled_act_pattern = upsampled_act_pattern - np.amin(upsampled_act_pattern)\n",
    "            rescaled_act_pattern = rescaled_act_pattern / np.amax(rescaled_act_pattern)\n",
    "            \n",
    "            # No need for these if using dummy reward model\n",
    "            '''\n",
    "            heatmap = cv2.applyColorMap(np.uint8(255*rescaled_act_pattern), cv2.COLORMAP_JET)\n",
    "            heatmap = np.float32(heatmap) / 255\n",
    "            heatmap = heatmap[...,::-1]\n",
    "\n",
    "            overlayed_original_img = 0.5 * patch.original_img + heatmap_ratio * heatmap\n",
    "            overlayed_original_img = overlayed_original_img - np.amin(overlayed_original_img)\n",
    "            overlayed_original_img = overlayed_original_img / np.amax(overlayed_original_img)\n",
    "            '''\n",
    "            original_imgs_j.append(patch.original_img)\n",
    "            patterns_j.append(rescaled_act_pattern)\n",
    "            \n",
    "        original_imgs.append(original_imgs_j)\n",
    "        patterns.append(patterns_j)\n",
    "    end = time.time()\n",
    "    log('\\tfind nearest patches time: \\t{0}'.format(end - start))\n",
    "\n",
    "    return original_imgs, patterns"
   ]
  },
  {
   "cell_type": "code",
   "execution_count": 60,
   "id": "4c87a5e0-7d29-4017-9856-057d349f848b",
   "metadata": {},
   "outputs": [],
   "source": [
    "ppnet = torch.load(r'../saved_models/vgg19/004/100_7push0.7344.pth')\n",
    "ppnet = torch.nn.DataParallel(ppnet)\n",
    "#pf_model = construct_PrefNet(\"resnet18\")\n",
    "#pf_model.load_state_dict(torch.load(\"./human_comparisons/pref_model_009_65+35_ep50_adam_0.0001\"))\n",
    "#pf_model = torch.load(r'./human_comparisons/pref_model_009_65+35_ep50_adam_0.0001_1')\n",
    "pf_model = torch.load('./human_comparisons/pref_model_500rating_split0.7_acc0.82.pth')"
   ]
  },
  {
   "cell_type": "code",
   "execution_count": 61,
   "id": "79643ffa-07c4-4679-bfdb-8381c2298dd7",
   "metadata": {},
   "outputs": [],
   "source": [
    "normalize = transforms.Normalize(mean=mean, std=std)\n",
    "\n",
    "train_dataset = datasets.ImageFolder(\n",
    "        train_push_dir,\n",
    "        transforms.Compose([\n",
    "        transforms.Resize(size=(img_size, img_size)),\n",
    "        transforms.ToTensor(),\n",
    "        normalize,\n",
    "    ]))\n",
    "\n",
    "train_loader = torch.utils.data.DataLoader(\n",
    "    train_dataset, batch_size=80, shuffle=False,\n",
    "    num_workers=2, pin_memory=False)\n",
    "\n",
    "test_dataset = datasets.ImageFolder(\n",
    "        test_dir,\n",
    "        transforms.Compose([\n",
    "            transforms.Resize(size=(img_size, img_size)),\n",
    "            transforms.ToTensor(),\n",
    "            normalize,\n",
    "        ]))\n",
    "test_loader = torch.utils.data.DataLoader(\n",
    "    test_dataset, batch_size=test_batch_size, shuffle=False,\n",
    "    num_workers=2, pin_memory=False)"
   ]
  },
  {
   "cell_type": "code",
   "execution_count": 62,
   "id": "69754857-010e-4cb0-9a8d-339eef11dd07",
   "metadata": {},
   "outputs": [
    {
     "name": "stdout",
     "output_type": "stream",
     "text": [
      "[0, 1, 2, 3, 4, 5, 6, 7, 8, 9, 10, 11, 12, 13, 14, 15, 16, 17, 18, 19, 20, 21, 22, 23, 24, 25, 26, 27, 28, 29, 30]\n"
     ]
    }
   ],
   "source": [
    "indices = []\n",
    "\n",
    "'''\n",
    "Each batch of size 80 consists of 16 shuffled blocks\n",
    "'''\n",
    "#for i in range(200):\n",
    "#    class_i = [ind for ind, ele in enumerate(train_dataset.targets) if ele == i]\n",
    "#    indices.append(class_i[:10])\n",
    "#    indices.append(class_i[10:20])\n",
    "#    indices.append(class_i[20:])\n",
    "    \n",
    "    #indices.append(class_i[:5])\n",
    "    #indices.append(class_i[5:10])\n",
    "    #indices.append(class_i[10:15])\n",
    "    #indices.append(class_i[15:20])\n",
    "    #indices.append(class_i[20:25])\n",
    "    #indices.append(class_i[25:])\n",
    "    \n",
    "class_0 = [ind for ind, ele in enumerate(train_dataset.targets) if ele == 0]\n",
    "print(class_0)"
   ]
  },
  {
   "cell_type": "code",
   "execution_count": 66,
   "id": "1de9ea94-b208-4781-abc7-fd3561a633d8",
   "metadata": {},
   "outputs": [],
   "source": [
    "a3c = A3C_PPnet(ppnet, pf_model)"
   ]
  },
  {
   "cell_type": "code",
   "execution_count": 67,
   "id": "25d68c44-2893-4d6b-a72e-af2f48257ab8",
   "metadata": {},
   "outputs": [],
   "source": [
    "avg_reward = []"
   ]
  },
  {
   "cell_type": "code",
   "execution_count": 68,
   "id": "70a854b8-04b5-4779-a8b4-0bc93a264570",
   "metadata": {},
   "outputs": [
    {
     "name": "stderr",
     "output_type": "stream",
     "text": [
      "2it [00:00,  3.54it/s]"
     ]
    },
    {
     "name": "stdout",
     "output_type": "stream",
     "text": [
      "5 5\n",
      "Epoch 0 1 average reward:  5.62690544128418\n"
     ]
    },
    {
     "name": "stderr",
     "output_type": "stream",
     "text": [
      "\n",
      "2it [00:00,  5.36it/s]"
     ]
    },
    {
     "name": "stdout",
     "output_type": "stream",
     "text": [
      "5 5\n",
      "Epoch 0 1 average reward:  3.877293586730957\n"
     ]
    },
    {
     "name": "stderr",
     "output_type": "stream",
     "text": [
      "\n",
      "2it [00:00,  4.96it/s]"
     ]
    },
    {
     "name": "stdout",
     "output_type": "stream",
     "text": [
      "5 5\n",
      "Epoch 0 1 average reward:  4.900004863739014\n"
     ]
    },
    {
     "name": "stderr",
     "output_type": "stream",
     "text": [
      "\n",
      "2it [00:00,  4.58it/s]"
     ]
    },
    {
     "name": "stdout",
     "output_type": "stream",
     "text": [
      "5 5\n",
      "Epoch 0 1 average reward:  5.5283379554748535\n"
     ]
    },
    {
     "name": "stderr",
     "output_type": "stream",
     "text": [
      "\n",
      "2it [00:00,  5.72it/s]"
     ]
    },
    {
     "name": "stdout",
     "output_type": "stream",
     "text": [
      "5 5\n",
      "Epoch 0 1 average reward:  4.36929178237915\n"
     ]
    },
    {
     "name": "stderr",
     "output_type": "stream",
     "text": [
      "\n",
      "2it [00:00,  4.62it/s]"
     ]
    },
    {
     "name": "stdout",
     "output_type": "stream",
     "text": [
      "5 5\n",
      "Epoch 0 1 average reward:  4.355536460876465\n"
     ]
    },
    {
     "name": "stderr",
     "output_type": "stream",
     "text": [
      "\n",
      "2it [00:00,  5.08it/s]"
     ]
    },
    {
     "name": "stdout",
     "output_type": "stream",
     "text": [
      "5 5\n",
      "Epoch 0 1 average reward:  4.239602088928223\n"
     ]
    },
    {
     "name": "stderr",
     "output_type": "stream",
     "text": [
      "\n",
      "2it [00:00,  4.59it/s]"
     ]
    },
    {
     "name": "stdout",
     "output_type": "stream",
     "text": [
      "5 5\n",
      "Epoch 0 1 average reward:  5.419553279876709\n"
     ]
    },
    {
     "name": "stderr",
     "output_type": "stream",
     "text": [
      "\n",
      "2it [00:00,  4.00it/s]"
     ]
    },
    {
     "name": "stdout",
     "output_type": "stream",
     "text": [
      "5 5\n",
      "Epoch 0 1 average reward:  3.661417245864868\n"
     ]
    },
    {
     "name": "stderr",
     "output_type": "stream",
     "text": [
      "\n",
      "2it [00:00,  4.04it/s]"
     ]
    },
    {
     "name": "stdout",
     "output_type": "stream",
     "text": [
      "5 5\n",
      "Epoch 0 1 average reward:  4.223318099975586\n"
     ]
    },
    {
     "name": "stderr",
     "output_type": "stream",
     "text": [
      "\n",
      "2it [00:00,  4.15it/s]"
     ]
    },
    {
     "name": "stdout",
     "output_type": "stream",
     "text": [
      "5 5\n",
      "Epoch 0 1 average reward:  5.117639541625977\n"
     ]
    },
    {
     "name": "stderr",
     "output_type": "stream",
     "text": [
      "\n",
      "2it [00:00,  4.91it/s]"
     ]
    },
    {
     "name": "stdout",
     "output_type": "stream",
     "text": [
      "5 5\n",
      "Epoch 0 1 average reward:  5.238378524780273\n"
     ]
    },
    {
     "name": "stderr",
     "output_type": "stream",
     "text": [
      "\n",
      "2it [00:00,  4.48it/s]"
     ]
    },
    {
     "name": "stdout",
     "output_type": "stream",
     "text": [
      "5 5\n",
      "Epoch 0 1 average reward:  3.231616258621216\n"
     ]
    },
    {
     "name": "stderr",
     "output_type": "stream",
     "text": [
      "\n",
      "2it [00:00,  4.89it/s]"
     ]
    },
    {
     "name": "stdout",
     "output_type": "stream",
     "text": [
      "5 5\n",
      "Epoch 0 1 average reward:  2.6587414741516113\n"
     ]
    },
    {
     "name": "stderr",
     "output_type": "stream",
     "text": [
      "\n",
      "2it [00:00,  3.98it/s]"
     ]
    },
    {
     "name": "stdout",
     "output_type": "stream",
     "text": [
      "5 5\n",
      "Epoch 0 1 average reward:  2.786696672439575\n"
     ]
    },
    {
     "name": "stderr",
     "output_type": "stream",
     "text": [
      "\n",
      "2it [00:00,  4.20it/s]"
     ]
    },
    {
     "name": "stdout",
     "output_type": "stream",
     "text": [
      "5 5\n",
      "Epoch 0 1 average reward:  5.277923107147217\n"
     ]
    },
    {
     "name": "stderr",
     "output_type": "stream",
     "text": [
      "\n",
      "2it [00:00,  5.86it/s]"
     ]
    },
    {
     "name": "stdout",
     "output_type": "stream",
     "text": [
      "5 5\n",
      "Epoch 0 1 average reward:  5.313355922698975\n"
     ]
    },
    {
     "name": "stderr",
     "output_type": "stream",
     "text": [
      "\n",
      "2it [00:00,  4.18it/s]"
     ]
    },
    {
     "name": "stdout",
     "output_type": "stream",
     "text": [
      "5 5\n",
      "Epoch 0 1 average reward:  3.934682846069336\n"
     ]
    },
    {
     "name": "stderr",
     "output_type": "stream",
     "text": [
      "\n",
      "2it [00:00,  4.44it/s]"
     ]
    },
    {
     "name": "stdout",
     "output_type": "stream",
     "text": [
      "5 5\n",
      "Epoch 0 1 average reward:  2.3776373863220215\n"
     ]
    },
    {
     "name": "stderr",
     "output_type": "stream",
     "text": [
      "\n",
      "2it [00:00,  5.78it/s]"
     ]
    },
    {
     "name": "stdout",
     "output_type": "stream",
     "text": [
      "5 5\n",
      "Epoch 0 1 average reward:  3.840500593185425\n",
      "find nearest patches\n"
     ]
    },
    {
     "name": "stderr",
     "output_type": "stream",
     "text": [
      "\n",
      "75it [06:15,  5.00s/it]\n"
     ]
    },
    {
     "name": "stdout",
     "output_type": "stream",
     "text": [
      "\tfind nearest patches time: \t375.7571768760681\n",
      "bad prototype number:  0\n"
     ]
    },
    {
     "name": "stderr",
     "output_type": "stream",
     "text": [
      "75it [00:15,  4.71it/s]\n",
      "2it [00:00,  5.39it/s]"
     ]
    },
    {
     "name": "stdout",
     "output_type": "stream",
     "text": [
      "5 5\n",
      "Epoch 0 1 average reward:  3.911888360977173\n"
     ]
    },
    {
     "name": "stderr",
     "output_type": "stream",
     "text": [
      "\n",
      "2it [00:00,  5.96it/s]"
     ]
    },
    {
     "name": "stdout",
     "output_type": "stream",
     "text": [
      "5 5\n",
      "Epoch 0 1 average reward:  4.121325969696045\n"
     ]
    },
    {
     "name": "stderr",
     "output_type": "stream",
     "text": [
      "\n",
      "2it [00:00,  5.86it/s]"
     ]
    },
    {
     "name": "stdout",
     "output_type": "stream",
     "text": [
      "5 5\n",
      "Epoch 0 1 average reward:  3.1579434871673584\n"
     ]
    },
    {
     "name": "stderr",
     "output_type": "stream",
     "text": [
      "\n",
      "2it [00:00,  4.22it/s]"
     ]
    },
    {
     "name": "stdout",
     "output_type": "stream",
     "text": [
      "5 5\n",
      "Epoch 0 1 average reward:  3.9487690925598145\n"
     ]
    },
    {
     "name": "stderr",
     "output_type": "stream",
     "text": [
      "\n",
      "2it [00:00,  5.05it/s]"
     ]
    },
    {
     "name": "stdout",
     "output_type": "stream",
     "text": [
      "5 5\n",
      "Epoch 0 1 average reward:  2.3096930980682373\n"
     ]
    },
    {
     "name": "stderr",
     "output_type": "stream",
     "text": [
      "\n",
      "2it [00:00,  4.25it/s]"
     ]
    },
    {
     "name": "stdout",
     "output_type": "stream",
     "text": [
      "5 5\n",
      "Epoch 0 1 average reward:  3.163245916366577\n"
     ]
    },
    {
     "name": "stderr",
     "output_type": "stream",
     "text": [
      "\n",
      "2it [00:00,  4.08it/s]"
     ]
    },
    {
     "name": "stdout",
     "output_type": "stream",
     "text": [
      "5 5\n",
      "Epoch 0 1 average reward:  4.11143684387207\n"
     ]
    },
    {
     "name": "stderr",
     "output_type": "stream",
     "text": [
      "\n",
      "2it [00:00,  4.30it/s]"
     ]
    },
    {
     "name": "stdout",
     "output_type": "stream",
     "text": [
      "5 5\n",
      "Epoch 0 1 average reward:  2.321530342102051\n"
     ]
    },
    {
     "name": "stderr",
     "output_type": "stream",
     "text": [
      "\n",
      "2it [00:00,  4.58it/s]"
     ]
    },
    {
     "name": "stdout",
     "output_type": "stream",
     "text": [
      "5 5\n",
      "Epoch 0 1 average reward:  3.831155300140381\n"
     ]
    },
    {
     "name": "stderr",
     "output_type": "stream",
     "text": [
      "\n",
      "2it [00:00,  5.08it/s]"
     ]
    },
    {
     "name": "stdout",
     "output_type": "stream",
     "text": [
      "5 5\n",
      "Epoch 0 1 average reward:  3.499211072921753\n"
     ]
    },
    {
     "name": "stderr",
     "output_type": "stream",
     "text": [
      "\n",
      "2it [00:00,  4.47it/s]"
     ]
    },
    {
     "name": "stdout",
     "output_type": "stream",
     "text": [
      "5 5\n",
      "Epoch 0 1 average reward:  3.7331182956695557\n"
     ]
    },
    {
     "name": "stderr",
     "output_type": "stream",
     "text": [
      "\n",
      "2it [00:00,  5.18it/s]"
     ]
    },
    {
     "name": "stdout",
     "output_type": "stream",
     "text": [
      "5 5\n",
      "Epoch 0 1 average reward:  2.470792293548584\n"
     ]
    },
    {
     "name": "stderr",
     "output_type": "stream",
     "text": [
      "\n",
      "2it [00:00,  5.29it/s]"
     ]
    },
    {
     "name": "stdout",
     "output_type": "stream",
     "text": [
      "5 5\n",
      "Epoch 0 1 average reward:  4.968719005584717\n"
     ]
    },
    {
     "name": "stderr",
     "output_type": "stream",
     "text": [
      "\n",
      "2it [00:00,  5.82it/s]"
     ]
    },
    {
     "name": "stdout",
     "output_type": "stream",
     "text": [
      "5 5\n",
      "Epoch 0 1 average reward:  4.220401287078857\n"
     ]
    },
    {
     "name": "stderr",
     "output_type": "stream",
     "text": [
      "\n",
      "2it [00:00,  4.09it/s]"
     ]
    },
    {
     "name": "stdout",
     "output_type": "stream",
     "text": [
      "5 5\n",
      "Epoch 0 1 average reward:  4.052216053009033\n"
     ]
    },
    {
     "name": "stderr",
     "output_type": "stream",
     "text": [
      "\n",
      "2it [00:00,  4.75it/s]"
     ]
    },
    {
     "name": "stdout",
     "output_type": "stream",
     "text": [
      "5 5\n",
      "Epoch 0 1 average reward:  2.426748275756836\n"
     ]
    },
    {
     "name": "stderr",
     "output_type": "stream",
     "text": [
      "\n",
      "2it [00:00,  4.94it/s]"
     ]
    },
    {
     "name": "stdout",
     "output_type": "stream",
     "text": [
      "5 5\n",
      "Epoch 0 1 average reward:  3.8561489582061768\n"
     ]
    },
    {
     "name": "stderr",
     "output_type": "stream",
     "text": [
      "\n",
      "2it [00:00,  4.84it/s]"
     ]
    },
    {
     "name": "stdout",
     "output_type": "stream",
     "text": [
      "5 5\n",
      "Epoch 0 1 average reward:  4.16627836227417\n"
     ]
    },
    {
     "name": "stderr",
     "output_type": "stream",
     "text": [
      "\n",
      "2it [00:00,  4.37it/s]"
     ]
    },
    {
     "name": "stdout",
     "output_type": "stream",
     "text": [
      "5 5\n",
      "Epoch 0 1 average reward:  4.711926460266113\n"
     ]
    },
    {
     "name": "stderr",
     "output_type": "stream",
     "text": [
      "\n",
      "2it [00:00,  4.65it/s]"
     ]
    },
    {
     "name": "stdout",
     "output_type": "stream",
     "text": [
      "5 5\n",
      "Epoch 0 1 average reward:  4.517219066619873\n"
     ]
    },
    {
     "name": "stderr",
     "output_type": "stream",
     "text": [
      "\n",
      "2it [00:00,  4.91it/s]"
     ]
    },
    {
     "name": "stdout",
     "output_type": "stream",
     "text": [
      "5 5\n",
      "Epoch 0 1 average reward:  4.220125675201416\n"
     ]
    },
    {
     "name": "stderr",
     "output_type": "stream",
     "text": [
      "\n",
      "2it [00:00,  4.74it/s]"
     ]
    },
    {
     "name": "stdout",
     "output_type": "stream",
     "text": [
      "5 5\n",
      "Epoch 0 1 average reward:  2.8979647159576416\n"
     ]
    },
    {
     "name": "stderr",
     "output_type": "stream",
     "text": [
      "\n",
      "2it [00:00,  5.32it/s]"
     ]
    },
    {
     "name": "stdout",
     "output_type": "stream",
     "text": [
      "5 5\n",
      "Epoch 0 1 average reward:  3.548318862915039\n"
     ]
    },
    {
     "name": "stderr",
     "output_type": "stream",
     "text": [
      "\n",
      "2it [00:00,  4.47it/s]"
     ]
    },
    {
     "name": "stdout",
     "output_type": "stream",
     "text": [
      "5 5\n",
      "Epoch 0 1 average reward:  3.9539949893951416\n"
     ]
    },
    {
     "name": "stderr",
     "output_type": "stream",
     "text": [
      "\n",
      "2it [00:00,  2.99it/s]"
     ]
    },
    {
     "name": "stdout",
     "output_type": "stream",
     "text": [
      "5 5\n",
      "Epoch 0 1 average reward:  3.9884164333343506\n"
     ]
    },
    {
     "name": "stderr",
     "output_type": "stream",
     "text": [
      "\n",
      "2it [00:00,  4.12it/s]"
     ]
    },
    {
     "name": "stdout",
     "output_type": "stream",
     "text": [
      "5 5\n",
      "Epoch 0 1 average reward:  4.160651206970215\n"
     ]
    },
    {
     "name": "stderr",
     "output_type": "stream",
     "text": [
      "\n",
      "2it [00:00,  3.93it/s]"
     ]
    },
    {
     "name": "stdout",
     "output_type": "stream",
     "text": [
      "5 5\n",
      "Epoch 0 1 average reward:  2.5341906547546387\n"
     ]
    },
    {
     "name": "stderr",
     "output_type": "stream",
     "text": [
      "\n",
      "2it [00:00,  4.23it/s]"
     ]
    },
    {
     "name": "stdout",
     "output_type": "stream",
     "text": [
      "5 5\n",
      "Epoch 0 1 average reward:  1.987135648727417\n"
     ]
    },
    {
     "name": "stderr",
     "output_type": "stream",
     "text": [
      "\n",
      "2it [00:00,  5.57it/s]"
     ]
    },
    {
     "name": "stdout",
     "output_type": "stream",
     "text": [
      "5 5\n",
      "Epoch 0 1 average reward:  2.436387538909912\n"
     ]
    },
    {
     "name": "stderr",
     "output_type": "stream",
     "text": [
      "\n",
      "2it [00:00,  4.67it/s]"
     ]
    },
    {
     "name": "stdout",
     "output_type": "stream",
     "text": [
      "5 5\n",
      "Epoch 0 1 average reward:  2.6092536449432373\n",
      "find nearest patches\n"
     ]
    },
    {
     "name": "stderr",
     "output_type": "stream",
     "text": [
      "\n",
      "1it [00:08,  8.13s/it]\n"
     ]
    },
    {
     "ename": "KeyboardInterrupt",
     "evalue": "",
     "output_type": "error",
     "traceback": [
      "\u001b[0;31m---------------------------------------------------------------------------\u001b[0m",
      "\u001b[0;31mKeyboardInterrupt\u001b[0m                         Traceback (most recent call last)",
      "Cell \u001b[0;32mIn[68], line 8\u001b[0m\n\u001b[1;32m      5\u001b[0m \u001b[38;5;28;01mfor\u001b[39;00m epoch \u001b[38;5;129;01min\u001b[39;00m \u001b[38;5;28mrange\u001b[39m(\u001b[38;5;241m100\u001b[39m):\n\u001b[1;32m      7\u001b[0m     \u001b[38;5;28;01mif\u001b[39;00m epoch \u001b[38;5;129;01min\u001b[39;00m [\u001b[38;5;241m20\u001b[39m, \u001b[38;5;241m50\u001b[39m]:\n\u001b[0;32m----> 8\u001b[0m         original_imgs, patterns \u001b[38;5;241m=\u001b[39m \u001b[43mfind_k_nearest_patches_to_prototypes\u001b[49m\u001b[43m(\u001b[49m\u001b[43mtrain_loader\u001b[49m\u001b[43m,\u001b[49m\u001b[43m \u001b[49m\u001b[43ma3c\u001b[49m\u001b[38;5;241;43m.\u001b[39;49m\u001b[43mPPnet_multi\u001b[49m\u001b[43m,\u001b[49m\u001b[43m \u001b[49m\u001b[43mk\u001b[49m\u001b[38;5;241;43m=\u001b[39;49m\u001b[38;5;241;43m1\u001b[39;49m\u001b[43m)\u001b[49m\n\u001b[1;32m      9\u001b[0m         global_max_rewards \u001b[38;5;241m=\u001b[39m reselect_prototypes(a3c, \u001b[38;5;241m-\u001b[39m\u001b[38;5;241m5\u001b[39m, train_loader, original_imgs, patterns)\n\u001b[1;32m     11\u001b[0m     \u001b[38;5;66;03m#order = np.random.permutation(600)\u001b[39;00m\n\u001b[1;32m     12\u001b[0m     \u001b[38;5;66;03m#shuffled_idx = []\u001b[39;00m\n\u001b[1;32m     13\u001b[0m     \u001b[38;5;66;03m#for idx in order:\u001b[39;00m\n\u001b[1;32m     14\u001b[0m     \u001b[38;5;66;03m#    shuffled_idx += indices[idx]\u001b[39;00m\n\u001b[1;32m     15\u001b[0m     \n\u001b[1;32m     16\u001b[0m     \u001b[38;5;66;03m# only update a particular class to see the performance\u001b[39;00m\n",
      "Cell \u001b[0;32mIn[59], line 83\u001b[0m, in \u001b[0;36mfind_k_nearest_patches_to_prototypes\u001b[0;34m(dataloader, prototype_network_parallel, k, preprocess_input_function, full_save, root_dir_for_saving_images, log, prototype_activation_function_in_numpy, heatmap_ratio)\u001b[0m\n\u001b[1;32m     75\u001b[0m \u001b[38;5;28;01mfor\u001b[39;00m j \u001b[38;5;129;01min\u001b[39;00m \u001b[38;5;28mrange\u001b[39m(n_prototypes):\n\u001b[1;32m     76\u001b[0m     \u001b[38;5;66;03m# find the closest patches in this batch to prototype j\u001b[39;00m\n\u001b[1;32m     78\u001b[0m     closest_patch_distance_to_prototype_j \u001b[38;5;241m=\u001b[39m np\u001b[38;5;241m.\u001b[39mamin(distance_map[j])\n\u001b[1;32m     82\u001b[0m     closest_patch_indices_in_distance_map_j \u001b[38;5;241m=\u001b[39m \\\n\u001b[0;32m---> 83\u001b[0m         \u001b[38;5;28mlist\u001b[39m(np\u001b[38;5;241m.\u001b[39munravel_index(\u001b[43mnp\u001b[49m\u001b[38;5;241;43m.\u001b[39;49m\u001b[43margmin\u001b[49m\u001b[43m(\u001b[49m\u001b[43mdistance_map\u001b[49m\u001b[43m[\u001b[49m\u001b[43mj\u001b[49m\u001b[43m]\u001b[49m\u001b[43m,\u001b[49m\u001b[43maxis\u001b[49m\u001b[38;5;241;43m=\u001b[39;49m\u001b[38;5;28;43;01mNone\u001b[39;49;00m\u001b[43m)\u001b[49m,\n\u001b[1;32m     84\u001b[0m                               distance_map[j]\u001b[38;5;241m.\u001b[39mshape))\n\u001b[1;32m     85\u001b[0m     closest_patch_indices_in_distance_map_j \u001b[38;5;241m=\u001b[39m [\u001b[38;5;241m0\u001b[39m] \u001b[38;5;241m+\u001b[39m closest_patch_indices_in_distance_map_j\n\u001b[1;32m     86\u001b[0m     closest_patch_indices_in_img \u001b[38;5;241m=\u001b[39m \\\n\u001b[1;32m     87\u001b[0m         compute_rf_prototype(search_batch\u001b[38;5;241m.\u001b[39msize(\u001b[38;5;241m2\u001b[39m),\n\u001b[1;32m     88\u001b[0m                              closest_patch_indices_in_distance_map_j,\n\u001b[1;32m     89\u001b[0m                              protoL_rf_info)\n",
      "File \u001b[0;32m<__array_function__ internals>:180\u001b[0m, in \u001b[0;36margmin\u001b[0;34m(*args, **kwargs)\u001b[0m\n",
      "\u001b[0;31mKeyboardInterrupt\u001b[0m: "
     ]
    }
   ],
   "source": [
    "'''\n",
    "Human feedback training with reselection\n",
    "'''\n",
    "\n",
    "for epoch in range(100):\n",
    "    \n",
    "    if epoch in [20, 50]:\n",
    "        original_imgs, patterns = find_k_nearest_patches_to_prototypes(train_loader, a3c.PPnet_multi, k=1)\n",
    "        global_max_rewards = reselect_prototypes(a3c, -5, train_loader, original_imgs, patterns)\n",
    "    \n",
    "    #order = np.random.permutation(600)\n",
    "    #shuffled_idx = []\n",
    "    #for idx in order:\n",
    "    #    shuffled_idx += indices[idx]\n",
    "    \n",
    "    # only update a particular class to see the performance\n",
    "    shuffled_idx = class_0\n",
    "    shuffled_dataset = Subset(train_dataset, shuffled_idx)\n",
    "    \n",
    "    dataloader = torch.utils.data.DataLoader(\n",
    "    shuffled_dataset, batch_size=30, shuffle=True,\n",
    "    num_workers=2, pin_memory=False)\n",
    "    \n",
    "    epoch_reward = 0\n",
    "    \n",
    "    for i, (batch, labels) in tqdm(enumerate(dataloader)):\n",
    "        if i == 1:\n",
    "            continue\n",
    "        rewards, values, probs = a3c.run(batch, labels, save_prototypes=[], save_epochs=[])\n",
    "        \n",
    "        total_reward = 0\n",
    "        mse_loss = 0\n",
    "        for j in range(len(probs)):\n",
    "            \n",
    "            probs[j].detach().cpu().numpy()\n",
    "            rewards[j].detach().cpu().numpy()\n",
    "            #total_reward += probs[j] * rewards[j]\n",
    "            #mse_loss += (rewards[j] - values[j]) ** 2\n",
    "            total_reward += probs[j] * rewards[j]\n",
    "            \n",
    "            #probs[j].detach().cpu().numpy()\n",
    "            #rewards[j].detach().cpu().numpy()\n",
    "        epoch_reward += total_reward.item()\n",
    "        #print(epoch_reward)\n",
    "        #print(\"Epoch \"+str(epoch)+\" Iteration \"+str(i)+\" total expected reward: \", total_reward)\n",
    "        #print(\"Epoch \"+str(epoch)+\" Iteration \"+str(i)+\" total mse loss: \", mse_loss)\n",
    "    \n",
    "    print(\"Epoch \"+str(a3c.num_epoch)+\" \"+str(i)+\" average reward: \", epoch_reward/i)\n",
    "    \n",
    "    avg_reward.append(epoch_reward/i)"
   ]
  },
  {
   "cell_type": "code",
   "execution_count": 25,
   "id": "5bb12638-3f64-4229-a98a-373cc22f31bf",
   "metadata": {},
   "outputs": [
    {
     "data": {
      "text/plain": [
       "[<matplotlib.lines.Line2D at 0x7f9f0ec48950>]"
      ]
     },
     "execution_count": 25,
     "metadata": {},
     "output_type": "execute_result"
    },
    {
     "data": {
      "image/png": "[encoded data removed]",
      "text/plain": [
       "<Figure size 640x480 with 1 Axes>"
      ]
     },
     "metadata": {},
     "output_type": "display_data"
    }
   ],
   "source": [
    "plt.plot(np.arange(57), avg_reward)"
   ]
  },
  {
   "cell_type": "code",
   "execution_count": null,
   "id": "246426d0-2632-4761-aba3-0ab52cfff932",
   "metadata": {},
   "outputs": [],
   "source": []
  }
 ],
 "metadata": {
  "kernelspec": {
   "display_name": "Python 3 (ipykernel)",
   "language": "python",
   "name": "python3"
  },
  "language_info": {
   "codemirror_mode": {
    "name": "ipython",
    "version": 3
   },
   "file_extension": ".py",
   "mimetype": "text/x-python",
   "name": "python",
   "nbconvert_exporter": "python",
   "pygments_lexer": "ipython3",
   "version": "3.11.0"
  }
 },
 "nbformat": 4,
 "nbformat_minor": 5
}

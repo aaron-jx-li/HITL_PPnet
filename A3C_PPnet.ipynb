{
 "cells": [
  {
   "cell_type": "code",
   "execution_count": 1,
   "id": "e9f4d784-db44-4a98-b2ce-9bc9dffd01b9",
   "metadata": {},
   "outputs": [],
   "source": [
    "import sys\n",
    "import torch  \n",
    "import gym\n",
    "import numpy as np  \n",
    "import torch.nn as nn\n",
    "import torch.optim as optim\n",
    "import torch.nn.functional as F\n",
    "from torch.autograd import Variable\n",
    "import matplotlib.pyplot as plt\n",
    "import pandas as pd\n",
    "from torch.distributions.categorical import Categorical\n",
    "import math\n",
    "import os\n",
    "import torchvision.transforms as transforms\n",
    "import torchvision.datasets as datasets\n",
    "from preprocess import mean, std, preprocess_input_function\n",
    "from settings import train_dir, test_dir, train_push_dir, train_batch_size, test_batch_size, train_push_batch_size\n",
    "from settings import base_architecture, img_size, prototype_shape, num_classes, prototype_activation_function, add_on_layers_type\n",
    "from receptive_field import compute_rf_prototype\n",
    "import cv2\n",
    "from preference_model import construct_PrefNet, paired_cross_entropy_loss, PrefNet\n",
    "from tqdm import tqdm\n",
    "from settings import joint_optimizer_lrs, joint_lr_step_size"
   ]
  },
  {
   "cell_type": "code",
   "execution_count": 2,
   "id": "407754e3-ff06-4932-8aa8-9508e96735b2",
   "metadata": {},
   "outputs": [],
   "source": [
    "def unravel_index(index, shape):\n",
    "    out = []\n",
    "    for dim in reversed(shape):\n",
    "        out.append(index % dim)\n",
    "        index = index // dim\n",
    "    return reversed(out)"
   ]
  },
  {
   "cell_type": "code",
   "execution_count": 3,
   "id": "e66b9c72-2d68-4484-a2a2-e23228001618",
   "metadata": {},
   "outputs": [],
   "source": [
    "'''\n",
    "Use PPnet's forward pass as the policy network (actor network); what about the network for value function (critic network)?\n",
    "Since there are only determinant actions, this is essentially A2C...\n",
    "'''\n",
    "class A3C_PPnet(nn.Module):\n",
    "    def __init__(self, PPnet, preference_model, k=3, p=5, learning_rate=3e-4):\n",
    "        super(A3C_PPnet, self).__init__()\n",
    "        \n",
    "        \n",
    "        self.PPnet = PPnet.cuda()\n",
    "        #for param in self.PPnet.features.parameters():\n",
    "        #    param.requires_grad = True\n",
    "        self.k = k\n",
    "        self.pf_model = preference_model.cuda()\n",
    "        \n",
    "        self.PPnet_multi = torch.nn.DataParallel(self.PPnet)\n",
    "        for p in self.PPnet_multi.module.features.parameters():\n",
    "            p.requires_grad = True\n",
    "        for p in self.PPnet_multi.module.add_on_layers.parameters():\n",
    "            p.requires_grad = True\n",
    "        self.PPnet_multi.module.prototype_vectors.requires_grad = True\n",
    "        for p in self.PPnet_multi.module.last_layer.parameters():\n",
    "            p.requires_grad = True\n",
    "        #self.critic_model = self.construct_critic().cuda()\n",
    "        self.p = p\n",
    "        self.critic_model = Critic().cuda()\n",
    "        policy_optimizer_specs = [{'params': self.PPnet.features.parameters(), 'lr': joint_optimizer_lrs['features'], 'weight_decay': 1e-3}, \n",
    "                                  {'params': self.PPnet.add_on_layers.parameters(), 'lr': joint_optimizer_lrs['add_on_layers'], 'weight_decay': 1e-3},\n",
    "                                  {'params': self.PPnet.prototype_vectors, 'lr': joint_optimizer_lrs['prototype_vectors']},\n",
    "                                  ]\n",
    "        self.policy_optimizer = torch.optim.Adam(policy_optimizer_specs)\n",
    "        #self.policy_optimizer = torch.optim.Adam(self.PPnet.features.parameters())\n",
    "        self.critic_optimizer = torch.optim.Adam(self.critic_model.parameters())\n",
    "    \n",
    "        \n",
    "    def get_heatmaps(self, batch_x):\n",
    "        self.PPnet_multi.eval()\n",
    "        n_prototypes = self.PPnet_multi.module.num_prototypes\n",
    "        prototype_shape = self.PPnet_multi.module.prototype_shape\n",
    "        max_dist = prototype_shape[1] * prototype_shape[2] * prototype_shape[3]\n",
    "        protoL_rf_info = self.PPnet_multi.module.proto_layer_rf_info\n",
    "        \n",
    "        batch_x = batch_x.cuda()\n",
    "        protoL_input_torch, proto_dist_torch = self.PPnet_multi.module.push_forward(batch_x)\n",
    "        #for param in self.PPnet_multi.parameters():\n",
    "        #    if param.requires_grad == True:\n",
    "        #        print(param.grad)\n",
    "        #print(proto_dist_torch.grad)\n",
    "        #proto_dist_ = np.copy(proto_dist_torch.detach().cpu().numpy())\n",
    "        #print(proto_dist_torch.grad_fn)\n",
    "        proto_dist_ = proto_dist_torch.view(proto_dist_torch.shape[0], proto_dist_torch.shape[1], -1)\n",
    "        distances = torch.amin(proto_dist_, axis=-1)\n",
    "        #distances = torch.tensor(distances)\n",
    "        #print(\"Distances grad: \", distances.grad)\n",
    "        actions = self.sample_from_distances(distances)\n",
    "        proto_dist = torch.clone(proto_dist_torch)\n",
    "        # Move to cpu and cast to numpy here\n",
    "        # proto_dist shape: (1000, 80, 7, 7)\n",
    "        proto_dist = torch.transpose(proto_dist, 0, 1)\n",
    "        proto_dist = proto_dist.detach().cpu().numpy()\n",
    "        heatmaps = []\n",
    "        joint_log_probs = []\n",
    "        for j in range(n_prototypes):\n",
    "            img_idx, probs = actions[j]\n",
    "            #print(\"Probs grad: \", probs.grad)\n",
    "            heatmaps_j = []\n",
    "            for i in img_idx:\n",
    "                closest_patch_indices_in_distance_map_j = list(np.unravel_index(np.argmin(proto_dist[j][i],axis=None), proto_dist[j][i].shape))\n",
    "                #print(closest_patch_indices_in_distance_map_j)\n",
    "                closest_patch_indices_in_distance_map_j = [0] + closest_patch_indices_in_distance_map_j\n",
    "                #print(closest_patch_indices_in_distance_map_j)\n",
    "                closest_patch_indices_in_img = compute_rf_prototype(batch_x.size(2), closest_patch_indices_in_distance_map_j, protoL_rf_info)\n",
    "                closest_patch = \\\n",
    "                    batch_x[i, :, closest_patch_indices_in_img[1]:closest_patch_indices_in_img[2], closest_patch_indices_in_img[3]:closest_patch_indices_in_img[4]]\n",
    "                closest_patch = closest_patch.cpu().numpy()\n",
    "                closest_patch = np.transpose(closest_patch, (1, 2, 0))\n",
    "\n",
    "                original_img = batch_x[i].cpu().numpy()\n",
    "                original_img = np.transpose(original_img, (1, 2, 0))\n",
    "                if self.PPnet_multi.module.prototype_activation_function == 'log':\n",
    "                    act_pattern = np.log((proto_dist[j][i] + 1)/(proto_dist[j][i] + self.PPnet_multi.module.epsilon))\n",
    "                elif self.PPnet_multi.module.prototype_activation_function == 'linear':\n",
    "                    act_pattern = max_dist - proto_dist[j][i]\n",
    "                else:\n",
    "                    act_pattern = prototype_activation_function_in_numpy(proto_dist[j][i])\n",
    "\n",
    "                patch_indices = closest_patch_indices_in_img[1:5]\n",
    "\n",
    "                img_size = original_img.shape[0]\n",
    "                upsampled_act_pattern = cv2.resize(act_pattern, dsize=(img_size, img_size), interpolation=cv2.INTER_CUBIC)\n",
    "                rescaled_act_pattern = upsampled_act_pattern - np.amin(upsampled_act_pattern)\n",
    "                rescaled_act_pattern = rescaled_act_pattern / np.amax(rescaled_act_pattern)\n",
    "                heatmap = cv2.applyColorMap(np.uint8(255*rescaled_act_pattern), cv2.COLORMAP_JET)\n",
    "                heatmap = np.float32(heatmap) / 255\n",
    "                heatmap = heatmap[..., ::-1]\n",
    "                overlayed_original_img = 0.5 * original_img + 1.0 * heatmap\n",
    "                overlayed_original_img = overlayed_original_img - np.amin(overlayed_original_img)\n",
    "                overlayed_original_img = overlayed_original_img / np.amax(overlayed_original_img)\n",
    "                heatmaps_j.append(overlayed_original_img)\n",
    "            joint_log_prob = torch.prod(probs) * math.factorial(self.k)\n",
    "            #print(joint_log_prob.grad_fn)\n",
    "            heatmaps.append(heatmaps_j)\n",
    "            joint_log_probs.append(joint_log_prob)\n",
    "                \n",
    "        # num_prototypes * self.k heatmaps in total\n",
    "        # num_prototypes probs\n",
    "        #for prob in joint_log_probs:\n",
    "        #    print(prob.grad_fn)\n",
    "        return heatmaps, joint_log_probs, distances\n",
    "    \n",
    "    def sample_from_distances(self, distances):\n",
    "        '''\n",
    "        Takes in distances of shape (80, 1000)\n",
    "        returns actions of shape (1000, ), one for each prototype\n",
    "        '''\n",
    "        distances = torch.clip(distances, min=1e-7, max=None)\n",
    "        similarities = 1 / distances\n",
    "        softmax_dist = F.softmax(similarities, dim=0)\n",
    "        softmax_dist = torch.transpose(softmax_dist, 0, 1)\n",
    "        # Maybe using combinatorics?\n",
    "        actions = []\n",
    "        for i in range(softmax_dist.shape[0]):\n",
    "            dist = Categorical(softmax_dist[i])\n",
    "            img_idx = dist.sample(sample_shape=torch.tensor([self.k]))\n",
    "            probs = dist.log_prob(img_idx)\n",
    "            probs = torch.exp(probs)\n",
    "            actions.append((img_idx, probs))\n",
    "        return actions\n",
    "    \n",
    "    def construct_critic(self):\n",
    "        critic_model = nn.Sequential(\n",
    "                        nn.Linear(512 * self.k * 7 * 7, 120),\n",
    "                        nn.Sigmoid(),\n",
    "                        nn.Linear(120, 20),\n",
    "                        nn.Sigmoid(),\n",
    "                        nn.Linear(20, 1)\n",
    "                        )\n",
    "        return critic_model\n",
    "    \n",
    "    # Currently just the same architecture as the pref_net\n",
    "    '''\n",
    "    def critic(self, heatmaps):\n",
    "        values = torch.empty(len(heatmaps))\n",
    "        for i in tqdm(range(len(heatmaps))):\n",
    "            #x = torch.tensor(heatmaps[i])\n",
    "            x = np.concatenate(heatmaps[i], axis=1)\n",
    "            x = torch.tensor(x).cuda()\n",
    "            x = torch.unsqueeze(x, axis=0)\n",
    "            x = torch.transpose(x, 1, 3)\n",
    "            with torch.no_grad():\n",
    "                x = self.pf_model.conv_features(x)\n",
    "                x = torch.flatten(x, 1) # flatten all dimensions except batch\n",
    "            x = self.critic_model(x)\n",
    "            values[i] = x\n",
    "            #print(i)\n",
    "        return values\n",
    "    '''\n",
    "    \n",
    "    # Need to vectorize\n",
    "    def get_critic_inputs(self, heatmaps):\n",
    "        critic_inputs = []\n",
    "        for i in range(len(heatmaps)):\n",
    "            x = np.concatenate(heatmaps[i], axis=1)\n",
    "            x = torch.tensor(x).cuda()\n",
    "            x = torch.unsqueeze(x, axis=0)\n",
    "            x = torch.transpose(x, 1, 3)\n",
    "            with torch.no_grad():\n",
    "                x = self.pf_model.conv_features(x)\n",
    "                x = torch.flatten(x, 1) # flatten all dimensions except batch\n",
    "            critic_inputs.append(x)\n",
    "        critic_inputs = torch.stack(critic_inputs, dim=0)\n",
    "        critic_inputs = critic_inputs.view(critic_inputs.shape[0], -1)\n",
    "        #print(critic_inputs.shape)\n",
    "        return critic_inputs\n",
    "        \n",
    "    def get_rewards(self, heatmaps):\n",
    "        with torch.no_grad():\n",
    "            rewards = torch.empty(len(heatmaps))\n",
    "            for i in range(len(heatmaps)):\n",
    "                pf_input = torch.tensor(heatmaps[i]).cuda()\n",
    "                pf_input = pf_input.view(pf_input.shape[0]*pf_input.shape[1], pf_input.shape[2], pf_input.shape[3])\n",
    "                pf_input = torch.transpose(pf_input, 0, 2)\n",
    "                pf_input = torch.transpose(pf_input, 1, 2)\n",
    "                pf_input = torch.unsqueeze(pf_input, axis=0)\n",
    "                reward = self.pf_model(pf_input)\n",
    "                rewards[i] = reward\n",
    "                #print(i)\n",
    "        return rewards\n",
    "    \n",
    "    def update_v1(self, rewards, values, probs):\n",
    "        self.policy_optimizer.zero_grad()\n",
    "        for prob in probs:\n",
    "            prob = prob.cuda()\n",
    "        rewards = rewards.cuda()\n",
    "        values = values.cuda()\n",
    "        #print(list(self.PPnet_multi.module.features.parameters())[0])\n",
    "        policy_loss = 0\n",
    "        for i in range(len(rewards)):\n",
    "            policy_loss -= probs[i] * (rewards[i] - values[i])    \n",
    "        policy_loss.backward(retain_graph=True)\n",
    "        self.policy_optimizer.step()\n",
    "        #print(list(self.PPnet_multi.module.features.parameters())[0])\n",
    "        self.critic_optimizer.zero_grad()\n",
    "        #print(list(self.critic_model.parameters())[0])\n",
    "        critic_loss = 0\n",
    "        for i in range(len(rewards)):\n",
    "            critic_loss += (rewards[i] - values[i]) ** 2\n",
    "        #print(critic_loss.grad_fn)\n",
    "        critic_loss.backward()\n",
    "        self.critic_optimizer.step()\n",
    "        #print(list(self.critic_model.parameters())[0])\n",
    "        \n",
    "        return \n",
    "    \n",
    "    def update_v2(self, rewards, values, probs):\n",
    "        \n",
    "        return\n",
    "    \n",
    "    \n",
    "    def run(self, batch_x):\n",
    "\n",
    "        # action is n_prototypes * k heatmaps\n",
    "        heatmaps, probs, img_distances = self.get_heatmaps(batch_x)\n",
    "        #print(\"Finished calculating heatmaps\")\n",
    "        critic_inputs = self.get_critic_inputs(heatmaps)\n",
    "        #print(\"Finished getting critic inputs\")\n",
    "        values = self.critic_model(critic_inputs)\n",
    "        #print(\"Finished calculating values\")\n",
    "        rewards = self.get_rewards(heatmaps)\n",
    "        #print(\"Finished calculating rewards\")\n",
    "        self.update_v1(rewards, values, probs)\n",
    "        #print(\"Finished updating. Done.\")\n",
    "        \n",
    "        return rewards, values, probs\n",
    "    \n"
   ]
  },
  {
   "cell_type": "code",
   "execution_count": 4,
   "id": "5c9b1871-610e-4893-b400-bf453e392f5d",
   "metadata": {},
   "outputs": [],
   "source": [
    "class Critic(nn.Module):\n",
    "    def __init__(self, k=3, learning_rate=3e-4):\n",
    "        super(Critic, self).__init__()\n",
    "        \n",
    "        '''\n",
    "        self.critic_linear1 = nn.Linear(num_inputs, hidden_size)\n",
    "        self.critic_linear2 = nn.Linear(hidden_size, 1)\n",
    "\n",
    "        self.actor_linear1 = nn.Linear(num_inputs, hidden_size)\n",
    "        self.actor_linear2 = nn.Linear(hidden_size, num_actions)\n",
    "        '''\n",
    "        \n",
    "        self.k = k\n",
    "        self.fc1 = nn.Linear(512 * k * 7 * 7, 120)\n",
    "        self.fc2 = nn.Linear(120, 20)\n",
    "        self.fc3 = nn.Linear(20, 1)\n",
    "        \n",
    "    \n",
    "    def forward(self, x):\n",
    "\n",
    "        out = torch.sigmoid(self.fc1(x))\n",
    "        out = torch.sigmoid(self.fc2(out))\n",
    "        out = self.fc3(out)\n",
    "\n",
    "        return out"
   ]
  },
  {
   "cell_type": "code",
   "execution_count": 5,
   "id": "8a3f6116-dbd6-480b-aa3a-703d8e9d66a9",
   "metadata": {},
   "outputs": [
    {
     "data": {
      "text/plain": [
       "<All keys matched successfully>"
      ]
     },
     "execution_count": 5,
     "metadata": {},
     "output_type": "execute_result"
    }
   ],
   "source": [
    "ppnet = torch.load(r'../saved_models/vgg19/004/100_7push0.7344.pth')\n",
    "\n",
    "pf_model = construct_PrefNet(\"resnet18\")\n",
    "pf_model.load_state_dict(torch.load(\"./human_comparisons/pref_model_009_65+35_ep50_adam_0.0001\"))\n",
    "#pf_model = torch.load(r'./human_comparisons/pref_model_009_65+35_ep50_adam_0.0001_1')"
   ]
  },
  {
   "cell_type": "code",
   "execution_count": 6,
   "id": "7d15a4c1-4e13-49c0-a9c4-27632b8a0d86",
   "metadata": {},
   "outputs": [],
   "source": [
    "normalize = transforms.Normalize(mean=mean, std=std)\n",
    "\n",
    "train_dataset = datasets.ImageFolder(\n",
    "        train_push_dir,\n",
    "        transforms.Compose([\n",
    "        transforms.Resize(size=(img_size, img_size)),\n",
    "        transforms.ToTensor(),\n",
    "        normalize,\n",
    "    ]))\n",
    "dataloader = torch.utils.data.DataLoader(\n",
    "    train_dataset, batch_size=100, shuffle=False,\n",
    "    num_workers=4, pin_memory=False)"
   ]
  },
  {
   "cell_type": "code",
   "execution_count": 7,
   "id": "5de37d9e-1dcc-4f70-95d1-6720897374c8",
   "metadata": {},
   "outputs": [],
   "source": [
    "a3c = A3C_PPnet(ppnet, pf_model)"
   ]
  },
  {
   "cell_type": "code",
   "execution_count": 8,
   "id": "d6b545a8-b2be-459e-83f3-4fbf5a0f782c",
   "metadata": {},
   "outputs": [],
   "source": [
    "#train_batch, labels = next(iter(dataloader))\n",
    "#rewards_0, values_0, probs_0 = a3c.run(train_batch)\n",
    "#params_0 = list(a3c.critic_model.parameters())\n",
    "#train_batch, labels = next(iter(dataloader))\n",
    "#rewards_1, values_1, probs_1 = a3c.run(train_batch)\n",
    "#params_1 = list(a3c.critic_model.parameters())"
   ]
  },
  {
   "cell_type": "code",
   "execution_count": null,
   "id": "5a0c1a24-c60a-4f5e-b244-19360bb78080",
   "metadata": {},
   "outputs": [
    {
     "name": "stderr",
     "output_type": "stream",
     "text": [
      "  0%|          | 0/100 [00:00<?, ?it/s]"
     ]
    }
   ],
   "source": [
    "prob_records = []\n",
    "reward_records = []\n",
    "data_iter = iter(dataloader)\n",
    "for _ in range(20):\n",
    "    batch, label = next(data_iter)\n",
    "for i in tqdm(range(100)):\n",
    "    rewards, values, probs = a3c.run(batch)\n",
    "    total_reward = 0\n",
    "    mse_loss = 0\n",
    "    \n",
    "    for j in range(len(probs)):\n",
    "        probs[j] = probs[j].detach().cpu().numpy()\n",
    "        rewards[j] = rewards[j].detach().cpu().numpy()\n",
    "        total_reward += probs[j] * rewards[j]\n",
    "        mse_loss += (rewards[j] - values[j]) ** 2\n",
    "    prob_records.append(probs)\n",
    "    reward_records.append(rewards)\n",
    "    print(\"Iteration \"+str(i)+\" total expected reward: \", total_reward)\n",
    "    print(\"Iteration \"+str(i)+\" total mse loss: \", mse_loss)"
   ]
  },
  {
   "cell_type": "code",
   "execution_count": null,
   "id": "2e67a66a-931c-497a-a794-cccc88f0b962",
   "metadata": {},
   "outputs": [
    {
     "name": "stderr",
     "output_type": "stream",
     "text": [
      "1it [03:04, 184.88s/it]"
     ]
    },
    {
     "name": "stdout",
     "output_type": "stream",
     "text": [
      "Epoch 0 Batch 0 total expected reward:  tensor(1016.9069, device='cuda:0', grad_fn=<AddBackward0>)\n",
      "Batch 0 total mse loss:  tensor([4916.5386], device='cuda:0', grad_fn=<AddBackward0>)\n"
     ]
    },
    {
     "name": "stderr",
     "output_type": "stream",
     "text": [
      "2it [06:13, 186.97s/it]"
     ]
    },
    {
     "name": "stdout",
     "output_type": "stream",
     "text": [
      "Epoch 0 Batch 1 total expected reward:  tensor(404.0566, device='cuda:0', grad_fn=<AddBackward0>)\n",
      "Batch 1 total mse loss:  tensor([4228.8071], device='cuda:0', grad_fn=<AddBackward0>)\n"
     ]
    },
    {
     "name": "stderr",
     "output_type": "stream",
     "text": [
      "3it [09:24, 188.72s/it]"
     ]
    },
    {
     "name": "stdout",
     "output_type": "stream",
     "text": [
      "Epoch 0 Batch 2 total expected reward:  tensor(753.0262, device='cuda:0', grad_fn=<AddBackward0>)\n",
      "Batch 2 total mse loss:  tensor([4006.8752], device='cuda:0', grad_fn=<AddBackward0>)\n"
     ]
    },
    {
     "name": "stderr",
     "output_type": "stream",
     "text": [
      "4it [12:33, 188.97s/it]"
     ]
    },
    {
     "name": "stdout",
     "output_type": "stream",
     "text": [
      "Epoch 0 Batch 3 total expected reward:  tensor(570.3600, device='cuda:0', grad_fn=<AddBackward0>)\n",
      "Batch 3 total mse loss:  tensor([4125.3672], device='cuda:0', grad_fn=<AddBackward0>)\n"
     ]
    },
    {
     "name": "stderr",
     "output_type": "stream",
     "text": [
      "5it [15:37, 187.11s/it]"
     ]
    },
    {
     "name": "stdout",
     "output_type": "stream",
     "text": [
      "Epoch 0 Batch 4 total expected reward:  tensor(-85.6844, device='cuda:0', grad_fn=<AddBackward0>)\n",
      "Batch 4 total mse loss:  tensor([5101.0708], device='cuda:0', grad_fn=<AddBackward0>)\n"
     ]
    },
    {
     "name": "stderr",
     "output_type": "stream",
     "text": [
      "6it [18:40, 185.69s/it]"
     ]
    },
    {
     "name": "stdout",
     "output_type": "stream",
     "text": [
      "Epoch 0 Batch 5 total expected reward:  tensor(243.7928, device='cuda:0', grad_fn=<AddBackward0>)\n",
      "Batch 5 total mse loss:  tensor([4995.9551], device='cuda:0', grad_fn=<AddBackward0>)\n"
     ]
    },
    {
     "name": "stderr",
     "output_type": "stream",
     "text": [
      "7it [21:43, 184.84s/it]"
     ]
    },
    {
     "name": "stdout",
     "output_type": "stream",
     "text": [
      "Epoch 0 Batch 6 total expected reward:  tensor(218.7568, device='cuda:0', grad_fn=<AddBackward0>)\n",
      "Batch 6 total mse loss:  tensor([3814.1658], device='cuda:0', grad_fn=<AddBackward0>)\n"
     ]
    },
    {
     "name": "stderr",
     "output_type": "stream",
     "text": [
      "8it [24:46, 184.36s/it]"
     ]
    },
    {
     "name": "stdout",
     "output_type": "stream",
     "text": [
      "Epoch 0 Batch 7 total expected reward:  tensor(180.2791, device='cuda:0', grad_fn=<AddBackward0>)\n",
      "Batch 7 total mse loss:  tensor([3603.8333], device='cuda:0', grad_fn=<AddBackward0>)\n"
     ]
    },
    {
     "name": "stderr",
     "output_type": "stream",
     "text": [
      "9it [27:49, 183.86s/it]"
     ]
    },
    {
     "name": "stdout",
     "output_type": "stream",
     "text": [
      "Epoch 0 Batch 8 total expected reward:  tensor(228.3367, device='cuda:0', grad_fn=<AddBackward0>)\n",
      "Batch 8 total mse loss:  tensor([3703.2227], device='cuda:0', grad_fn=<AddBackward0>)\n"
     ]
    },
    {
     "name": "stderr",
     "output_type": "stream",
     "text": [
      "10it [30:58, 185.38s/it]"
     ]
    },
    {
     "name": "stdout",
     "output_type": "stream",
     "text": [
      "Epoch 0 Batch 9 total expected reward:  tensor(19.4229, device='cuda:0', grad_fn=<AddBackward0>)\n",
      "Batch 9 total mse loss:  tensor([4448.5674], device='cuda:0', grad_fn=<AddBackward0>)\n"
     ]
    },
    {
     "name": "stderr",
     "output_type": "stream",
     "text": [
      "11it [34:01, 184.67s/it]"
     ]
    },
    {
     "name": "stdout",
     "output_type": "stream",
     "text": [
      "Epoch 0 Batch 10 total expected reward:  tensor(84.8035, device='cuda:0', grad_fn=<AddBackward0>)\n",
      "Batch 10 total mse loss:  tensor([4350.8662], device='cuda:0', grad_fn=<AddBackward0>)\n"
     ]
    },
    {
     "name": "stderr",
     "output_type": "stream",
     "text": [
      "12it [37:04, 184.19s/it]"
     ]
    },
    {
     "name": "stdout",
     "output_type": "stream",
     "text": [
      "Epoch 0 Batch 11 total expected reward:  tensor(43.6808, device='cuda:0', grad_fn=<AddBackward0>)\n",
      "Batch 11 total mse loss:  tensor([4839.4316], device='cuda:0', grad_fn=<AddBackward0>)\n"
     ]
    },
    {
     "name": "stderr",
     "output_type": "stream",
     "text": [
      "13it [40:06, 183.72s/it]"
     ]
    },
    {
     "name": "stdout",
     "output_type": "stream",
     "text": [
      "Epoch 0 Batch 12 total expected reward:  tensor(86.5323, device='cuda:0', grad_fn=<AddBackward0>)\n",
      "Batch 12 total mse loss:  tensor([4624.2812], device='cuda:0', grad_fn=<AddBackward0>)\n"
     ]
    },
    {
     "name": "stderr",
     "output_type": "stream",
     "text": [
      "14it [43:10, 183.56s/it]"
     ]
    },
    {
     "name": "stdout",
     "output_type": "stream",
     "text": [
      "Epoch 0 Batch 13 total expected reward:  tensor(82.4327, device='cuda:0', grad_fn=<AddBackward0>)\n",
      "Batch 13 total mse loss:  tensor([3737.3894], device='cuda:0', grad_fn=<AddBackward0>)\n"
     ]
    },
    {
     "name": "stderr",
     "output_type": "stream",
     "text": [
      "15it [46:13, 183.39s/it]"
     ]
    },
    {
     "name": "stdout",
     "output_type": "stream",
     "text": [
      "Epoch 0 Batch 14 total expected reward:  tensor(2.5676, device='cuda:0', grad_fn=<AddBackward0>)\n",
      "Batch 14 total mse loss:  tensor([5085.5103], device='cuda:0', grad_fn=<AddBackward0>)\n"
     ]
    },
    {
     "name": "stderr",
     "output_type": "stream",
     "text": [
      "16it [49:16, 183.27s/it]"
     ]
    },
    {
     "name": "stdout",
     "output_type": "stream",
     "text": [
      "Epoch 0 Batch 15 total expected reward:  tensor(1.1845, device='cuda:0', grad_fn=<AddBackward0>)\n",
      "Batch 15 total mse loss:  tensor([4467.2900], device='cuda:0', grad_fn=<AddBackward0>)\n"
     ]
    },
    {
     "name": "stderr",
     "output_type": "stream",
     "text": [
      "17it [52:18, 183.08s/it]"
     ]
    },
    {
     "name": "stdout",
     "output_type": "stream",
     "text": [
      "Epoch 0 Batch 16 total expected reward:  tensor(-1.0540, device='cuda:0', grad_fn=<AddBackward0>)\n",
      "Batch 16 total mse loss:  tensor([7315.7681], device='cuda:0', grad_fn=<AddBackward0>)\n"
     ]
    },
    {
     "name": "stderr",
     "output_type": "stream",
     "text": [
      "18it [55:21, 182.95s/it]"
     ]
    },
    {
     "name": "stdout",
     "output_type": "stream",
     "text": [
      "Epoch 0 Batch 17 total expected reward:  tensor(0.0311, device='cuda:0', grad_fn=<AddBackward0>)\n",
      "Batch 17 total mse loss:  tensor([6836.4512], device='cuda:0', grad_fn=<AddBackward0>)\n"
     ]
    },
    {
     "name": "stderr",
     "output_type": "stream",
     "text": [
      "19it [58:24, 183.04s/it]"
     ]
    },
    {
     "name": "stdout",
     "output_type": "stream",
     "text": [
      "Epoch 0 Batch 18 total expected reward:  tensor(-0.0040, device='cuda:0', grad_fn=<AddBackward0>)\n",
      "Batch 18 total mse loss:  tensor([6357.5249], device='cuda:0', grad_fn=<AddBackward0>)\n"
     ]
    },
    {
     "name": "stderr",
     "output_type": "stream",
     "text": [
      "20it [1:01:27, 183.08s/it]"
     ]
    },
    {
     "name": "stdout",
     "output_type": "stream",
     "text": [
      "Epoch 0 Batch 19 total expected reward:  tensor(-0.0082, device='cuda:0', grad_fn=<AddBackward0>)\n",
      "Batch 19 total mse loss:  tensor([7962.1641], device='cuda:0', grad_fn=<AddBackward0>)\n"
     ]
    },
    {
     "name": "stderr",
     "output_type": "stream",
     "text": [
      "21it [1:04:35, 184.35s/it]"
     ]
    },
    {
     "name": "stdout",
     "output_type": "stream",
     "text": [
      "Epoch 0 Batch 20 total expected reward:  tensor(-0.0143, device='cuda:0', grad_fn=<AddBackward0>)\n",
      "Batch 20 total mse loss:  tensor([8594.5586], device='cuda:0', grad_fn=<AddBackward0>)\n"
     ]
    },
    {
     "name": "stderr",
     "output_type": "stream",
     "text": [
      "22it [1:07:38, 183.90s/it]"
     ]
    },
    {
     "name": "stdout",
     "output_type": "stream",
     "text": [
      "Epoch 0 Batch 21 total expected reward:  tensor(-0.0544, device='cuda:0', grad_fn=<AddBackward0>)\n",
      "Batch 21 total mse loss:  tensor([7550.9956], device='cuda:0', grad_fn=<AddBackward0>)\n"
     ]
    },
    {
     "name": "stderr",
     "output_type": "stream",
     "text": [
      "23it [1:10:47, 185.57s/it]"
     ]
    },
    {
     "name": "stdout",
     "output_type": "stream",
     "text": [
      "Epoch 0 Batch 22 total expected reward:  tensor(-0.0122, device='cuda:0', grad_fn=<AddBackward0>)\n",
      "Batch 22 total mse loss:  tensor([8897.7363], device='cuda:0', grad_fn=<AddBackward0>)\n"
     ]
    },
    {
     "name": "stderr",
     "output_type": "stream",
     "text": [
      "24it [1:13:50, 184.89s/it]"
     ]
    },
    {
     "name": "stdout",
     "output_type": "stream",
     "text": [
      "Epoch 0 Batch 23 total expected reward:  tensor(-0.0010, device='cuda:0', grad_fn=<AddBackward0>)\n",
      "Batch 23 total mse loss:  tensor([4967.7935], device='cuda:0', grad_fn=<AddBackward0>)\n"
     ]
    },
    {
     "name": "stderr",
     "output_type": "stream",
     "text": [
      "25it [1:16:53, 184.26s/it]"
     ]
    },
    {
     "name": "stdout",
     "output_type": "stream",
     "text": [
      "Epoch 0 Batch 24 total expected reward:  tensor(-0.0069, device='cuda:0', grad_fn=<AddBackward0>)\n",
      "Batch 24 total mse loss:  tensor([5089.6978], device='cuda:0', grad_fn=<AddBackward0>)\n"
     ]
    },
    {
     "name": "stderr",
     "output_type": "stream",
     "text": [
      "26it [1:19:56, 183.81s/it]"
     ]
    },
    {
     "name": "stdout",
     "output_type": "stream",
     "text": [
      "Epoch 0 Batch 25 total expected reward:  tensor(-0.0014, device='cuda:0', grad_fn=<AddBackward0>)\n",
      "Batch 25 total mse loss:  tensor([4638.7930], device='cuda:0', grad_fn=<AddBackward0>)\n"
     ]
    },
    {
     "name": "stderr",
     "output_type": "stream",
     "text": [
      "27it [1:23:00, 183.89s/it]"
     ]
    },
    {
     "name": "stdout",
     "output_type": "stream",
     "text": [
      "Epoch 0 Batch 26 total expected reward:  tensor(0.0007, device='cuda:0', grad_fn=<AddBackward0>)\n",
      "Batch 26 total mse loss:  tensor([5249.4731], device='cuda:0', grad_fn=<AddBackward0>)\n"
     ]
    },
    {
     "name": "stderr",
     "output_type": "stream",
     "text": [
      "28it [1:26:03, 183.74s/it]"
     ]
    },
    {
     "name": "stdout",
     "output_type": "stream",
     "text": [
      "Epoch 0 Batch 27 total expected reward:  tensor(-0.0275, device='cuda:0', grad_fn=<AddBackward0>)\n",
      "Batch 27 total mse loss:  tensor([6061.5889], device='cuda:0', grad_fn=<AddBackward0>)\n"
     ]
    },
    {
     "name": "stderr",
     "output_type": "stream",
     "text": [
      "29it [1:29:07, 183.66s/it]"
     ]
    },
    {
     "name": "stdout",
     "output_type": "stream",
     "text": [
      "Epoch 0 Batch 28 total expected reward:  tensor(-0.0036, device='cuda:0', grad_fn=<AddBackward0>)\n",
      "Batch 28 total mse loss:  tensor([5953.1812], device='cuda:0', grad_fn=<AddBackward0>)\n"
     ]
    },
    {
     "name": "stderr",
     "output_type": "stream",
     "text": [
      "30it [1:32:10, 183.56s/it]"
     ]
    },
    {
     "name": "stdout",
     "output_type": "stream",
     "text": [
      "Epoch 0 Batch 29 total expected reward:  tensor(-0.0053, device='cuda:0', grad_fn=<AddBackward0>)\n",
      "Batch 29 total mse loss:  tensor([6268.8320], device='cuda:0', grad_fn=<AddBackward0>)\n"
     ]
    },
    {
     "name": "stderr",
     "output_type": "stream",
     "text": [
      "31it [1:35:14, 183.61s/it]"
     ]
    },
    {
     "name": "stdout",
     "output_type": "stream",
     "text": [
      "Epoch 0 Batch 30 total expected reward:  tensor(-0.0103, device='cuda:0', grad_fn=<AddBackward0>)\n",
      "Batch 30 total mse loss:  tensor([7646.6675], device='cuda:0', grad_fn=<AddBackward0>)\n"
     ]
    },
    {
     "name": "stderr",
     "output_type": "stream",
     "text": [
      "32it [1:38:17, 183.58s/it]"
     ]
    },
    {
     "name": "stdout",
     "output_type": "stream",
     "text": [
      "Epoch 0 Batch 31 total expected reward:  tensor(-0.0043, device='cuda:0', grad_fn=<AddBackward0>)\n",
      "Batch 31 total mse loss:  tensor([5503.0444], device='cuda:0', grad_fn=<AddBackward0>)\n"
     ]
    },
    {
     "name": "stderr",
     "output_type": "stream",
     "text": [
      "33it [1:41:20, 183.27s/it]"
     ]
    },
    {
     "name": "stdout",
     "output_type": "stream",
     "text": [
      "Epoch 0 Batch 32 total expected reward:  tensor(-0.0031, device='cuda:0', grad_fn=<AddBackward0>)\n",
      "Batch 32 total mse loss:  tensor([5558.5527], device='cuda:0', grad_fn=<AddBackward0>)\n"
     ]
    },
    {
     "name": "stderr",
     "output_type": "stream",
     "text": [
      "34it [1:44:23, 183.36s/it]"
     ]
    },
    {
     "name": "stdout",
     "output_type": "stream",
     "text": [
      "Epoch 0 Batch 33 total expected reward:  tensor(-0.0088, device='cuda:0', grad_fn=<AddBackward0>)\n",
      "Batch 33 total mse loss:  tensor([7085.7886], device='cuda:0', grad_fn=<AddBackward0>)\n"
     ]
    },
    {
     "name": "stderr",
     "output_type": "stream",
     "text": [
      "35it [1:47:27, 183.30s/it]"
     ]
    },
    {
     "name": "stdout",
     "output_type": "stream",
     "text": [
      "Epoch 0 Batch 34 total expected reward:  tensor(-0.0130, device='cuda:0', grad_fn=<AddBackward0>)\n",
      "Batch 34 total mse loss:  tensor([8239.4844], device='cuda:0', grad_fn=<AddBackward0>)\n"
     ]
    },
    {
     "name": "stderr",
     "output_type": "stream",
     "text": [
      "36it [1:50:29, 183.14s/it]"
     ]
    },
    {
     "name": "stdout",
     "output_type": "stream",
     "text": [
      "Epoch 0 Batch 35 total expected reward:  tensor(-0.0043, device='cuda:0', grad_fn=<AddBackward0>)\n",
      "Batch 35 total mse loss:  tensor([5598.7573], device='cuda:0', grad_fn=<AddBackward0>)\n"
     ]
    },
    {
     "name": "stderr",
     "output_type": "stream",
     "text": [
      "37it [1:53:32, 183.10s/it]"
     ]
    },
    {
     "name": "stdout",
     "output_type": "stream",
     "text": [
      "Epoch 0 Batch 36 total expected reward:  tensor(-0.0131, device='cuda:0', grad_fn=<AddBackward0>)\n",
      "Batch 36 total mse loss:  tensor([7981.6836], device='cuda:0', grad_fn=<AddBackward0>)\n"
     ]
    },
    {
     "name": "stderr",
     "output_type": "stream",
     "text": [
      "38it [1:56:36, 183.10s/it]"
     ]
    },
    {
     "name": "stdout",
     "output_type": "stream",
     "text": [
      "Epoch 0 Batch 37 total expected reward:  tensor(-0.0116, device='cuda:0', grad_fn=<AddBackward0>)\n",
      "Batch 37 total mse loss:  tensor([7371.9585], device='cuda:0', grad_fn=<AddBackward0>)\n"
     ]
    },
    {
     "name": "stderr",
     "output_type": "stream",
     "text": [
      "39it [1:59:39, 183.13s/it]"
     ]
    },
    {
     "name": "stdout",
     "output_type": "stream",
     "text": [
      "Epoch 0 Batch 38 total expected reward:  tensor(-0.0119, device='cuda:0', grad_fn=<AddBackward0>)\n",
      "Batch 38 total mse loss:  tensor([6825.1416], device='cuda:0', grad_fn=<AddBackward0>)\n"
     ]
    },
    {
     "name": "stderr",
     "output_type": "stream",
     "text": [
      "40it [2:02:42, 183.15s/it]"
     ]
    },
    {
     "name": "stdout",
     "output_type": "stream",
     "text": [
      "Epoch 0 Batch 39 total expected reward:  tensor(-0.0072, device='cuda:0', grad_fn=<AddBackward0>)\n",
      "Batch 39 total mse loss:  tensor([5390.9570], device='cuda:0', grad_fn=<AddBackward0>)\n"
     ]
    },
    {
     "name": "stderr",
     "output_type": "stream",
     "text": [
      "41it [2:05:45, 183.12s/it]"
     ]
    },
    {
     "name": "stdout",
     "output_type": "stream",
     "text": [
      "Epoch 0 Batch 40 total expected reward:  tensor(0.0010, device='cuda:0', grad_fn=<AddBackward0>)\n",
      "Batch 40 total mse loss:  tensor([4396.9385], device='cuda:0', grad_fn=<AddBackward0>)\n"
     ]
    },
    {
     "name": "stderr",
     "output_type": "stream",
     "text": [
      "42it [2:08:48, 183.05s/it]"
     ]
    },
    {
     "name": "stdout",
     "output_type": "stream",
     "text": [
      "Epoch 0 Batch 41 total expected reward:  tensor(-0.0031, device='cuda:0', grad_fn=<AddBackward0>)\n",
      "Batch 41 total mse loss:  tensor([4575.1216], device='cuda:0', grad_fn=<AddBackward0>)\n"
     ]
    },
    {
     "name": "stderr",
     "output_type": "stream",
     "text": [
      "43it [2:11:52, 183.37s/it]"
     ]
    },
    {
     "name": "stdout",
     "output_type": "stream",
     "text": [
      "Epoch 0 Batch 42 total expected reward:  tensor(-0.0038, device='cuda:0', grad_fn=<AddBackward0>)\n",
      "Batch 42 total mse loss:  tensor([4108.1245], device='cuda:0', grad_fn=<AddBackward0>)\n"
     ]
    },
    {
     "name": "stderr",
     "output_type": "stream",
     "text": [
      "44it [2:14:55, 183.33s/it]"
     ]
    },
    {
     "name": "stdout",
     "output_type": "stream",
     "text": [
      "Epoch 0 Batch 43 total expected reward:  tensor(-0.0027, device='cuda:0', grad_fn=<AddBackward0>)\n",
      "Batch 43 total mse loss:  tensor([4514.3813], device='cuda:0', grad_fn=<AddBackward0>)\n"
     ]
    },
    {
     "name": "stderr",
     "output_type": "stream",
     "text": [
      "45it [2:17:58, 183.27s/it]"
     ]
    },
    {
     "name": "stdout",
     "output_type": "stream",
     "text": [
      "Epoch 0 Batch 44 total expected reward:  tensor(-0.0062, device='cuda:0', grad_fn=<AddBackward0>)\n",
      "Batch 44 total mse loss:  tensor([4919.3984], device='cuda:0', grad_fn=<AddBackward0>)\n"
     ]
    },
    {
     "name": "stderr",
     "output_type": "stream",
     "text": [
      "46it [2:21:03, 183.76s/it]"
     ]
    },
    {
     "name": "stdout",
     "output_type": "stream",
     "text": [
      "Epoch 0 Batch 45 total expected reward:  tensor(-0.0131, device='cuda:0', grad_fn=<AddBackward0>)\n",
      "Batch 45 total mse loss:  tensor([5993.8628], device='cuda:0', grad_fn=<AddBackward0>)\n"
     ]
    },
    {
     "name": "stderr",
     "output_type": "stream",
     "text": [
      "47it [2:24:06, 183.42s/it]"
     ]
    },
    {
     "name": "stdout",
     "output_type": "stream",
     "text": [
      "Epoch 0 Batch 46 total expected reward:  tensor(-0.0101, device='cuda:0', grad_fn=<AddBackward0>)\n",
      "Batch 46 total mse loss:  tensor([5377.4248], device='cuda:0', grad_fn=<AddBackward0>)\n"
     ]
    },
    {
     "name": "stderr",
     "output_type": "stream",
     "text": [
      "48it [2:27:09, 183.29s/it]"
     ]
    },
    {
     "name": "stdout",
     "output_type": "stream",
     "text": [
      "Epoch 0 Batch 47 total expected reward:  tensor(-0.0111, device='cuda:0', grad_fn=<AddBackward0>)\n",
      "Batch 47 total mse loss:  tensor([5398.7749], device='cuda:0', grad_fn=<AddBackward0>)\n"
     ]
    },
    {
     "name": "stderr",
     "output_type": "stream",
     "text": [
      "49it [2:30:12, 183.14s/it]"
     ]
    },
    {
     "name": "stdout",
     "output_type": "stream",
     "text": [
      "Epoch 0 Batch 48 total expected reward:  tensor(-0.0080, device='cuda:0', grad_fn=<AddBackward0>)\n",
      "Batch 48 total mse loss:  tensor([4665.1250], device='cuda:0', grad_fn=<AddBackward0>)\n"
     ]
    },
    {
     "name": "stderr",
     "output_type": "stream",
     "text": [
      "50it [2:33:15, 183.26s/it]"
     ]
    },
    {
     "name": "stdout",
     "output_type": "stream",
     "text": [
      "Epoch 0 Batch 49 total expected reward:  tensor(-0.0071, device='cuda:0', grad_fn=<AddBackward0>)\n",
      "Batch 49 total mse loss:  tensor([4387.9541], device='cuda:0', grad_fn=<AddBackward0>)\n"
     ]
    },
    {
     "name": "stderr",
     "output_type": "stream",
     "text": [
      "51it [2:36:20, 183.70s/it]"
     ]
    },
    {
     "name": "stdout",
     "output_type": "stream",
     "text": [
      "Epoch 0 Batch 50 total expected reward:  tensor(-0.0067, device='cuda:0', grad_fn=<AddBackward0>)\n",
      "Batch 50 total mse loss:  tensor([4339.1909], device='cuda:0', grad_fn=<AddBackward0>)\n"
     ]
    },
    {
     "name": "stderr",
     "output_type": "stream",
     "text": [
      "52it [2:39:24, 183.69s/it]"
     ]
    },
    {
     "name": "stdout",
     "output_type": "stream",
     "text": [
      "Epoch 0 Batch 51 total expected reward:  tensor(-0.0046, device='cuda:0', grad_fn=<AddBackward0>)\n",
      "Batch 51 total mse loss:  tensor([4309.1201], device='cuda:0', grad_fn=<AddBackward0>)\n"
     ]
    },
    {
     "name": "stderr",
     "output_type": "stream",
     "text": [
      "53it [2:42:27, 183.59s/it]"
     ]
    },
    {
     "name": "stdout",
     "output_type": "stream",
     "text": [
      "Epoch 0 Batch 52 total expected reward:  tensor(-0.0065, device='cuda:0', grad_fn=<AddBackward0>)\n",
      "Batch 52 total mse loss:  tensor([4332.1655], device='cuda:0', grad_fn=<AddBackward0>)\n"
     ]
    },
    {
     "name": "stderr",
     "output_type": "stream",
     "text": [
      "54it [2:45:30, 183.52s/it]"
     ]
    },
    {
     "name": "stdout",
     "output_type": "stream",
     "text": [
      "Epoch 0 Batch 53 total expected reward:  tensor(-0.0059, device='cuda:0', grad_fn=<AddBackward0>)\n",
      "Batch 53 total mse loss:  tensor([4185.9224], device='cuda:0', grad_fn=<AddBackward0>)\n"
     ]
    },
    {
     "name": "stderr",
     "output_type": "stream",
     "text": [
      "55it [2:48:34, 183.47s/it]"
     ]
    },
    {
     "name": "stdout",
     "output_type": "stream",
     "text": [
      "Epoch 0 Batch 54 total expected reward:  tensor(-0.0118, device='cuda:0', grad_fn=<AddBackward0>)\n",
      "Batch 54 total mse loss:  tensor([4696.1245], device='cuda:0', grad_fn=<AddBackward0>)\n"
     ]
    },
    {
     "name": "stderr",
     "output_type": "stream",
     "text": [
      "56it [2:51:37, 183.44s/it]"
     ]
    },
    {
     "name": "stdout",
     "output_type": "stream",
     "text": [
      "Epoch 0 Batch 55 total expected reward:  tensor(-0.0072, device='cuda:0', grad_fn=<AddBackward0>)\n",
      "Batch 55 total mse loss:  tensor([3741.0706], device='cuda:0', grad_fn=<AddBackward0>)\n"
     ]
    },
    {
     "name": "stderr",
     "output_type": "stream",
     "text": [
      "57it [2:54:40, 183.22s/it]"
     ]
    },
    {
     "name": "stdout",
     "output_type": "stream",
     "text": [
      "Epoch 0 Batch 56 total expected reward:  tensor(-0.0039, device='cuda:0', grad_fn=<AddBackward0>)\n",
      "Batch 56 total mse loss:  tensor([4022.4524], device='cuda:0', grad_fn=<AddBackward0>)\n"
     ]
    },
    {
     "name": "stderr",
     "output_type": "stream",
     "text": [
      "58it [2:57:43, 183.18s/it]"
     ]
    },
    {
     "name": "stdout",
     "output_type": "stream",
     "text": [
      "Epoch 0 Batch 57 total expected reward:  tensor(-0.0057, device='cuda:0', grad_fn=<AddBackward0>)\n",
      "Batch 57 total mse loss:  tensor([3942.8516], device='cuda:0', grad_fn=<AddBackward0>)\n"
     ]
    },
    {
     "name": "stderr",
     "output_type": "stream",
     "text": [
      "59it [3:00:46, 183.23s/it]"
     ]
    },
    {
     "name": "stdout",
     "output_type": "stream",
     "text": [
      "Epoch 0 Batch 58 total expected reward:  tensor(-0.0080, device='cuda:0', grad_fn=<AddBackward0>)\n",
      "Batch 58 total mse loss:  tensor([4300.3872], device='cuda:0', grad_fn=<AddBackward0>)\n"
     ]
    },
    {
     "name": "stderr",
     "output_type": "stream",
     "text": [
      "60it [3:03:50, 183.83s/it]"
     ]
    },
    {
     "name": "stdout",
     "output_type": "stream",
     "text": [
      "Epoch 0 Batch 59 total expected reward:  tensor(-0.0111, device='cuda:0', grad_fn=<AddBackward0>)\n",
      "Batch 59 total mse loss:  tensor([4057.8540], device='cuda:0', grad_fn=<AddBackward0>)\n"
     ]
    },
    {
     "name": "stderr",
     "output_type": "stream",
     "text": [
      "\n",
      "1it [03:06, 186.23s/it]"
     ]
    },
    {
     "name": "stdout",
     "output_type": "stream",
     "text": [
      "Epoch 1 Batch 0 total expected reward:  tensor(-0.0012, device='cuda:0', grad_fn=<AddBackward0>)\n",
      "Batch 0 total mse loss:  tensor([3738.5444], device='cuda:0', grad_fn=<AddBackward0>)\n"
     ]
    },
    {
     "name": "stderr",
     "output_type": "stream",
     "text": [
      "2it [06:09, 184.41s/it]"
     ]
    },
    {
     "name": "stdout",
     "output_type": "stream",
     "text": [
      "Epoch 1 Batch 1 total expected reward:  tensor(-0.0010, device='cuda:0', grad_fn=<AddBackward0>)\n",
      "Batch 1 total mse loss:  tensor([3778.4324], device='cuda:0', grad_fn=<AddBackward0>)\n"
     ]
    },
    {
     "name": "stderr",
     "output_type": "stream",
     "text": [
      "3it [09:12, 183.96s/it]"
     ]
    },
    {
     "name": "stdout",
     "output_type": "stream",
     "text": [
      "Epoch 1 Batch 2 total expected reward:  tensor(-0.0048, device='cuda:0', grad_fn=<AddBackward0>)\n",
      "Batch 2 total mse loss:  tensor([3351.2896], device='cuda:0', grad_fn=<AddBackward0>)\n"
     ]
    },
    {
     "name": "stderr",
     "output_type": "stream",
     "text": [
      "4it [12:15, 183.51s/it]"
     ]
    },
    {
     "name": "stdout",
     "output_type": "stream",
     "text": [
      "Epoch 1 Batch 3 total expected reward:  tensor(-0.0095, device='cuda:0', grad_fn=<AddBackward0>)\n",
      "Batch 3 total mse loss:  tensor([3887.1760], device='cuda:0', grad_fn=<AddBackward0>)\n"
     ]
    },
    {
     "name": "stderr",
     "output_type": "stream",
     "text": [
      "5it [15:19, 183.62s/it]"
     ]
    },
    {
     "name": "stdout",
     "output_type": "stream",
     "text": [
      "Epoch 1 Batch 4 total expected reward:  tensor(-0.0062, device='cuda:0', grad_fn=<AddBackward0>)\n",
      "Batch 4 total mse loss:  tensor([3920.5427], device='cuda:0', grad_fn=<AddBackward0>)\n"
     ]
    },
    {
     "name": "stderr",
     "output_type": "stream",
     "text": [
      "6it [18:22, 183.54s/it]"
     ]
    },
    {
     "name": "stdout",
     "output_type": "stream",
     "text": [
      "Epoch 1 Batch 5 total expected reward:  tensor(-0.0082, device='cuda:0', grad_fn=<AddBackward0>)\n",
      "Batch 5 total mse loss:  tensor([4219.5688], device='cuda:0', grad_fn=<AddBackward0>)\n"
     ]
    },
    {
     "name": "stderr",
     "output_type": "stream",
     "text": [
      "7it [21:25, 183.36s/it]"
     ]
    },
    {
     "name": "stdout",
     "output_type": "stream",
     "text": [
      "Epoch 1 Batch 6 total expected reward:  tensor(-0.0024, device='cuda:0', grad_fn=<AddBackward0>)\n",
      "Batch 6 total mse loss:  tensor([4577.5127], device='cuda:0', grad_fn=<AddBackward0>)\n"
     ]
    },
    {
     "name": "stderr",
     "output_type": "stream",
     "text": [
      "8it [24:29, 183.39s/it]"
     ]
    },
    {
     "name": "stdout",
     "output_type": "stream",
     "text": [
      "Epoch 1 Batch 7 total expected reward:  tensor(-0.0056, device='cuda:0', grad_fn=<AddBackward0>)\n",
      "Batch 7 total mse loss:  tensor([3830.0105], device='cuda:0', grad_fn=<AddBackward0>)\n"
     ]
    },
    {
     "name": "stderr",
     "output_type": "stream",
     "text": [
      "9it [27:32, 183.38s/it]"
     ]
    },
    {
     "name": "stdout",
     "output_type": "stream",
     "text": [
      "Epoch 1 Batch 8 total expected reward:  tensor(-0.0054, device='cuda:0', grad_fn=<AddBackward0>)\n",
      "Batch 8 total mse loss:  tensor([3400.0171], device='cuda:0', grad_fn=<AddBackward0>)\n"
     ]
    },
    {
     "name": "stderr",
     "output_type": "stream",
     "text": [
      "10it [30:35, 183.25s/it]"
     ]
    },
    {
     "name": "stdout",
     "output_type": "stream",
     "text": [
      "Epoch 1 Batch 9 total expected reward:  tensor(-0.0080, device='cuda:0', grad_fn=<AddBackward0>)\n",
      "Batch 9 total mse loss:  tensor([3770.7754], device='cuda:0', grad_fn=<AddBackward0>)\n"
     ]
    },
    {
     "name": "stderr",
     "output_type": "stream",
     "text": [
      "11it [33:39, 183.40s/it]"
     ]
    },
    {
     "name": "stdout",
     "output_type": "stream",
     "text": [
      "Epoch 1 Batch 10 total expected reward:  tensor(-0.0064, device='cuda:0', grad_fn=<AddBackward0>)\n",
      "Batch 10 total mse loss:  tensor([4412.8281], device='cuda:0', grad_fn=<AddBackward0>)\n"
     ]
    },
    {
     "name": "stderr",
     "output_type": "stream",
     "text": [
      "12it [36:42, 183.29s/it]"
     ]
    },
    {
     "name": "stdout",
     "output_type": "stream",
     "text": [
      "Epoch 1 Batch 11 total expected reward:  tensor(-0.0099, device='cuda:0', grad_fn=<AddBackward0>)\n",
      "Batch 11 total mse loss:  tensor([3628.6902], device='cuda:0', grad_fn=<AddBackward0>)\n"
     ]
    },
    {
     "name": "stderr",
     "output_type": "stream",
     "text": [
      "13it [39:45, 183.26s/it]"
     ]
    },
    {
     "name": "stdout",
     "output_type": "stream",
     "text": [
      "Epoch 1 Batch 12 total expected reward:  tensor(-0.0029, device='cuda:0', grad_fn=<AddBackward0>)\n",
      "Batch 12 total mse loss:  tensor([4459.6392], device='cuda:0', grad_fn=<AddBackward0>)\n"
     ]
    },
    {
     "name": "stderr",
     "output_type": "stream",
     "text": [
      "14it [42:48, 183.28s/it]"
     ]
    },
    {
     "name": "stdout",
     "output_type": "stream",
     "text": [
      "Epoch 1 Batch 13 total expected reward:  tensor(-0.0039, device='cuda:0', grad_fn=<AddBackward0>)\n",
      "Batch 13 total mse loss:  tensor([3476.3945], device='cuda:0', grad_fn=<AddBackward0>)\n"
     ]
    },
    {
     "name": "stderr",
     "output_type": "stream",
     "text": [
      "15it [45:52, 183.45s/it]"
     ]
    },
    {
     "name": "stdout",
     "output_type": "stream",
     "text": [
      "Epoch 1 Batch 14 total expected reward:  tensor(-0.0003, device='cuda:0', grad_fn=<AddBackward0>)\n",
      "Batch 14 total mse loss:  tensor([5175.2651], device='cuda:0', grad_fn=<AddBackward0>)\n"
     ]
    },
    {
     "name": "stderr",
     "output_type": "stream",
     "text": [
      "16it [48:56, 183.56s/it]"
     ]
    },
    {
     "name": "stdout",
     "output_type": "stream",
     "text": [
      "Epoch 1 Batch 15 total expected reward:  tensor(-0.0018, device='cuda:0', grad_fn=<AddBackward0>)\n",
      "Batch 15 total mse loss:  tensor([3797.0889], device='cuda:0', grad_fn=<AddBackward0>)\n"
     ]
    },
    {
     "name": "stderr",
     "output_type": "stream",
     "text": [
      "17it [51:59, 183.51s/it]"
     ]
    },
    {
     "name": "stdout",
     "output_type": "stream",
     "text": [
      "Epoch 1 Batch 16 total expected reward:  tensor(-0.0032, device='cuda:0', grad_fn=<AddBackward0>)\n",
      "Batch 16 total mse loss:  tensor([4408.0161], device='cuda:0', grad_fn=<AddBackward0>)\n"
     ]
    },
    {
     "name": "stderr",
     "output_type": "stream",
     "text": [
      "18it [55:03, 183.46s/it]"
     ]
    },
    {
     "name": "stdout",
     "output_type": "stream",
     "text": [
      "Epoch 1 Batch 17 total expected reward:  tensor(-0.0068, device='cuda:0', grad_fn=<AddBackward0>)\n",
      "Batch 17 total mse loss:  tensor([3442.2710], device='cuda:0', grad_fn=<AddBackward0>)\n"
     ]
    },
    {
     "name": "stderr",
     "output_type": "stream",
     "text": [
      "19it [58:06, 183.29s/it]"
     ]
    },
    {
     "name": "stdout",
     "output_type": "stream",
     "text": [
      "Epoch 1 Batch 18 total expected reward:  tensor(-0.0020, device='cuda:0', grad_fn=<AddBackward0>)\n",
      "Batch 18 total mse loss:  tensor([3804.2090], device='cuda:0', grad_fn=<AddBackward0>)\n"
     ]
    },
    {
     "name": "stderr",
     "output_type": "stream",
     "text": [
      "20it [1:01:09, 183.33s/it]"
     ]
    },
    {
     "name": "stdout",
     "output_type": "stream",
     "text": [
      "Epoch 1 Batch 19 total expected reward:  tensor(-0.0074, device='cuda:0', grad_fn=<AddBackward0>)\n",
      "Batch 19 total mse loss:  tensor([3633.5408], device='cuda:0', grad_fn=<AddBackward0>)\n"
     ]
    },
    {
     "name": "stderr",
     "output_type": "stream",
     "text": [
      "21it [1:04:13, 183.37s/it]"
     ]
    },
    {
     "name": "stdout",
     "output_type": "stream",
     "text": [
      "Epoch 1 Batch 20 total expected reward:  tensor(-0.0075, device='cuda:0', grad_fn=<AddBackward0>)\n",
      "Batch 20 total mse loss:  tensor([3737.6404], device='cuda:0', grad_fn=<AddBackward0>)\n"
     ]
    },
    {
     "name": "stderr",
     "output_type": "stream",
     "text": [
      "22it [1:07:16, 183.31s/it]"
     ]
    },
    {
     "name": "stdout",
     "output_type": "stream",
     "text": [
      "Epoch 1 Batch 21 total expected reward:  tensor(-0.0076, device='cuda:0', grad_fn=<AddBackward0>)\n",
      "Batch 21 total mse loss:  tensor([3082.6763], device='cuda:0', grad_fn=<AddBackward0>)\n"
     ]
    },
    {
     "name": "stderr",
     "output_type": "stream",
     "text": [
      "23it [1:10:22, 184.26s/it]"
     ]
    },
    {
     "name": "stdout",
     "output_type": "stream",
     "text": [
      "Epoch 1 Batch 22 total expected reward:  tensor(-0.0100, device='cuda:0', grad_fn=<AddBackward0>)\n",
      "Batch 22 total mse loss:  tensor([3168.4644], device='cuda:0', grad_fn=<AddBackward0>)\n"
     ]
    },
    {
     "name": "stderr",
     "output_type": "stream",
     "text": [
      "24it [1:13:31, 185.60s/it]"
     ]
    },
    {
     "name": "stdout",
     "output_type": "stream",
     "text": [
      "Epoch 1 Batch 23 total expected reward:  tensor(0.0016, device='cuda:0', grad_fn=<AddBackward0>)\n",
      "Batch 23 total mse loss:  tensor([5579.3506], device='cuda:0', grad_fn=<AddBackward0>)\n"
     ]
    },
    {
     "name": "stderr",
     "output_type": "stream",
     "text": [
      "25it [1:16:38, 185.92s/it]"
     ]
    },
    {
     "name": "stdout",
     "output_type": "stream",
     "text": [
      "Epoch 1 Batch 24 total expected reward:  tensor(0.0019, device='cuda:0', grad_fn=<AddBackward0>)\n",
      "Batch 24 total mse loss:  tensor([5720.8462], device='cuda:0', grad_fn=<AddBackward0>)\n"
     ]
    },
    {
     "name": "stderr",
     "output_type": "stream",
     "text": [
      "26it [1:19:42, 185.50s/it]"
     ]
    },
    {
     "name": "stdout",
     "output_type": "stream",
     "text": [
      "Epoch 1 Batch 25 total expected reward:  tensor(-0.0003, device='cuda:0', grad_fn=<AddBackward0>)\n",
      "Batch 25 total mse loss:  tensor([4319.8481], device='cuda:0', grad_fn=<AddBackward0>)\n"
     ]
    },
    {
     "name": "stderr",
     "output_type": "stream",
     "text": [
      "27it [1:22:46, 185.00s/it]"
     ]
    },
    {
     "name": "stdout",
     "output_type": "stream",
     "text": [
      "Epoch 1 Batch 26 total expected reward:  tensor(0.0006, device='cuda:0', grad_fn=<AddBackward0>)\n",
      "Batch 26 total mse loss:  tensor([5505.6606], device='cuda:0', grad_fn=<AddBackward0>)\n"
     ]
    },
    {
     "name": "stderr",
     "output_type": "stream",
     "text": [
      "28it [1:25:49, 184.51s/it]"
     ]
    },
    {
     "name": "stdout",
     "output_type": "stream",
     "text": [
      "Epoch 1 Batch 27 total expected reward:  tensor(-0.0039, device='cuda:0', grad_fn=<AddBackward0>)\n",
      "Batch 27 total mse loss:  tensor([4418.0225], device='cuda:0', grad_fn=<AddBackward0>)\n"
     ]
    },
    {
     "name": "stderr",
     "output_type": "stream",
     "text": [
      "29it [1:28:52, 184.09s/it]"
     ]
    },
    {
     "name": "stdout",
     "output_type": "stream",
     "text": [
      "Epoch 1 Batch 28 total expected reward:  tensor(-0.0032, device='cuda:0', grad_fn=<AddBackward0>)\n",
      "Batch 28 total mse loss:  tensor([4602.6748], device='cuda:0', grad_fn=<AddBackward0>)\n"
     ]
    },
    {
     "name": "stderr",
     "output_type": "stream",
     "text": [
      "30it [1:31:56, 183.84s/it]"
     ]
    },
    {
     "name": "stdout",
     "output_type": "stream",
     "text": [
      "Epoch 1 Batch 29 total expected reward:  tensor(-0.0048, device='cuda:0', grad_fn=<AddBackward0>)\n",
      "Batch 29 total mse loss:  tensor([4163.5142], device='cuda:0', grad_fn=<AddBackward0>)\n"
     ]
    },
    {
     "name": "stderr",
     "output_type": "stream",
     "text": [
      "31it [1:34:59, 183.73s/it]"
     ]
    },
    {
     "name": "stdout",
     "output_type": "stream",
     "text": [
      "Epoch 1 Batch 30 total expected reward:  tensor(-0.0098, device='cuda:0', grad_fn=<AddBackward0>)\n",
      "Batch 30 total mse loss:  tensor([3517.2683], device='cuda:0', grad_fn=<AddBackward0>)\n"
     ]
    },
    {
     "name": "stderr",
     "output_type": "stream",
     "text": [
      "32it [1:38:03, 183.69s/it]"
     ]
    },
    {
     "name": "stdout",
     "output_type": "stream",
     "text": [
      "Epoch 1 Batch 31 total expected reward:  tensor(-0.0051, device='cuda:0', grad_fn=<AddBackward0>)\n",
      "Batch 31 total mse loss:  tensor([3706.7026], device='cuda:0', grad_fn=<AddBackward0>)\n"
     ]
    },
    {
     "name": "stderr",
     "output_type": "stream",
     "text": [
      "33it [1:41:06, 183.51s/it]"
     ]
    },
    {
     "name": "stdout",
     "output_type": "stream",
     "text": [
      "Epoch 1 Batch 32 total expected reward:  tensor(-0.0031, device='cuda:0', grad_fn=<AddBackward0>)\n",
      "Batch 32 total mse loss:  tensor([4576.5303], device='cuda:0', grad_fn=<AddBackward0>)\n"
     ]
    },
    {
     "name": "stderr",
     "output_type": "stream",
     "text": [
      "34it [1:44:09, 183.46s/it]"
     ]
    },
    {
     "name": "stdout",
     "output_type": "stream",
     "text": [
      "Epoch 1 Batch 33 total expected reward:  tensor(-0.0079, device='cuda:0', grad_fn=<AddBackward0>)\n",
      "Batch 33 total mse loss:  tensor([4024.8303], device='cuda:0', grad_fn=<AddBackward0>)\n"
     ]
    },
    {
     "name": "stderr",
     "output_type": "stream",
     "text": [
      "35it [1:47:12, 183.26s/it]"
     ]
    },
    {
     "name": "stdout",
     "output_type": "stream",
     "text": [
      "Epoch 1 Batch 34 total expected reward:  tensor(-0.0136, device='cuda:0', grad_fn=<AddBackward0>)\n",
      "Batch 34 total mse loss:  tensor([3513.3564], device='cuda:0', grad_fn=<AddBackward0>)\n"
     ]
    },
    {
     "name": "stderr",
     "output_type": "stream",
     "text": [
      "36it [1:50:16, 183.38s/it]"
     ]
    },
    {
     "name": "stdout",
     "output_type": "stream",
     "text": [
      "Epoch 1 Batch 35 total expected reward:  tensor(-0.0045, device='cuda:0', grad_fn=<AddBackward0>)\n",
      "Batch 35 total mse loss:  tensor([4400.9673], device='cuda:0', grad_fn=<AddBackward0>)\n"
     ]
    },
    {
     "name": "stderr",
     "output_type": "stream",
     "text": [
      "37it [1:53:19, 183.35s/it]"
     ]
    },
    {
     "name": "stdout",
     "output_type": "stream",
     "text": [
      "Epoch 1 Batch 36 total expected reward:  tensor(-0.0135, device='cuda:0', grad_fn=<AddBackward0>)\n",
      "Batch 36 total mse loss:  tensor([3478.9106], device='cuda:0', grad_fn=<AddBackward0>)\n"
     ]
    },
    {
     "name": "stderr",
     "output_type": "stream",
     "text": [
      "38it [1:56:22, 183.40s/it]"
     ]
    },
    {
     "name": "stdout",
     "output_type": "stream",
     "text": [
      "Epoch 1 Batch 37 total expected reward:  tensor(-0.0107, device='cuda:0', grad_fn=<AddBackward0>)\n",
      "Batch 37 total mse loss:  tensor([3763.9404], device='cuda:0', grad_fn=<AddBackward0>)\n"
     ]
    },
    {
     "name": "stderr",
     "output_type": "stream",
     "text": [
      "39it [1:59:26, 183.58s/it]"
     ]
    },
    {
     "name": "stdout",
     "output_type": "stream",
     "text": [
      "Epoch 1 Batch 38 total expected reward:  tensor(-0.0118, device='cuda:0', grad_fn=<AddBackward0>)\n",
      "Batch 38 total mse loss:  tensor([3250.6606], device='cuda:0', grad_fn=<AddBackward0>)\n"
     ]
    },
    {
     "name": "stderr",
     "output_type": "stream",
     "text": [
      "40it [2:02:30, 183.70s/it]"
     ]
    },
    {
     "name": "stdout",
     "output_type": "stream",
     "text": [
      "Epoch 1 Batch 39 total expected reward:  tensor(-0.0076, device='cuda:0', grad_fn=<AddBackward0>)\n",
      "Batch 39 total mse loss:  tensor([3580.4814], device='cuda:0', grad_fn=<AddBackward0>)\n"
     ]
    },
    {
     "name": "stderr",
     "output_type": "stream",
     "text": [
      "41it [2:05:34, 183.65s/it]"
     ]
    },
    {
     "name": "stdout",
     "output_type": "stream",
     "text": [
      "Epoch 1 Batch 40 total expected reward:  tensor(0.0012, device='cuda:0', grad_fn=<AddBackward0>)\n",
      "Batch 40 total mse loss:  tensor([5217.1431], device='cuda:0', grad_fn=<AddBackward0>)\n"
     ]
    },
    {
     "name": "stderr",
     "output_type": "stream",
     "text": [
      "42it [2:08:37, 183.45s/it]"
     ]
    },
    {
     "name": "stdout",
     "output_type": "stream",
     "text": [
      "Epoch 1 Batch 41 total expected reward:  tensor(-0.0030, device='cuda:0', grad_fn=<AddBackward0>)\n",
      "Batch 41 total mse loss:  tensor([4416.0093], device='cuda:0', grad_fn=<AddBackward0>)\n"
     ]
    },
    {
     "name": "stderr",
     "output_type": "stream",
     "text": [
      "43it [2:11:40, 183.47s/it]"
     ]
    },
    {
     "name": "stdout",
     "output_type": "stream",
     "text": [
      "Epoch 1 Batch 42 total expected reward:  tensor(-0.0044, device='cuda:0', grad_fn=<AddBackward0>)\n",
      "Batch 42 total mse loss:  tensor([3771.7815], device='cuda:0', grad_fn=<AddBackward0>)\n"
     ]
    },
    {
     "name": "stderr",
     "output_type": "stream",
     "text": [
      "44it [2:14:45, 183.66s/it]"
     ]
    },
    {
     "name": "stdout",
     "output_type": "stream",
     "text": [
      "Epoch 1 Batch 43 total expected reward:  tensor(-0.0025, device='cuda:0', grad_fn=<AddBackward0>)\n",
      "Batch 43 total mse loss:  tensor([4262.9175], device='cuda:0', grad_fn=<AddBackward0>)\n"
     ]
    },
    {
     "name": "stderr",
     "output_type": "stream",
     "text": [
      "45it [2:17:48, 183.55s/it]"
     ]
    },
    {
     "name": "stdout",
     "output_type": "stream",
     "text": [
      "Epoch 1 Batch 44 total expected reward:  tensor(-0.0062, device='cuda:0', grad_fn=<AddBackward0>)\n",
      "Batch 44 total mse loss:  tensor([3898.2798], device='cuda:0', grad_fn=<AddBackward0>)\n"
     ]
    },
    {
     "name": "stderr",
     "output_type": "stream",
     "text": [
      "46it [2:20:51, 183.45s/it]"
     ]
    },
    {
     "name": "stdout",
     "output_type": "stream",
     "text": [
      "Epoch 1 Batch 45 total expected reward:  tensor(-0.0132, device='cuda:0', grad_fn=<AddBackward0>)\n",
      "Batch 45 total mse loss:  tensor([3474.5000], device='cuda:0', grad_fn=<AddBackward0>)\n"
     ]
    },
    {
     "name": "stderr",
     "output_type": "stream",
     "text": [
      "47it [2:23:54, 183.36s/it]"
     ]
    },
    {
     "name": "stdout",
     "output_type": "stream",
     "text": [
      "Epoch 1 Batch 46 total expected reward:  tensor(-0.0096, device='cuda:0', grad_fn=<AddBackward0>)\n",
      "Batch 46 total mse loss:  tensor([3490.7405], device='cuda:0', grad_fn=<AddBackward0>)\n"
     ]
    },
    {
     "name": "stderr",
     "output_type": "stream",
     "text": [
      "48it [2:26:58, 183.58s/it]"
     ]
    },
    {
     "name": "stdout",
     "output_type": "stream",
     "text": [
      "Epoch 1 Batch 47 total expected reward:  tensor(-0.0102, device='cuda:0', grad_fn=<AddBackward0>)\n",
      "Batch 47 total mse loss:  tensor([3794.9155], device='cuda:0', grad_fn=<AddBackward0>)\n"
     ]
    },
    {
     "name": "stderr",
     "output_type": "stream",
     "text": [
      "49it [2:30:01, 183.47s/it]"
     ]
    },
    {
     "name": "stdout",
     "output_type": "stream",
     "text": [
      "Epoch 1 Batch 48 total expected reward:  tensor(-0.0075, device='cuda:0', grad_fn=<AddBackward0>)\n",
      "Batch 48 total mse loss:  tensor([3555.9111], device='cuda:0', grad_fn=<AddBackward0>)\n"
     ]
    },
    {
     "name": "stderr",
     "output_type": "stream",
     "text": [
      "50it [2:33:05, 183.51s/it]"
     ]
    },
    {
     "name": "stdout",
     "output_type": "stream",
     "text": [
      "Epoch 1 Batch 49 total expected reward:  tensor(-0.0071, device='cuda:0', grad_fn=<AddBackward0>)\n",
      "Batch 49 total mse loss:  tensor([3776.5974], device='cuda:0', grad_fn=<AddBackward0>)\n"
     ]
    },
    {
     "name": "stderr",
     "output_type": "stream",
     "text": [
      "51it [2:36:09, 183.50s/it]"
     ]
    },
    {
     "name": "stdout",
     "output_type": "stream",
     "text": [
      "Epoch 1 Batch 50 total expected reward:  tensor(-0.0073, device='cuda:0', grad_fn=<AddBackward0>)\n",
      "Batch 50 total mse loss:  tensor([3559.9253], device='cuda:0', grad_fn=<AddBackward0>)\n"
     ]
    },
    {
     "name": "stderr",
     "output_type": "stream",
     "text": [
      "52it [2:39:12, 183.38s/it]"
     ]
    },
    {
     "name": "stdout",
     "output_type": "stream",
     "text": [
      "Epoch 1 Batch 51 total expected reward:  tensor(-0.0053, device='cuda:0', grad_fn=<AddBackward0>)\n",
      "Batch 51 total mse loss:  tensor([3956.7644], device='cuda:0', grad_fn=<AddBackward0>)\n"
     ]
    },
    {
     "name": "stderr",
     "output_type": "stream",
     "text": [
      "53it [2:42:15, 183.27s/it]"
     ]
    },
    {
     "name": "stdout",
     "output_type": "stream",
     "text": [
      "Epoch 1 Batch 52 total expected reward:  tensor(-0.0072, device='cuda:0', grad_fn=<AddBackward0>)\n",
      "Batch 52 total mse loss:  tensor([3761.3872], device='cuda:0', grad_fn=<AddBackward0>)\n"
     ]
    },
    {
     "name": "stderr",
     "output_type": "stream",
     "text": [
      "54it [2:45:18, 183.26s/it]"
     ]
    },
    {
     "name": "stdout",
     "output_type": "stream",
     "text": [
      "Epoch 1 Batch 53 total expected reward:  tensor(-0.0062, device='cuda:0', grad_fn=<AddBackward0>)\n",
      "Batch 53 total mse loss:  tensor([3745.6973], device='cuda:0', grad_fn=<AddBackward0>)\n"
     ]
    },
    {
     "name": "stderr",
     "output_type": "stream",
     "text": [
      "55it [2:48:20, 183.00s/it]"
     ]
    },
    {
     "name": "stdout",
     "output_type": "stream",
     "text": [
      "Epoch 1 Batch 54 total expected reward:  tensor(-0.0114, device='cuda:0', grad_fn=<AddBackward0>)\n",
      "Batch 54 total mse loss:  tensor([3298.7727], device='cuda:0', grad_fn=<AddBackward0>)\n"
     ]
    },
    {
     "name": "stderr",
     "output_type": "stream",
     "text": [
      "56it [2:51:23, 182.96s/it]"
     ]
    },
    {
     "name": "stdout",
     "output_type": "stream",
     "text": [
      "Epoch 1 Batch 55 total expected reward:  tensor(-0.0076, device='cuda:0', grad_fn=<AddBackward0>)\n",
      "Batch 55 total mse loss:  tensor([3326.0845], device='cuda:0', grad_fn=<AddBackward0>)\n"
     ]
    },
    {
     "name": "stderr",
     "output_type": "stream",
     "text": [
      "57it [2:54:26, 183.06s/it]"
     ]
    },
    {
     "name": "stdout",
     "output_type": "stream",
     "text": [
      "Epoch 1 Batch 56 total expected reward:  tensor(-0.0034, device='cuda:0', grad_fn=<AddBackward0>)\n",
      "Batch 56 total mse loss:  tensor([4174.3384], device='cuda:0', grad_fn=<AddBackward0>)\n"
     ]
    },
    {
     "name": "stderr",
     "output_type": "stream",
     "text": [
      "58it [2:57:30, 183.18s/it]"
     ]
    },
    {
     "name": "stdout",
     "output_type": "stream",
     "text": [
      "Epoch 1 Batch 57 total expected reward:  tensor(-0.0050, device='cuda:0', grad_fn=<AddBackward0>)\n",
      "Batch 57 total mse loss:  tensor([3664.1670], device='cuda:0', grad_fn=<AddBackward0>)\n"
     ]
    },
    {
     "name": "stderr",
     "output_type": "stream",
     "text": [
      "59it [3:00:33, 183.20s/it]"
     ]
    },
    {
     "name": "stdout",
     "output_type": "stream",
     "text": [
      "Epoch 1 Batch 58 total expected reward:  tensor(-0.0079, device='cuda:0', grad_fn=<AddBackward0>)\n",
      "Batch 58 total mse loss:  tensor([3671.9734], device='cuda:0', grad_fn=<AddBackward0>)\n"
     ]
    },
    {
     "name": "stderr",
     "output_type": "stream",
     "text": [
      "60it [3:03:37, 183.32s/it]"
     ]
    },
    {
     "name": "stdout",
     "output_type": "stream",
     "text": [
      "Epoch 1 Batch 59 total expected reward:  tensor(-0.0110, device='cuda:0', grad_fn=<AddBackward0>)\n",
      "Batch 59 total mse loss:  tensor([3481.4668], device='cuda:0', grad_fn=<AddBackward0>)\n"
     ]
    },
    {
     "name": "stderr",
     "output_type": "stream",
     "text": [
      "60it [3:03:37, 183.62s/it]\n",
      "1it [03:06, 186.15s/it]"
     ]
    },
    {
     "name": "stdout",
     "output_type": "stream",
     "text": [
      "Epoch 2 Batch 0 total expected reward:  tensor(-0.0014, device='cuda:0', grad_fn=<AddBackward0>)\n",
      "Batch 0 total mse loss:  tensor([4042.6140], device='cuda:0', grad_fn=<AddBackward0>)\n"
     ]
    },
    {
     "name": "stderr",
     "output_type": "stream",
     "text": [
      "2it [06:08, 184.14s/it]"
     ]
    },
    {
     "name": "stdout",
     "output_type": "stream",
     "text": [
      "Epoch 2 Batch 1 total expected reward:  tensor(-0.0010, device='cuda:0', grad_fn=<AddBackward0>)\n",
      "Batch 1 total mse loss:  tensor([4080.5486], device='cuda:0', grad_fn=<AddBackward0>)\n"
     ]
    },
    {
     "name": "stderr",
     "output_type": "stream",
     "text": [
      "3it [09:12, 183.84s/it]"
     ]
    },
    {
     "name": "stdout",
     "output_type": "stream",
     "text": [
      "Epoch 2 Batch 2 total expected reward:  tensor(-0.0044, device='cuda:0', grad_fn=<AddBackward0>)\n",
      "Batch 2 total mse loss:  tensor([3376.0002], device='cuda:0', grad_fn=<AddBackward0>)\n"
     ]
    },
    {
     "name": "stderr",
     "output_type": "stream",
     "text": [
      "4it [12:15, 183.73s/it]"
     ]
    },
    {
     "name": "stdout",
     "output_type": "stream",
     "text": [
      "Epoch 2 Batch 3 total expected reward:  tensor(-0.0088, device='cuda:0', grad_fn=<AddBackward0>)\n",
      "Batch 3 total mse loss:  tensor([3351.4998], device='cuda:0', grad_fn=<AddBackward0>)\n"
     ]
    },
    {
     "name": "stderr",
     "output_type": "stream",
     "text": [
      "5it [15:19, 183.79s/it]"
     ]
    },
    {
     "name": "stdout",
     "output_type": "stream",
     "text": [
      "Epoch 2 Batch 4 total expected reward:  tensor(-0.0063, device='cuda:0', grad_fn=<AddBackward0>)\n",
      "Batch 4 total mse loss:  tensor([3687.2834], device='cuda:0', grad_fn=<AddBackward0>)\n"
     ]
    },
    {
     "name": "stderr",
     "output_type": "stream",
     "text": [
      "6it [18:22, 183.53s/it]"
     ]
    },
    {
     "name": "stdout",
     "output_type": "stream",
     "text": [
      "Epoch 2 Batch 5 total expected reward:  tensor(-0.0076, device='cuda:0', grad_fn=<AddBackward0>)\n",
      "Batch 5 total mse loss:  tensor([3658.0208], device='cuda:0', grad_fn=<AddBackward0>)\n"
     ]
    },
    {
     "name": "stderr",
     "output_type": "stream",
     "text": [
      "7it [21:26, 183.53s/it]"
     ]
    },
    {
     "name": "stdout",
     "output_type": "stream",
     "text": [
      "Epoch 2 Batch 6 total expected reward:  tensor(-0.0026, device='cuda:0', grad_fn=<AddBackward0>)\n",
      "Batch 6 total mse loss:  tensor([4620.1382], device='cuda:0', grad_fn=<AddBackward0>)\n"
     ]
    },
    {
     "name": "stderr",
     "output_type": "stream",
     "text": [
      "8it [24:29, 183.33s/it]"
     ]
    },
    {
     "name": "stdout",
     "output_type": "stream",
     "text": [
      "Epoch 2 Batch 7 total expected reward:  tensor(-0.0056, device='cuda:0', grad_fn=<AddBackward0>)\n",
      "Batch 7 total mse loss:  tensor([3673.5881], device='cuda:0', grad_fn=<AddBackward0>)\n"
     ]
    },
    {
     "name": "stderr",
     "output_type": "stream",
     "text": [
      "9it [27:33, 183.46s/it]"
     ]
    },
    {
     "name": "stdout",
     "output_type": "stream",
     "text": [
      "Epoch 2 Batch 8 total expected reward:  tensor(-0.0054, device='cuda:0', grad_fn=<AddBackward0>)\n",
      "Batch 8 total mse loss:  tensor([3435.1799], device='cuda:0', grad_fn=<AddBackward0>)\n"
     ]
    },
    {
     "name": "stderr",
     "output_type": "stream",
     "text": [
      "10it [30:36, 183.47s/it]"
     ]
    },
    {
     "name": "stdout",
     "output_type": "stream",
     "text": [
      "Epoch 2 Batch 9 total expected reward:  tensor(-0.0084, device='cuda:0', grad_fn=<AddBackward0>)\n",
      "Batch 9 total mse loss:  tensor([3189.8325], device='cuda:0', grad_fn=<AddBackward0>)\n"
     ]
    },
    {
     "name": "stderr",
     "output_type": "stream",
     "text": [
      "11it [33:39, 183.37s/it]"
     ]
    },
    {
     "name": "stdout",
     "output_type": "stream",
     "text": [
      "Epoch 2 Batch 10 total expected reward:  tensor(-0.0078, device='cuda:0', grad_fn=<AddBackward0>)\n",
      "Batch 10 total mse loss:  tensor([3977.2395], device='cuda:0', grad_fn=<AddBackward0>)\n"
     ]
    },
    {
     "name": "stderr",
     "output_type": "stream",
     "text": [
      "12it [36:42, 183.33s/it]"
     ]
    },
    {
     "name": "stdout",
     "output_type": "stream",
     "text": [
      "Epoch 2 Batch 11 total expected reward:  tensor(-0.0104, device='cuda:0', grad_fn=<AddBackward0>)\n",
      "Batch 11 total mse loss:  tensor([3054.7043], device='cuda:0', grad_fn=<AddBackward0>)\n"
     ]
    },
    {
     "name": "stderr",
     "output_type": "stream",
     "text": [
      "13it [39:46, 183.36s/it]"
     ]
    },
    {
     "name": "stdout",
     "output_type": "stream",
     "text": [
      "Epoch 2 Batch 12 total expected reward:  tensor(-0.0031, device='cuda:0', grad_fn=<AddBackward0>)\n",
      "Batch 12 total mse loss:  tensor([4865.6455], device='cuda:0', grad_fn=<AddBackward0>)\n"
     ]
    },
    {
     "name": "stderr",
     "output_type": "stream",
     "text": [
      "14it [42:49, 183.34s/it]"
     ]
    },
    {
     "name": "stdout",
     "output_type": "stream",
     "text": [
      "Epoch 2 Batch 13 total expected reward:  tensor(-0.0041, device='cuda:0', grad_fn=<AddBackward0>)\n",
      "Batch 13 total mse loss:  tensor([3607.3845], device='cuda:0', grad_fn=<AddBackward0>)\n"
     ]
    },
    {
     "name": "stderr",
     "output_type": "stream",
     "text": [
      "15it [45:52, 183.35s/it]"
     ]
    },
    {
     "name": "stdout",
     "output_type": "stream",
     "text": [
      "Epoch 2 Batch 14 total expected reward:  tensor(-0.0001, device='cuda:0', grad_fn=<AddBackward0>)\n",
      "Batch 14 total mse loss:  tensor([5666.0361], device='cuda:0', grad_fn=<AddBackward0>)\n"
     ]
    },
    {
     "name": "stderr",
     "output_type": "stream",
     "text": [
      "16it [48:56, 183.37s/it]"
     ]
    },
    {
     "name": "stdout",
     "output_type": "stream",
     "text": [
      "Epoch 2 Batch 15 total expected reward:  tensor(-0.0016, device='cuda:0', grad_fn=<AddBackward0>)\n",
      "Batch 15 total mse loss:  tensor([4210.4590], device='cuda:0', grad_fn=<AddBackward0>)\n"
     ]
    },
    {
     "name": "stderr",
     "output_type": "stream",
     "text": [
      "17it [51:59, 183.34s/it]"
     ]
    },
    {
     "name": "stdout",
     "output_type": "stream",
     "text": [
      "Epoch 2 Batch 16 total expected reward:  tensor(-0.0034, device='cuda:0', grad_fn=<AddBackward0>)\n",
      "Batch 16 total mse loss:  tensor([4520.9961], device='cuda:0', grad_fn=<AddBackward0>)\n"
     ]
    },
    {
     "name": "stderr",
     "output_type": "stream",
     "text": [
      "18it [55:02, 183.31s/it]"
     ]
    },
    {
     "name": "stdout",
     "output_type": "stream",
     "text": [
      "Epoch 2 Batch 17 total expected reward:  tensor(-0.0061, device='cuda:0', grad_fn=<AddBackward0>)\n",
      "Batch 17 total mse loss:  tensor([3479.7087], device='cuda:0', grad_fn=<AddBackward0>)\n"
     ]
    },
    {
     "name": "stderr",
     "output_type": "stream",
     "text": [
      "19it [58:05, 183.22s/it]"
     ]
    },
    {
     "name": "stdout",
     "output_type": "stream",
     "text": [
      "Epoch 2 Batch 18 total expected reward:  tensor(-0.0016, device='cuda:0', grad_fn=<AddBackward0>)\n",
      "Batch 18 total mse loss:  tensor([4149.5356], device='cuda:0', grad_fn=<AddBackward0>)\n"
     ]
    },
    {
     "name": "stderr",
     "output_type": "stream",
     "text": [
      "20it [1:01:09, 183.37s/it]"
     ]
    },
    {
     "name": "stdout",
     "output_type": "stream",
     "text": [
      "Epoch 2 Batch 19 total expected reward:  tensor(-0.0077, device='cuda:0', grad_fn=<AddBackward0>)\n",
      "Batch 19 total mse loss:  tensor([3312.1580], device='cuda:0', grad_fn=<AddBackward0>)\n"
     ]
    },
    {
     "name": "stderr",
     "output_type": "stream",
     "text": [
      "21it [1:04:12, 183.24s/it]"
     ]
    },
    {
     "name": "stdout",
     "output_type": "stream",
     "text": [
      "Epoch 2 Batch 20 total expected reward:  tensor(-0.0079, device='cuda:0', grad_fn=<AddBackward0>)\n",
      "Batch 20 total mse loss:  tensor([3595.5771], device='cuda:0', grad_fn=<AddBackward0>)\n"
     ]
    },
    {
     "name": "stderr",
     "output_type": "stream",
     "text": [
      "22it [1:07:15, 183.14s/it]"
     ]
    },
    {
     "name": "stdout",
     "output_type": "stream",
     "text": [
      "Epoch 2 Batch 21 total expected reward:  tensor(-0.0067, device='cuda:0', grad_fn=<AddBackward0>)\n",
      "Batch 21 total mse loss:  tensor([3179.4197], device='cuda:0', grad_fn=<AddBackward0>)\n"
     ]
    },
    {
     "name": "stderr",
     "output_type": "stream",
     "text": [
      "23it [1:10:18, 183.12s/it]"
     ]
    },
    {
     "name": "stdout",
     "output_type": "stream",
     "text": [
      "Epoch 2 Batch 22 total expected reward:  tensor(-0.0096, device='cuda:0', grad_fn=<AddBackward0>)\n",
      "Batch 22 total mse loss:  tensor([3080.9353], device='cuda:0', grad_fn=<AddBackward0>)\n"
     ]
    },
    {
     "name": "stderr",
     "output_type": "stream",
     "text": [
      "24it [1:13:21, 183.01s/it]"
     ]
    },
    {
     "name": "stdout",
     "output_type": "stream",
     "text": [
      "Epoch 2 Batch 23 total expected reward:  tensor(0.0020, device='cuda:0', grad_fn=<AddBackward0>)\n",
      "Batch 23 total mse loss:  tensor([6177.8706], device='cuda:0', grad_fn=<AddBackward0>)\n"
     ]
    },
    {
     "name": "stderr",
     "output_type": "stream",
     "text": [
      "25it [1:16:24, 183.09s/it]"
     ]
    },
    {
     "name": "stdout",
     "output_type": "stream",
     "text": [
      "Epoch 2 Batch 24 total expected reward:  tensor(0.0020, device='cuda:0', grad_fn=<AddBackward0>)\n",
      "Batch 24 total mse loss:  tensor([6203.6353], device='cuda:0', grad_fn=<AddBackward0>)\n"
     ]
    },
    {
     "name": "stderr",
     "output_type": "stream",
     "text": [
      "26it [1:19:27, 183.16s/it]"
     ]
    },
    {
     "name": "stdout",
     "output_type": "stream",
     "text": [
      "Epoch 2 Batch 25 total expected reward:  tensor(-0.0013, device='cuda:0', grad_fn=<AddBackward0>)\n",
      "Batch 25 total mse loss:  tensor([4347.6274], device='cuda:0', grad_fn=<AddBackward0>)\n"
     ]
    },
    {
     "name": "stderr",
     "output_type": "stream",
     "text": [
      "27it [1:22:30, 183.03s/it]"
     ]
    },
    {
     "name": "stdout",
     "output_type": "stream",
     "text": [
      "Epoch 2 Batch 26 total expected reward:  tensor(0.0008, device='cuda:0', grad_fn=<AddBackward0>)\n",
      "Batch 26 total mse loss:  tensor([5558.8765], device='cuda:0', grad_fn=<AddBackward0>)\n"
     ]
    },
    {
     "name": "stderr",
     "output_type": "stream",
     "text": [
      "28it [1:25:33, 183.07s/it]"
     ]
    },
    {
     "name": "stdout",
     "output_type": "stream",
     "text": [
      "Epoch 2 Batch 27 total expected reward:  tensor(-0.0049, device='cuda:0', grad_fn=<AddBackward0>)\n",
      "Batch 27 total mse loss:  tensor([4157.4863], device='cuda:0', grad_fn=<AddBackward0>)\n"
     ]
    },
    {
     "name": "stderr",
     "output_type": "stream",
     "text": [
      "29it [1:28:36, 183.04s/it]"
     ]
    },
    {
     "name": "stdout",
     "output_type": "stream",
     "text": [
      "Epoch 2 Batch 28 total expected reward:  tensor(-0.0030, device='cuda:0', grad_fn=<AddBackward0>)\n",
      "Batch 28 total mse loss:  tensor([4825.8438], device='cuda:0', grad_fn=<AddBackward0>)\n"
     ]
    },
    {
     "name": "stderr",
     "output_type": "stream",
     "text": [
      "30it [1:31:39, 183.04s/it]"
     ]
    },
    {
     "name": "stdout",
     "output_type": "stream",
     "text": [
      "Epoch 2 Batch 29 total expected reward:  tensor(-0.0049, device='cuda:0', grad_fn=<AddBackward0>)\n",
      "Batch 29 total mse loss:  tensor([3966.2419], device='cuda:0', grad_fn=<AddBackward0>)\n"
     ]
    },
    {
     "name": "stderr",
     "output_type": "stream",
     "text": [
      "31it [1:34:43, 183.10s/it]"
     ]
    },
    {
     "name": "stdout",
     "output_type": "stream",
     "text": [
      "Epoch 2 Batch 30 total expected reward:  tensor(-0.0094, device='cuda:0', grad_fn=<AddBackward0>)\n",
      "Batch 30 total mse loss:  tensor([3411.4763], device='cuda:0', grad_fn=<AddBackward0>)\n"
     ]
    },
    {
     "name": "stderr",
     "output_type": "stream",
     "text": [
      "32it [1:37:46, 183.11s/it]"
     ]
    },
    {
     "name": "stdout",
     "output_type": "stream",
     "text": [
      "Epoch 2 Batch 31 total expected reward:  tensor(-0.0045, device='cuda:0', grad_fn=<AddBackward0>)\n",
      "Batch 31 total mse loss:  tensor([3774.3240], device='cuda:0', grad_fn=<AddBackward0>)\n"
     ]
    },
    {
     "name": "stderr",
     "output_type": "stream",
     "text": [
      "33it [1:40:50, 183.37s/it]"
     ]
    },
    {
     "name": "stdout",
     "output_type": "stream",
     "text": [
      "Epoch 2 Batch 32 total expected reward:  tensor(-0.0025, device='cuda:0', grad_fn=<AddBackward0>)\n",
      "Batch 32 total mse loss:  tensor([4687.8750], device='cuda:0', grad_fn=<AddBackward0>)\n"
     ]
    },
    {
     "name": "stderr",
     "output_type": "stream",
     "text": [
      "34it [1:43:53, 183.22s/it]"
     ]
    },
    {
     "name": "stdout",
     "output_type": "stream",
     "text": [
      "Epoch 2 Batch 33 total expected reward:  tensor(-0.0085, device='cuda:0', grad_fn=<AddBackward0>)\n",
      "Batch 33 total mse loss:  tensor([3927.1980], device='cuda:0', grad_fn=<AddBackward0>)\n"
     ]
    },
    {
     "name": "stderr",
     "output_type": "stream",
     "text": [
      "35it [1:46:56, 183.31s/it]"
     ]
    },
    {
     "name": "stdout",
     "output_type": "stream",
     "text": [
      "Epoch 2 Batch 34 total expected reward:  tensor(-0.0128, device='cuda:0', grad_fn=<AddBackward0>)\n",
      "Batch 34 total mse loss:  tensor([3220.0264], device='cuda:0', grad_fn=<AddBackward0>)\n"
     ]
    },
    {
     "name": "stderr",
     "output_type": "stream",
     "text": [
      "36it [1:49:59, 183.18s/it]"
     ]
    },
    {
     "name": "stdout",
     "output_type": "stream",
     "text": [
      "Epoch 2 Batch 35 total expected reward:  tensor(-0.0045, device='cuda:0', grad_fn=<AddBackward0>)\n",
      "Batch 35 total mse loss:  tensor([4429.3975], device='cuda:0', grad_fn=<AddBackward0>)\n"
     ]
    },
    {
     "name": "stderr",
     "output_type": "stream",
     "text": [
      "37it [1:53:02, 183.16s/it]"
     ]
    },
    {
     "name": "stdout",
     "output_type": "stream",
     "text": [
      "Epoch 2 Batch 36 total expected reward:  tensor(-0.0132, device='cuda:0', grad_fn=<AddBackward0>)\n",
      "Batch 36 total mse loss:  tensor([3199.3093], device='cuda:0', grad_fn=<AddBackward0>)\n"
     ]
    },
    {
     "name": "stderr",
     "output_type": "stream",
     "text": [
      "38it [1:56:05, 183.23s/it]"
     ]
    },
    {
     "name": "stdout",
     "output_type": "stream",
     "text": [
      "Epoch 2 Batch 37 total expected reward:  tensor(-0.0115, device='cuda:0', grad_fn=<AddBackward0>)\n",
      "Batch 37 total mse loss:  tensor([3403.0464], device='cuda:0', grad_fn=<AddBackward0>)\n"
     ]
    },
    {
     "name": "stderr",
     "output_type": "stream",
     "text": [
      "39it [1:59:09, 183.19s/it]"
     ]
    },
    {
     "name": "stdout",
     "output_type": "stream",
     "text": [
      "Epoch 2 Batch 38 total expected reward:  tensor(-0.0114, device='cuda:0', grad_fn=<AddBackward0>)\n",
      "Batch 38 total mse loss:  tensor([3087.5867], device='cuda:0', grad_fn=<AddBackward0>)\n"
     ]
    },
    {
     "name": "stderr",
     "output_type": "stream",
     "text": [
      "40it [2:02:12, 183.30s/it]"
     ]
    },
    {
     "name": "stdout",
     "output_type": "stream",
     "text": [
      "Epoch 2 Batch 39 total expected reward:  tensor(-0.0073, device='cuda:0', grad_fn=<AddBackward0>)\n",
      "Batch 39 total mse loss:  tensor([3478.1777], device='cuda:0', grad_fn=<AddBackward0>)\n"
     ]
    },
    {
     "name": "stderr",
     "output_type": "stream",
     "text": [
      "41it [2:05:16, 183.34s/it]"
     ]
    },
    {
     "name": "stdout",
     "output_type": "stream",
     "text": [
      "Epoch 2 Batch 40 total expected reward:  tensor(0.0004, device='cuda:0', grad_fn=<AddBackward0>)\n",
      "Batch 40 total mse loss:  tensor([5070.8198], device='cuda:0', grad_fn=<AddBackward0>)\n"
     ]
    },
    {
     "name": "stderr",
     "output_type": "stream",
     "text": [
      "42it [2:08:19, 183.33s/it]"
     ]
    },
    {
     "name": "stdout",
     "output_type": "stream",
     "text": [
      "Epoch 2 Batch 41 total expected reward:  tensor(-0.0030, device='cuda:0', grad_fn=<AddBackward0>)\n",
      "Batch 41 total mse loss:  tensor([4566.0264], device='cuda:0', grad_fn=<AddBackward0>)\n"
     ]
    },
    {
     "name": "stderr",
     "output_type": "stream",
     "text": [
      "43it [2:11:22, 183.29s/it]"
     ]
    },
    {
     "name": "stdout",
     "output_type": "stream",
     "text": [
      "Epoch 2 Batch 42 total expected reward:  tensor(-0.0037, device='cuda:0', grad_fn=<AddBackward0>)\n",
      "Batch 42 total mse loss:  tensor([4032.0840], device='cuda:0', grad_fn=<AddBackward0>)\n"
     ]
    },
    {
     "name": "stderr",
     "output_type": "stream",
     "text": [
      "44it [2:14:26, 183.42s/it]"
     ]
    },
    {
     "name": "stdout",
     "output_type": "stream",
     "text": [
      "Epoch 2 Batch 43 total expected reward:  tensor(-0.0035, device='cuda:0', grad_fn=<AddBackward0>)\n",
      "Batch 43 total mse loss:  tensor([4041.1836], device='cuda:0', grad_fn=<AddBackward0>)\n"
     ]
    },
    {
     "name": "stderr",
     "output_type": "stream",
     "text": [
      "45it [2:17:29, 183.34s/it]"
     ]
    },
    {
     "name": "stdout",
     "output_type": "stream",
     "text": [
      "Epoch 2 Batch 44 total expected reward:  tensor(-0.0065, device='cuda:0', grad_fn=<AddBackward0>)\n",
      "Batch 44 total mse loss:  tensor([3574.9272], device='cuda:0', grad_fn=<AddBackward0>)\n"
     ]
    },
    {
     "name": "stderr",
     "output_type": "stream",
     "text": [
      "46it [2:20:32, 183.27s/it]"
     ]
    },
    {
     "name": "stdout",
     "output_type": "stream",
     "text": [
      "Epoch 2 Batch 45 total expected reward:  tensor(-0.0131, device='cuda:0', grad_fn=<AddBackward0>)\n",
      "Batch 45 total mse loss:  tensor([3193.3992], device='cuda:0', grad_fn=<AddBackward0>)\n"
     ]
    },
    {
     "name": "stderr",
     "output_type": "stream",
     "text": [
      "47it [2:23:35, 183.13s/it]"
     ]
    },
    {
     "name": "stdout",
     "output_type": "stream",
     "text": [
      "Epoch 2 Batch 46 total expected reward:  tensor(-0.0103, device='cuda:0', grad_fn=<AddBackward0>)\n",
      "Batch 46 total mse loss:  tensor([3373.6230], device='cuda:0', grad_fn=<AddBackward0>)\n"
     ]
    },
    {
     "name": "stderr",
     "output_type": "stream",
     "text": [
      "48it [2:26:38, 183.08s/it]"
     ]
    },
    {
     "name": "stdout",
     "output_type": "stream",
     "text": [
      "Epoch 2 Batch 47 total expected reward:  tensor(-0.0102, device='cuda:0', grad_fn=<AddBackward0>)\n",
      "Batch 47 total mse loss:  tensor([3460.0049], device='cuda:0', grad_fn=<AddBackward0>)\n"
     ]
    },
    {
     "name": "stderr",
     "output_type": "stream",
     "text": [
      "49it [2:29:41, 183.07s/it]"
     ]
    },
    {
     "name": "stdout",
     "output_type": "stream",
     "text": [
      "Epoch 2 Batch 48 total expected reward:  tensor(-0.0073, device='cuda:0', grad_fn=<AddBackward0>)\n",
      "Batch 48 total mse loss:  tensor([3323.3330], device='cuda:0', grad_fn=<AddBackward0>)\n"
     ]
    },
    {
     "name": "stderr",
     "output_type": "stream",
     "text": [
      "50it [2:32:44, 183.08s/it]"
     ]
    },
    {
     "name": "stdout",
     "output_type": "stream",
     "text": [
      "Epoch 2 Batch 49 total expected reward:  tensor(-0.0070, device='cuda:0', grad_fn=<AddBackward0>)\n",
      "Batch 49 total mse loss:  tensor([3367.0090], device='cuda:0', grad_fn=<AddBackward0>)\n"
     ]
    },
    {
     "name": "stderr",
     "output_type": "stream",
     "text": [
      "51it [2:35:47, 183.08s/it]"
     ]
    },
    {
     "name": "stdout",
     "output_type": "stream",
     "text": [
      "Epoch 2 Batch 50 total expected reward:  tensor(-0.0073, device='cuda:0', grad_fn=<AddBackward0>)\n",
      "Batch 50 total mse loss:  tensor([3522.6333], device='cuda:0', grad_fn=<AddBackward0>)\n"
     ]
    },
    {
     "name": "stderr",
     "output_type": "stream",
     "text": [
      "52it [2:38:50, 183.06s/it]"
     ]
    },
    {
     "name": "stdout",
     "output_type": "stream",
     "text": [
      "Epoch 2 Batch 51 total expected reward:  tensor(-0.0048, device='cuda:0', grad_fn=<AddBackward0>)\n",
      "Batch 51 total mse loss:  tensor([4163.8677], device='cuda:0', grad_fn=<AddBackward0>)\n"
     ]
    },
    {
     "name": "stderr",
     "output_type": "stream",
     "text": [
      "53it [2:41:52, 182.76s/it]"
     ]
    },
    {
     "name": "stdout",
     "output_type": "stream",
     "text": [
      "Epoch 2 Batch 52 total expected reward:  tensor(-0.0069, device='cuda:0', grad_fn=<AddBackward0>)\n",
      "Batch 52 total mse loss:  tensor([3723.0659], device='cuda:0', grad_fn=<AddBackward0>)\n"
     ]
    },
    {
     "name": "stderr",
     "output_type": "stream",
     "text": [
      "54it [2:44:55, 182.84s/it]"
     ]
    },
    {
     "name": "stdout",
     "output_type": "stream",
     "text": [
      "Epoch 2 Batch 53 total expected reward:  tensor(-0.0063, device='cuda:0', grad_fn=<AddBackward0>)\n",
      "Batch 53 total mse loss:  tensor([3660.1062], device='cuda:0', grad_fn=<AddBackward0>)\n"
     ]
    },
    {
     "name": "stderr",
     "output_type": "stream",
     "text": [
      "55it [2:47:59, 183.08s/it]"
     ]
    },
    {
     "name": "stdout",
     "output_type": "stream",
     "text": [
      "Epoch 2 Batch 54 total expected reward:  tensor(-0.0117, device='cuda:0', grad_fn=<AddBackward0>)\n",
      "Batch 54 total mse loss:  tensor([3101.0220], device='cuda:0', grad_fn=<AddBackward0>)\n"
     ]
    },
    {
     "name": "stderr",
     "output_type": "stream",
     "text": [
      "56it [2:51:02, 183.20s/it]"
     ]
    },
    {
     "name": "stdout",
     "output_type": "stream",
     "text": [
      "Epoch 2 Batch 55 total expected reward:  tensor(-0.0074, device='cuda:0', grad_fn=<AddBackward0>)\n",
      "Batch 55 total mse loss:  tensor([3267.7825], device='cuda:0', grad_fn=<AddBackward0>)\n"
     ]
    },
    {
     "name": "stderr",
     "output_type": "stream",
     "text": [
      "57it [2:54:05, 183.18s/it]"
     ]
    },
    {
     "name": "stdout",
     "output_type": "stream",
     "text": [
      "Epoch 2 Batch 56 total expected reward:  tensor(-0.0034, device='cuda:0', grad_fn=<AddBackward0>)\n",
      "Batch 56 total mse loss:  tensor([4290.4360], device='cuda:0', grad_fn=<AddBackward0>)\n"
     ]
    },
    {
     "name": "stderr",
     "output_type": "stream",
     "text": [
      "58it [2:57:08, 183.15s/it]"
     ]
    },
    {
     "name": "stdout",
     "output_type": "stream",
     "text": [
      "Epoch 2 Batch 57 total expected reward:  tensor(-0.0048, device='cuda:0', grad_fn=<AddBackward0>)\n",
      "Batch 57 total mse loss:  tensor([3724.8091], device='cuda:0', grad_fn=<AddBackward0>)\n"
     ]
    },
    {
     "name": "stderr",
     "output_type": "stream",
     "text": [
      "59it [3:00:11, 183.10s/it]"
     ]
    },
    {
     "name": "stdout",
     "output_type": "stream",
     "text": [
      "Epoch 2 Batch 58 total expected reward:  tensor(-0.0082, device='cuda:0', grad_fn=<AddBackward0>)\n",
      "Batch 58 total mse loss:  tensor([3596.4644], device='cuda:0', grad_fn=<AddBackward0>)\n"
     ]
    },
    {
     "name": "stderr",
     "output_type": "stream",
     "text": [
      "60it [3:03:14, 183.07s/it]"
     ]
    },
    {
     "name": "stdout",
     "output_type": "stream",
     "text": [
      "Epoch 2 Batch 59 total expected reward:  tensor(-0.0115, device='cuda:0', grad_fn=<AddBackward0>)\n",
      "Batch 59 total mse loss:  tensor([3246.4705], device='cuda:0', grad_fn=<AddBackward0>)\n"
     ]
    },
    {
     "name": "stderr",
     "output_type": "stream",
     "text": [
      "60it [3:03:15, 183.25s/it]\n",
      "1it [03:05, 185.85s/it]"
     ]
    },
    {
     "name": "stdout",
     "output_type": "stream",
     "text": [
      "Epoch 3 Batch 0 total expected reward:  tensor(-0.0015, device='cuda:0', grad_fn=<AddBackward0>)\n",
      "Batch 0 total mse loss:  tensor([4083.3494], device='cuda:0', grad_fn=<AddBackward0>)\n"
     ]
    },
    {
     "name": "stderr",
     "output_type": "stream",
     "text": [
      "2it [06:08, 183.91s/it]"
     ]
    },
    {
     "name": "stdout",
     "output_type": "stream",
     "text": [
      "Epoch 3 Batch 1 total expected reward:  tensor(-0.0014, device='cuda:0', grad_fn=<AddBackward0>)\n",
      "Batch 1 total mse loss:  tensor([4086.1919], device='cuda:0', grad_fn=<AddBackward0>)\n"
     ]
    },
    {
     "name": "stderr",
     "output_type": "stream",
     "text": [
      "3it [09:11, 183.54s/it]"
     ]
    },
    {
     "name": "stdout",
     "output_type": "stream",
     "text": [
      "Epoch 3 Batch 2 total expected reward:  tensor(-0.0044, device='cuda:0', grad_fn=<AddBackward0>)\n",
      "Batch 2 total mse loss:  tensor([3505.6787], device='cuda:0', grad_fn=<AddBackward0>)\n"
     ]
    },
    {
     "name": "stderr",
     "output_type": "stream",
     "text": [
      "4it [12:14, 183.30s/it]"
     ]
    },
    {
     "name": "stdout",
     "output_type": "stream",
     "text": [
      "Epoch 3 Batch 3 total expected reward:  tensor(-0.0085, device='cuda:0', grad_fn=<AddBackward0>)\n",
      "Batch 3 total mse loss:  tensor([3446.6145], device='cuda:0', grad_fn=<AddBackward0>)\n"
     ]
    },
    {
     "name": "stderr",
     "output_type": "stream",
     "text": [
      "5it [15:17, 183.27s/it]"
     ]
    },
    {
     "name": "stdout",
     "output_type": "stream",
     "text": [
      "Epoch 3 Batch 4 total expected reward:  tensor(-0.0065, device='cuda:0', grad_fn=<AddBackward0>)\n",
      "Batch 4 total mse loss:  tensor([3787.4111], device='cuda:0', grad_fn=<AddBackward0>)\n"
     ]
    },
    {
     "name": "stderr",
     "output_type": "stream",
     "text": [
      "6it [18:20, 183.19s/it]"
     ]
    },
    {
     "name": "stdout",
     "output_type": "stream",
     "text": [
      "Epoch 3 Batch 5 total expected reward:  tensor(-0.0086, device='cuda:0', grad_fn=<AddBackward0>)\n",
      "Batch 5 total mse loss:  tensor([3528.7644], device='cuda:0', grad_fn=<AddBackward0>)\n"
     ]
    },
    {
     "name": "stderr",
     "output_type": "stream",
     "text": [
      "7it [21:23, 183.10s/it]"
     ]
    },
    {
     "name": "stdout",
     "output_type": "stream",
     "text": [
      "Epoch 3 Batch 6 total expected reward:  tensor(-0.0032, device='cuda:0', grad_fn=<AddBackward0>)\n",
      "Batch 6 total mse loss:  tensor([4656.1812], device='cuda:0', grad_fn=<AddBackward0>)\n"
     ]
    },
    {
     "name": "stderr",
     "output_type": "stream",
     "text": [
      "8it [24:26, 182.92s/it]"
     ]
    },
    {
     "name": "stdout",
     "output_type": "stream",
     "text": [
      "Epoch 3 Batch 7 total expected reward:  tensor(-0.0057, device='cuda:0', grad_fn=<AddBackward0>)\n",
      "Batch 7 total mse loss:  tensor([3754.2620], device='cuda:0', grad_fn=<AddBackward0>)\n"
     ]
    },
    {
     "name": "stderr",
     "output_type": "stream",
     "text": [
      "9it [27:28, 182.86s/it]"
     ]
    },
    {
     "name": "stdout",
     "output_type": "stream",
     "text": [
      "Epoch 3 Batch 8 total expected reward:  tensor(-0.0057, device='cuda:0', grad_fn=<AddBackward0>)\n",
      "Batch 8 total mse loss:  tensor([3474.1589], device='cuda:0', grad_fn=<AddBackward0>)\n"
     ]
    },
    {
     "name": "stderr",
     "output_type": "stream",
     "text": [
      "10it [30:31, 182.94s/it]"
     ]
    },
    {
     "name": "stdout",
     "output_type": "stream",
     "text": [
      "Epoch 3 Batch 9 total expected reward:  tensor(-0.0074, device='cuda:0', grad_fn=<AddBackward0>)\n",
      "Batch 9 total mse loss:  tensor([3236.4834], device='cuda:0', grad_fn=<AddBackward0>)\n"
     ]
    },
    {
     "name": "stderr",
     "output_type": "stream",
     "text": [
      "11it [33:35, 183.01s/it]"
     ]
    },
    {
     "name": "stdout",
     "output_type": "stream",
     "text": [
      "Epoch 3 Batch 10 total expected reward:  tensor(-0.0071, device='cuda:0', grad_fn=<AddBackward0>)\n",
      "Batch 10 total mse loss:  tensor([4050.5281], device='cuda:0', grad_fn=<AddBackward0>)\n"
     ]
    },
    {
     "name": "stderr",
     "output_type": "stream",
     "text": [
      "12it [36:38, 183.15s/it]"
     ]
    },
    {
     "name": "stdout",
     "output_type": "stream",
     "text": [
      "Epoch 3 Batch 11 total expected reward:  tensor(-0.0104, device='cuda:0', grad_fn=<AddBackward0>)\n",
      "Batch 11 total mse loss:  tensor([2913.4858], device='cuda:0', grad_fn=<AddBackward0>)\n"
     ]
    },
    {
     "name": "stderr",
     "output_type": "stream",
     "text": [
      "13it [39:41, 183.19s/it]"
     ]
    },
    {
     "name": "stdout",
     "output_type": "stream",
     "text": [
      "Epoch 3 Batch 12 total expected reward:  tensor(-0.0048, device='cuda:0', grad_fn=<AddBackward0>)\n",
      "Batch 12 total mse loss:  tensor([4274.2939], device='cuda:0', grad_fn=<AddBackward0>)\n"
     ]
    },
    {
     "name": "stderr",
     "output_type": "stream",
     "text": [
      "14it [42:44, 182.97s/it]"
     ]
    },
    {
     "name": "stdout",
     "output_type": "stream",
     "text": [
      "Epoch 3 Batch 13 total expected reward:  tensor(-0.0039, device='cuda:0', grad_fn=<AddBackward0>)\n",
      "Batch 13 total mse loss:  tensor([3586.6672], device='cuda:0', grad_fn=<AddBackward0>)\n"
     ]
    },
    {
     "name": "stderr",
     "output_type": "stream",
     "text": [
      "15it [45:46, 182.86s/it]"
     ]
    },
    {
     "name": "stdout",
     "output_type": "stream",
     "text": [
      "Epoch 3 Batch 14 total expected reward:  tensor(-4.8347e-05, device='cuda:0', grad_fn=<AddBackward0>)\n",
      "Batch 14 total mse loss:  tensor([5751.4912], device='cuda:0', grad_fn=<AddBackward0>)\n"
     ]
    },
    {
     "name": "stderr",
     "output_type": "stream",
     "text": [
      "16it [48:49, 182.84s/it]"
     ]
    },
    {
     "name": "stdout",
     "output_type": "stream",
     "text": [
      "Epoch 3 Batch 15 total expected reward:  tensor(-0.0009, device='cuda:0', grad_fn=<AddBackward0>)\n",
      "Batch 15 total mse loss:  tensor([4544.9443], device='cuda:0', grad_fn=<AddBackward0>)\n"
     ]
    },
    {
     "name": "stderr",
     "output_type": "stream",
     "text": [
      "17it [51:53, 183.03s/it]"
     ]
    },
    {
     "name": "stdout",
     "output_type": "stream",
     "text": [
      "Epoch 3 Batch 16 total expected reward:  tensor(-0.0030, device='cuda:0', grad_fn=<AddBackward0>)\n",
      "Batch 16 total mse loss:  tensor([4669.2354], device='cuda:0', grad_fn=<AddBackward0>)\n"
     ]
    },
    {
     "name": "stderr",
     "output_type": "stream",
     "text": [
      "18it [54:56, 183.11s/it]"
     ]
    },
    {
     "name": "stdout",
     "output_type": "stream",
     "text": [
      "Epoch 3 Batch 17 total expected reward:  tensor(-0.0064, device='cuda:0', grad_fn=<AddBackward0>)\n",
      "Batch 17 total mse loss:  tensor([3391.0996], device='cuda:0', grad_fn=<AddBackward0>)\n"
     ]
    },
    {
     "name": "stderr",
     "output_type": "stream",
     "text": [
      "19it [57:59, 183.05s/it]"
     ]
    },
    {
     "name": "stdout",
     "output_type": "stream",
     "text": [
      "Epoch 3 Batch 18 total expected reward:  tensor(-0.0020, device='cuda:0', grad_fn=<AddBackward0>)\n",
      "Batch 18 total mse loss:  tensor([4161.8193], device='cuda:0', grad_fn=<AddBackward0>)\n"
     ]
    },
    {
     "name": "stderr",
     "output_type": "stream",
     "text": [
      "20it [1:01:02, 183.05s/it]"
     ]
    },
    {
     "name": "stdout",
     "output_type": "stream",
     "text": [
      "Epoch 3 Batch 19 total expected reward:  tensor(-0.0075, device='cuda:0', grad_fn=<AddBackward0>)\n",
      "Batch 19 total mse loss:  tensor([3320.8921], device='cuda:0', grad_fn=<AddBackward0>)\n"
     ]
    },
    {
     "name": "stderr",
     "output_type": "stream",
     "text": [
      "21it [1:04:05, 182.97s/it]"
     ]
    },
    {
     "name": "stdout",
     "output_type": "stream",
     "text": [
      "Epoch 3 Batch 20 total expected reward:  tensor(-0.0080, device='cuda:0', grad_fn=<AddBackward0>)\n",
      "Batch 20 total mse loss:  tensor([3346.6970], device='cuda:0', grad_fn=<AddBackward0>)\n"
     ]
    },
    {
     "name": "stderr",
     "output_type": "stream",
     "text": [
      "22it [1:07:08, 183.10s/it]"
     ]
    },
    {
     "name": "stdout",
     "output_type": "stream",
     "text": [
      "Epoch 3 Batch 21 total expected reward:  tensor(-0.0072, device='cuda:0', grad_fn=<AddBackward0>)\n",
      "Batch 21 total mse loss:  tensor([3083.1621], device='cuda:0', grad_fn=<AddBackward0>)\n"
     ]
    },
    {
     "name": "stderr",
     "output_type": "stream",
     "text": [
      "23it [1:10:12, 183.35s/it]"
     ]
    },
    {
     "name": "stdout",
     "output_type": "stream",
     "text": [
      "Epoch 3 Batch 22 total expected reward:  tensor(-0.0095, device='cuda:0', grad_fn=<AddBackward0>)\n",
      "Batch 22 total mse loss:  tensor([3073.6023], device='cuda:0', grad_fn=<AddBackward0>)\n"
     ]
    },
    {
     "name": "stderr",
     "output_type": "stream",
     "text": [
      "24it [1:13:16, 183.44s/it]"
     ]
    },
    {
     "name": "stdout",
     "output_type": "stream",
     "text": [
      "Epoch 3 Batch 23 total expected reward:  tensor(0.0023, device='cuda:0', grad_fn=<AddBackward0>)\n",
      "Batch 23 total mse loss:  tensor([6307.7681], device='cuda:0', grad_fn=<AddBackward0>)\n"
     ]
    },
    {
     "name": "stderr",
     "output_type": "stream",
     "text": [
      "25it [1:16:19, 183.48s/it]"
     ]
    },
    {
     "name": "stdout",
     "output_type": "stream",
     "text": [
      "Epoch 3 Batch 24 total expected reward:  tensor(0.0021, device='cuda:0', grad_fn=<AddBackward0>)\n",
      "Batch 24 total mse loss:  tensor([6260.1890], device='cuda:0', grad_fn=<AddBackward0>)\n"
     ]
    },
    {
     "name": "stderr",
     "output_type": "stream",
     "text": [
      "26it [1:19:24, 183.70s/it]"
     ]
    },
    {
     "name": "stdout",
     "output_type": "stream",
     "text": [
      "Epoch 3 Batch 25 total expected reward:  tensor(-3.7965e-05, device='cuda:0', grad_fn=<AddBackward0>)\n",
      "Batch 25 total mse loss:  tensor([5025.8940], device='cuda:0', grad_fn=<AddBackward0>)\n"
     ]
    },
    {
     "name": "stderr",
     "output_type": "stream",
     "text": [
      "27it [1:22:28, 183.85s/it]"
     ]
    },
    {
     "name": "stdout",
     "output_type": "stream",
     "text": [
      "Epoch 3 Batch 26 total expected reward:  tensor(-5.8665e-05, device='cuda:0', grad_fn=<AddBackward0>)\n",
      "Batch 26 total mse loss:  tensor([5569.6934], device='cuda:0', grad_fn=<AddBackward0>)\n"
     ]
    },
    {
     "name": "stderr",
     "output_type": "stream",
     "text": [
      "28it [1:25:31, 183.67s/it]"
     ]
    },
    {
     "name": "stdout",
     "output_type": "stream",
     "text": [
      "Epoch 3 Batch 27 total expected reward:  tensor(-0.0038, device='cuda:0', grad_fn=<AddBackward0>)\n",
      "Batch 27 total mse loss:  tensor([4576.1484], device='cuda:0', grad_fn=<AddBackward0>)\n"
     ]
    },
    {
     "name": "stderr",
     "output_type": "stream",
     "text": [
      "29it [1:28:34, 183.58s/it]"
     ]
    },
    {
     "name": "stdout",
     "output_type": "stream",
     "text": [
      "Epoch 3 Batch 28 total expected reward:  tensor(-0.0032, device='cuda:0', grad_fn=<AddBackward0>)\n",
      "Batch 28 total mse loss:  tensor([4690.2773], device='cuda:0', grad_fn=<AddBackward0>)\n"
     ]
    },
    {
     "name": "stderr",
     "output_type": "stream",
     "text": [
      "30it [1:31:38, 183.46s/it]"
     ]
    },
    {
     "name": "stdout",
     "output_type": "stream",
     "text": [
      "Epoch 3 Batch 29 total expected reward:  tensor(-0.0042, device='cuda:0', grad_fn=<AddBackward0>)\n",
      "Batch 29 total mse loss:  tensor([4458.0601], device='cuda:0', grad_fn=<AddBackward0>)\n"
     ]
    },
    {
     "name": "stderr",
     "output_type": "stream",
     "text": [
      "31it [1:34:41, 183.37s/it]"
     ]
    },
    {
     "name": "stdout",
     "output_type": "stream",
     "text": [
      "Epoch 3 Batch 30 total expected reward:  tensor(-0.0095, device='cuda:0', grad_fn=<AddBackward0>)\n",
      "Batch 30 total mse loss:  tensor([3213.9563], device='cuda:0', grad_fn=<AddBackward0>)\n"
     ]
    },
    {
     "name": "stderr",
     "output_type": "stream",
     "text": [
      "33it [1:40:45, 182.77s/it]"
     ]
    },
    {
     "name": "stdout",
     "output_type": "stream",
     "text": [
      "Epoch 3 Batch 32 total expected reward:  tensor(-0.0023, device='cuda:0', grad_fn=<AddBackward0>)\n",
      "Batch 32 total mse loss:  tensor([5086.3945], device='cuda:0', grad_fn=<AddBackward0>)\n"
     ]
    },
    {
     "name": "stderr",
     "output_type": "stream",
     "text": [
      "34it [1:43:46, 182.34s/it]"
     ]
    },
    {
     "name": "stdout",
     "output_type": "stream",
     "text": [
      "Epoch 3 Batch 33 total expected reward:  tensor(-0.0079, device='cuda:0', grad_fn=<AddBackward0>)\n",
      "Batch 33 total mse loss:  tensor([4047.1174], device='cuda:0', grad_fn=<AddBackward0>)\n"
     ]
    },
    {
     "name": "stderr",
     "output_type": "stream",
     "text": [
      "35it [1:46:50, 182.56s/it]"
     ]
    },
    {
     "name": "stdout",
     "output_type": "stream",
     "text": [
      "Epoch 3 Batch 34 total expected reward:  tensor(-0.0129, device='cuda:0', grad_fn=<AddBackward0>)\n",
      "Batch 34 total mse loss:  tensor([3282.6880], device='cuda:0', grad_fn=<AddBackward0>)\n"
     ]
    },
    {
     "name": "stderr",
     "output_type": "stream",
     "text": [
      "36it [1:49:58, 184.41s/it]"
     ]
    },
    {
     "name": "stdout",
     "output_type": "stream",
     "text": [
      "Epoch 3 Batch 35 total expected reward:  tensor(-0.0049, device='cuda:0', grad_fn=<AddBackward0>)\n",
      "Batch 35 total mse loss:  tensor([4459.1309], device='cuda:0', grad_fn=<AddBackward0>)\n"
     ]
    },
    {
     "name": "stderr",
     "output_type": "stream",
     "text": [
      "37it [1:53:06, 185.43s/it]"
     ]
    },
    {
     "name": "stdout",
     "output_type": "stream",
     "text": [
      "Epoch 3 Batch 36 total expected reward:  tensor(-0.0127, device='cuda:0', grad_fn=<AddBackward0>)\n",
      "Batch 36 total mse loss:  tensor([3246.9558], device='cuda:0', grad_fn=<AddBackward0>)\n"
     ]
    },
    {
     "name": "stderr",
     "output_type": "stream",
     "text": [
      "38it [1:56:09, 184.81s/it]"
     ]
    },
    {
     "name": "stdout",
     "output_type": "stream",
     "text": [
      "Epoch 3 Batch 37 total expected reward:  tensor(-0.0109, device='cuda:0', grad_fn=<AddBackward0>)\n",
      "Batch 37 total mse loss:  tensor([3416.2495], device='cuda:0', grad_fn=<AddBackward0>)\n"
     ]
    },
    {
     "name": "stderr",
     "output_type": "stream",
     "text": [
      "39it [1:59:14, 184.66s/it]"
     ]
    },
    {
     "name": "stdout",
     "output_type": "stream",
     "text": [
      "Epoch 3 Batch 38 total expected reward:  tensor(-0.0118, device='cuda:0', grad_fn=<AddBackward0>)\n",
      "Batch 38 total mse loss:  tensor([2894.9695], device='cuda:0', grad_fn=<AddBackward0>)\n"
     ]
    },
    {
     "name": "stderr",
     "output_type": "stream",
     "text": [
      "40it [2:02:17, 184.22s/it]"
     ]
    },
    {
     "name": "stdout",
     "output_type": "stream",
     "text": [
      "Epoch 3 Batch 39 total expected reward:  tensor(-0.0068, device='cuda:0', grad_fn=<AddBackward0>)\n",
      "Batch 39 total mse loss:  tensor([3839.3582], device='cuda:0', grad_fn=<AddBackward0>)\n"
     ]
    }
   ],
   "source": [
    "'''\n",
    "reward_results = np.empty((50, 60))\n",
    "value_loss_results = np.empty((50, 60))\n",
    "for epoch in range(50):\n",
    "    for i, (train_batch, label) in tqdm(enumerate(dataloader)):\n",
    "    #for i in tqdm(range(100)):\n",
    "        rewards, values, probs = a3c.run(train_batch)\n",
    "        total_reward = 0\n",
    "        mse_loss = 0\n",
    "        for j in range(len(probs)):\n",
    "            total_reward += probs[j] * rewards[j]\n",
    "            mse_loss += (rewards[j] - values[j]) ** 2\n",
    "\n",
    "        print(\"Epoch \"+ str(epoch)+\" Batch \"+str(i)+\" total expected reward: \", total_reward)\n",
    "        print(\"Batch \"+str(i)+\" total mse loss: \", mse_loss)\n",
    "        reward_results[epoch][i] = total_reward.detach().cpu().numpy()\n",
    "        value_loss_results[epoch][i] = mse_loss.detach().cpu().numpy()\n",
    "        #if i%10 == 0:\n",
    "        #    torch.save(a3c.PPnet_multi, '../saved_models/iteration_'+str(i)+'_ppnet_multi_'+str(total_reward))\n",
    "        #    torch.save(a3c.critic_model, '../saved_models/iteration_'+str(i)+'_critic_model_'+str(mse_loss))\n",
    "        del train_batch\n",
    "        for prob in probs:\n",
    "            del prob\n",
    "        del values\n",
    "        del rewards\n",
    "    avg_reward = np.mean(reward_results[epoch])\n",
    "    torch.save(a3c.PPnet_multi, '../saved_models/ep_'+str(epoch)+'_ppnet_multi_'+str(avg_reward))\n",
    "    torch.save(a3c.critic_model, '../saved_models/ep_'+str(epoch)+'_critic_model_'+str(avg_reward))\n",
    "'''"
   ]
  },
  {
   "cell_type": "code",
   "execution_count": 1,
   "id": "b0ebde34-39e1-4072-affe-9fde37b8305c",
   "metadata": {},
   "outputs": [
    {
     "ename": "NameError",
     "evalue": "name 'reward_results' is not defined",
     "output_type": "error",
     "traceback": [
      "\u001b[0;31m---------------------------------------------------------------------------\u001b[0m",
      "\u001b[0;31mNameError\u001b[0m                                 Traceback (most recent call last)",
      "Input \u001b[0;32mIn [1]\u001b[0m, in \u001b[0;36m<cell line: 1>\u001b[0;34m()\u001b[0m\n\u001b[0;32m----> 1\u001b[0m \u001b[43mreward_results\u001b[49m\n",
      "\u001b[0;31mNameError\u001b[0m: name 'reward_results' is not defined"
     ]
    }
   ],
   "source": []
  },
  {
   "cell_type": "code",
   "execution_count": 11,
   "id": "342f4307-0dfc-4325-8f29-44a63f0a4112",
   "metadata": {},
   "outputs": [
    {
     "data": {
      "text/plain": [
       "[tensor(0.7500, device='cuda:0', grad_fn=<MulBackward0>),\n",
       " tensor(6.0000, device='cuda:0', grad_fn=<MulBackward0>),\n",
       " tensor(6.0000, device='cuda:0', grad_fn=<MulBackward0>),\n",
       " tensor(6.0000, device='cuda:0', grad_fn=<MulBackward0>),\n",
       " tensor(6.0000, device='cuda:0', grad_fn=<MulBackward0>),\n",
       " tensor(6.0000, device='cuda:0', grad_fn=<MulBackward0>),\n",
       " tensor(6.0000, device='cuda:0', grad_fn=<MulBackward0>),\n",
       " tensor(6.0000, device='cuda:0', grad_fn=<MulBackward0>),\n",
       " tensor(6.0000, device='cuda:0', grad_fn=<MulBackward0>),\n",
       " tensor(6.0000, device='cuda:0', grad_fn=<MulBackward0>),\n",
       " tensor(6.0000, device='cuda:0', grad_fn=<MulBackward0>),\n",
       " tensor(6.0000, device='cuda:0', grad_fn=<MulBackward0>),\n",
       " tensor(5.9786, device='cuda:0', grad_fn=<MulBackward0>),\n",
       " tensor(6.0000, device='cuda:0', grad_fn=<MulBackward0>),\n",
       " tensor(6.0000, device='cuda:0', grad_fn=<MulBackward0>),\n",
       " tensor(1.5459e-05, device='cuda:0', grad_fn=<MulBackward0>),\n",
       " tensor(3.0292e-05, device='cuda:0', grad_fn=<MulBackward0>),\n",
       " tensor(2.0818e-05, device='cuda:0', grad_fn=<MulBackward0>),\n",
       " tensor(0.0002, device='cuda:0', grad_fn=<MulBackward0>),\n",
       " tensor(4.1936e-05, device='cuda:0', grad_fn=<MulBackward0>),\n",
       " tensor(9.0747e-06, device='cuda:0', grad_fn=<MulBackward0>),\n",
       " tensor(1.4382e-05, device='cuda:0', grad_fn=<MulBackward0>),\n",
       " tensor(5.3645, device='cuda:0', grad_fn=<MulBackward0>),\n",
       " tensor(0.0025, device='cuda:0', grad_fn=<MulBackward0>),\n",
       " tensor(2.6436e-05, device='cuda:0', grad_fn=<MulBackward0>),\n",
       " tensor(8.9485e-06, device='cuda:0', grad_fn=<MulBackward0>),\n",
       " tensor(3.2881e-05, device='cuda:0', grad_fn=<MulBackward0>),\n",
       " tensor(1.9001e-05, device='cuda:0', grad_fn=<MulBackward0>),\n",
       " tensor(9.8735e-06, device='cuda:0', grad_fn=<MulBackward0>),\n",
       " tensor(8.1639e-06, device='cuda:0', grad_fn=<MulBackward0>),\n",
       " tensor(1.0516e-05, device='cuda:0', grad_fn=<MulBackward0>),\n",
       " tensor(1.0358e-05, device='cuda:0', grad_fn=<MulBackward0>),\n",
       " tensor(1.3585e-05, device='cuda:0', grad_fn=<MulBackward0>),\n",
       " tensor(1.2117e-05, device='cuda:0', grad_fn=<MulBackward0>),\n",
       " tensor(4.3173e-06, device='cuda:0', grad_fn=<MulBackward0>),\n",
       " tensor(5.9706, device='cuda:0', grad_fn=<MulBackward0>),\n",
       " tensor(0.0478, device='cuda:0', grad_fn=<MulBackward0>),\n",
       " tensor(2.0023, device='cuda:0', grad_fn=<MulBackward0>),\n",
       " tensor(4.3972, device='cuda:0', grad_fn=<MulBackward0>),\n",
       " tensor(0.0006, device='cuda:0', grad_fn=<MulBackward0>),\n",
       " tensor(0.0076, device='cuda:0', grad_fn=<MulBackward0>),\n",
       " tensor(4.1327e-06, device='cuda:0', grad_fn=<MulBackward0>),\n",
       " tensor(1.7642e-05, device='cuda:0', grad_fn=<MulBackward0>),\n",
       " tensor(0.0272, device='cuda:0', grad_fn=<MulBackward0>),\n",
       " tensor(7.1181e-06, device='cuda:0', grad_fn=<MulBackward0>),\n",
       " tensor(0.0001, device='cuda:0', grad_fn=<MulBackward0>),\n",
       " tensor(7.3990e-06, device='cuda:0', grad_fn=<MulBackward0>),\n",
       " tensor(7.2967e-06, device='cuda:0', grad_fn=<MulBackward0>),\n",
       " tensor(1.0155e-05, device='cuda:0', grad_fn=<MulBackward0>),\n",
       " tensor(9.1190e-06, device='cuda:0', grad_fn=<MulBackward0>),\n",
       " tensor(7.4819e-05, device='cuda:0', grad_fn=<MulBackward0>),\n",
       " tensor(0.0004, device='cuda:0', grad_fn=<MulBackward0>),\n",
       " tensor(0.0040, device='cuda:0', grad_fn=<MulBackward0>),\n",
       " tensor(0.0002, device='cuda:0', grad_fn=<MulBackward0>),\n",
       " tensor(2.3954e-05, device='cuda:0', grad_fn=<MulBackward0>),\n",
       " tensor(1.1975e-05, device='cuda:0', grad_fn=<MulBackward0>),\n",
       " tensor(1.6556e-05, device='cuda:0', grad_fn=<MulBackward0>),\n",
       " tensor(1.7155e-05, device='cuda:0', grad_fn=<MulBackward0>),\n",
       " tensor(1.5996e-05, device='cuda:0', grad_fn=<MulBackward0>),\n",
       " tensor(7.5801e-06, device='cuda:0', grad_fn=<MulBackward0>),\n",
       " tensor(6.2389e-05, device='cuda:0', grad_fn=<MulBackward0>),\n",
       " tensor(1.3661e-05, device='cuda:0', grad_fn=<MulBackward0>),\n",
       " tensor(4.2210e-05, device='cuda:0', grad_fn=<MulBackward0>),\n",
       " tensor(9.0938e-05, device='cuda:0', grad_fn=<MulBackward0>),\n",
       " tensor(9.5970e-06, device='cuda:0', grad_fn=<MulBackward0>),\n",
       " tensor(1.2972e-05, device='cuda:0', grad_fn=<MulBackward0>),\n",
       " tensor(1.1074e-05, device='cuda:0', grad_fn=<MulBackward0>),\n",
       " tensor(1.2222e-05, device='cuda:0', grad_fn=<MulBackward0>),\n",
       " tensor(0.0001, device='cuda:0', grad_fn=<MulBackward0>),\n",
       " tensor(1.3825e-05, device='cuda:0', grad_fn=<MulBackward0>),\n",
       " tensor(1.3398e-05, device='cuda:0', grad_fn=<MulBackward0>),\n",
       " tensor(8.2056e-06, device='cuda:0', grad_fn=<MulBackward0>),\n",
       " tensor(1.4087e-05, device='cuda:0', grad_fn=<MulBackward0>),\n",
       " tensor(1.1499e-05, device='cuda:0', grad_fn=<MulBackward0>),\n",
       " tensor(8.7259e-06, device='cuda:0', grad_fn=<MulBackward0>),\n",
       " tensor(4.9746e-05, device='cuda:0', grad_fn=<MulBackward0>),\n",
       " tensor(1.1762e-05, device='cuda:0', grad_fn=<MulBackward0>),\n",
       " tensor(8.2213e-06, device='cuda:0', grad_fn=<MulBackward0>),\n",
       " tensor(0.0116, device='cuda:0', grad_fn=<MulBackward0>),\n",
       " tensor(1.3718e-05, device='cuda:0', grad_fn=<MulBackward0>),\n",
       " tensor(1.2336e-05, device='cuda:0', grad_fn=<MulBackward0>),\n",
       " tensor(1.4473e-05, device='cuda:0', grad_fn=<MulBackward0>),\n",
       " tensor(2.8981e-05, device='cuda:0', grad_fn=<MulBackward0>),\n",
       " tensor(2.3648e-05, device='cuda:0', grad_fn=<MulBackward0>),\n",
       " tensor(1.2041e-05, device='cuda:0', grad_fn=<MulBackward0>),\n",
       " tensor(9.2442e-06, device='cuda:0', grad_fn=<MulBackward0>),\n",
       " tensor(2.9098e-05, device='cuda:0', grad_fn=<MulBackward0>),\n",
       " tensor(1.3091e-05, device='cuda:0', grad_fn=<MulBackward0>),\n",
       " tensor(3.1340e-05, device='cuda:0', grad_fn=<MulBackward0>),\n",
       " tensor(2.8627e-05, device='cuda:0', grad_fn=<MulBackward0>),\n",
       " tensor(9.3100e-06, device='cuda:0', grad_fn=<MulBackward0>),\n",
       " tensor(2.0773e-05, device='cuda:0', grad_fn=<MulBackward0>),\n",
       " tensor(9.3370e-06, device='cuda:0', grad_fn=<MulBackward0>),\n",
       " tensor(0.0003, device='cuda:0', grad_fn=<MulBackward0>),\n",
       " tensor(1.0942e-05, device='cuda:0', grad_fn=<MulBackward0>),\n",
       " tensor(1.0193e-05, device='cuda:0', grad_fn=<MulBackward0>),\n",
       " tensor(4.3691e-06, device='cuda:0', grad_fn=<MulBackward0>),\n",
       " tensor(1.3755e-05, device='cuda:0', grad_fn=<MulBackward0>),\n",
       " tensor(1.7358e-05, device='cuda:0', grad_fn=<MulBackward0>),\n",
       " tensor(1.1079e-05, device='cuda:0', grad_fn=<MulBackward0>)]"
      ]
     },
     "execution_count": 11,
     "metadata": {},
     "output_type": "execute_result"
    }
   ],
   "source": [
    "probs_0[:100]"
   ]
  },
  {
   "cell_type": "code",
   "execution_count": 12,
   "id": "c2d86274-2dc2-4e41-9168-d2f9e0802714",
   "metadata": {},
   "outputs": [
    {
     "data": {
      "text/plain": [
       "[tensor(5.9676, device='cuda:0', grad_fn=<MulBackward0>),\n",
       " tensor(5.9924, device='cuda:0', grad_fn=<MulBackward0>),\n",
       " tensor(3.9994, device='cuda:0', grad_fn=<MulBackward0>),\n",
       " tensor(0.0007, device='cuda:0', grad_fn=<MulBackward0>),\n",
       " tensor(0.3579, device='cuda:0', grad_fn=<MulBackward0>),\n",
       " tensor(5.0587, device='cuda:0', grad_fn=<MulBackward0>),\n",
       " tensor(2.7490e-05, device='cuda:0', grad_fn=<MulBackward0>),\n",
       " tensor(6.0000, device='cuda:0', grad_fn=<MulBackward0>),\n",
       " tensor(5.4254, device='cuda:0', grad_fn=<MulBackward0>),\n",
       " tensor(0.5447, device='cuda:0', grad_fn=<MulBackward0>),\n",
       " tensor(0.3528, device='cuda:0', grad_fn=<MulBackward0>),\n",
       " tensor(1.0686, device='cuda:0', grad_fn=<MulBackward0>),\n",
       " tensor(5.9681, device='cuda:0', grad_fn=<MulBackward0>),\n",
       " tensor(3.5836, device='cuda:0', grad_fn=<MulBackward0>),\n",
       " tensor(0.2328, device='cuda:0', grad_fn=<MulBackward0>),\n",
       " tensor(9.6888e-06, device='cuda:0', grad_fn=<MulBackward0>),\n",
       " tensor(1.1284e-05, device='cuda:0', grad_fn=<MulBackward0>),\n",
       " tensor(2.1030e-05, device='cuda:0', grad_fn=<MulBackward0>),\n",
       " tensor(9.5711e-05, device='cuda:0', grad_fn=<MulBackward0>),\n",
       " tensor(1.2198e-05, device='cuda:0', grad_fn=<MulBackward0>),\n",
       " tensor(8.5865e-06, device='cuda:0', grad_fn=<MulBackward0>),\n",
       " tensor(1.5904e-05, device='cuda:0', grad_fn=<MulBackward0>),\n",
       " tensor(0.0477, device='cuda:0', grad_fn=<MulBackward0>),\n",
       " tensor(2.8537e-06, device='cuda:0', grad_fn=<MulBackward0>),\n",
       " tensor(9.5817e-06, device='cuda:0', grad_fn=<MulBackward0>),\n",
       " tensor(1.0877e-05, device='cuda:0', grad_fn=<MulBackward0>),\n",
       " tensor(1.6386e-05, device='cuda:0', grad_fn=<MulBackward0>),\n",
       " tensor(1.2194e-05, device='cuda:0', grad_fn=<MulBackward0>),\n",
       " tensor(1.1629e-05, device='cuda:0', grad_fn=<MulBackward0>),\n",
       " tensor(1.3497e-05, device='cuda:0', grad_fn=<MulBackward0>),\n",
       " tensor(8.8411e-06, device='cuda:0', grad_fn=<MulBackward0>),\n",
       " tensor(1.0711e-05, device='cuda:0', grad_fn=<MulBackward0>),\n",
       " tensor(1.0853e-05, device='cuda:0', grad_fn=<MulBackward0>),\n",
       " tensor(1.2585e-05, device='cuda:0', grad_fn=<MulBackward0>),\n",
       " tensor(6.2808e-06, device='cuda:0', grad_fn=<MulBackward0>),\n",
       " tensor(0.1653, device='cuda:0', grad_fn=<MulBackward0>),\n",
       " tensor(0.0002, device='cuda:0', grad_fn=<MulBackward0>),\n",
       " tensor(6.6423e-06, device='cuda:0', grad_fn=<MulBackward0>),\n",
       " tensor(6.5329e-05, device='cuda:0', grad_fn=<MulBackward0>),\n",
       " tensor(1.1184e-05, device='cuda:0', grad_fn=<MulBackward0>),\n",
       " tensor(6.7614e-06, device='cuda:0', grad_fn=<MulBackward0>),\n",
       " tensor(1.0804e-05, device='cuda:0', grad_fn=<MulBackward0>),\n",
       " tensor(8.2719e-06, device='cuda:0', grad_fn=<MulBackward0>),\n",
       " tensor(1.9537e-05, device='cuda:0', grad_fn=<MulBackward0>),\n",
       " tensor(1.2649e-05, device='cuda:0', grad_fn=<MulBackward0>),\n",
       " tensor(9.4197e-06, device='cuda:0', grad_fn=<MulBackward0>),\n",
       " tensor(9.8256e-06, device='cuda:0', grad_fn=<MulBackward0>),\n",
       " tensor(1.1312e-05, device='cuda:0', grad_fn=<MulBackward0>),\n",
       " tensor(9.7338e-06, device='cuda:0', grad_fn=<MulBackward0>),\n",
       " tensor(9.9784e-06, device='cuda:0', grad_fn=<MulBackward0>)]"
      ]
     },
     "execution_count": 12,
     "metadata": {},
     "output_type": "execute_result"
    }
   ],
   "source": [
    "probs_1[:50]"
   ]
  },
  {
   "cell_type": "code",
   "execution_count": 13,
   "id": "a971c7aa-c754-4e5a-bc14-439354af78bb",
   "metadata": {},
   "outputs": [
    {
     "name": "stdout",
     "output_type": "stream",
     "text": [
      "tensor([-2.7851,  0.9022,  2.8566,  2.9561,  2.5913,  1.4005,  2.8890, -0.4359,\n",
      "         2.9563, -2.7223, -2.8594, -2.8131,  0.2946,  2.7151,  2.9560,  2.9544,\n",
      "        -2.7062, -2.4482,  2.8733, -0.1318,  2.9515,  1.0451,  1.4682,  2.9417,\n",
      "        -0.6140,  2.8225,  2.7343,  2.9544,  1.8293,  2.6736,  2.9162,  2.0157,\n",
      "         2.9543, -1.0884,  2.9180, -2.7983,  2.9554,  2.1885,  1.7539,  2.9026,\n",
      "         2.8248,  1.5889,  1.0819,  2.9236,  1.1265,  2.9410,  2.2216, -0.6344,\n",
      "        -0.2428,  2.0169])\n",
      "tensor([-2.6608,  2.1664, -2.8370, -2.2139, -1.6710,  2.9525,  1.5394,  2.9504,\n",
      "         1.2801,  2.1259, -0.7744,  2.9505,  2.4044, -2.8730, -2.8742, -0.4144,\n",
      "         1.0518, -2.8572,  2.9211,  2.5853,  2.1751, -0.7339,  2.9352,  2.5496,\n",
      "         2.4637, -0.5362,  0.8194,  2.9032, -1.5252,  2.9526, -0.2861, -1.0242,\n",
      "         2.9459,  2.2418,  2.9555, -1.8400, -0.4232,  2.9170, -1.2534,  2.3564,\n",
      "         2.9544,  0.7814,  2.7956,  2.9524,  0.0044,  2.8985,  2.6865,  0.7331,\n",
      "         2.8884,  2.8075])\n"
     ]
    }
   ],
   "source": [
    "print(rewards_0[:50])\n",
    "print(rewards_1[:50])"
   ]
  },
  {
   "cell_type": "code",
   "execution_count": null,
   "id": "363217f9-87b2-434d-8d91-0d65c37f9e2c",
   "metadata": {},
   "outputs": [],
   "source": []
  },
  {
   "cell_type": "code",
   "execution_count": null,
   "id": "e1d4161b-d338-4a8f-b7e7-548f3b594d29",
   "metadata": {},
   "outputs": [],
   "source": [
    "'''\n",
    "\n",
    "\n",
    "\n",
    "def run_A3C(PPnet, preference_model, data_loader):\n",
    "    \n",
    "    a3c_model = A3C_PPnet(PPnet, preference_model)\n",
    "    \n",
    "    # TO-DO: need to figure out what optimizers we could use\n",
    "    ac_optimizer = optim.Adam(PPnet.parameters(), lr=learning_rate)\n",
    "    \n",
    "    num_epochs = 50\n",
    "\n",
    "    for epoch in range(num_epochs):\n",
    "        for idx, (batch_x, y) in enumerate(dataloader):\n",
    "            action, value, rewards = a3c_model.forward(batch_x)\n",
    "            value = value.detach().numpy()\n",
    "            reward = preference_model(action)\n",
    "\n",
    "  \n",
    "        # update actor critic\n",
    "        \n",
    "        advantage = rewards - values\n",
    "        actor_loss = (-advantage).mean()\n",
    "        critic_loss = 0.5 * advantage.pow(2).mean()\n",
    "        ac_loss = actor_loss + critic_loss + 0.001 * entropy_term\n",
    "\n",
    "        ac_optimizer.zero_grad()\n",
    "        ac_loss.backward()\n",
    "        ac_optimizer.step()\n",
    "\n",
    "'''"
   ]
  },
  {
   "cell_type": "code",
   "execution_count": null,
   "id": "1aa6e187-fba2-4fd8-a98d-5e14e604c2be",
   "metadata": {},
   "outputs": [],
   "source": []
  }
 ],
 "metadata": {
  "kernelspec": {
   "display_name": "Python 3 (ipykernel)",
   "language": "python",
   "name": "python3"
  },
  "language_info": {
   "codemirror_mode": {
    "name": "ipython",
    "version": 3
   },
   "file_extension": ".py",
   "mimetype": "text/x-python",
   "name": "python",
   "nbconvert_exporter": "python",
   "pygments_lexer": "ipython3",
   "version": "3.8.3"
  }
 },
 "nbformat": 4,
 "nbformat_minor": 5
}

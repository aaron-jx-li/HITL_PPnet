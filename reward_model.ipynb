{
 "cells": [
  {
   "cell_type": "code",
   "execution_count": 18,
   "id": "5e61a6af-00f8-4ad0-ac8e-c07a394ce3a9",
   "metadata": {},
   "outputs": [],
   "source": [
    "import torch\n",
    "import torch.nn as nn\n",
    "import torch.utils.model_zoo as model_zoo\n",
    "import torch.nn.functional as F\n",
    "\n",
    "from resnet_features import resnet18_features, resnet34_features, resnet50_features, resnet101_features, resnet152_features\n",
    "from densenet_features import densenet121_features, densenet161_features, densenet169_features, densenet201_features\n",
    "from vgg_features import vgg11_features, vgg11_bn_features, vgg13_features, vgg13_bn_features, vgg16_features, vgg16_bn_features,\\\n",
    "                         vgg19_features, vgg19_bn_features\n",
    "\n",
    "from receptive_field import compute_proto_layer_rf_info_v2\n",
    "\n",
    "from settings import img_size\n",
    "\n",
    "from PIL import Image\n",
    "import numpy as np\n",
    "import numpy.random as npr\n",
    "import pandas as pd\n",
    "import os\n",
    "import matplotlib.pyplot as plt\n",
    "import torch.utils.data\n",
    "# import torch.utils.data.distributed\n",
    "import torchvision.transforms as transforms\n",
    "import torchvision.datasets as datasets\n",
    "import torch.optim as optim\n",
    "\n",
    "import pickle as pkl\n",
    "import skimage as sk\n",
    "import skimage.io as skio\n",
    "from preference_model import construct_PrefNet, paired_cross_entropy_loss, PrefNet\n",
    "\n",
    "# book keeping namings and code\n",
    "from settings import base_architecture, img_size, prototype_shape, num_classes, \\\n",
    "                     prototype_activation_function, add_on_layers_type, experiment_run\n",
    "\n",
    "from preprocess import mean, std, preprocess_input_function\n",
    "from tqdm import tqdm"
   ]
  },
  {
   "cell_type": "code",
   "execution_count": 19,
   "id": "72e15376-1146-4353-b0d2-4d35fa3e00d1",
   "metadata": {},
   "outputs": [],
   "source": [
    "base_architecture_to_features = {'resnet18': resnet18_features,\n",
    "                                 'resnet34': resnet34_features,\n",
    "                                 'resnet50': resnet50_features,\n",
    "                                 'resnet101': resnet101_features,\n",
    "                                 'resnet152': resnet152_features,\n",
    "                                 'densenet121': densenet121_features,\n",
    "                                 'densenet161': densenet161_features,\n",
    "                                 'densenet169': densenet169_features,\n",
    "                                 'densenet201': densenet201_features,\n",
    "                                 'vgg11': vgg11_features,\n",
    "                                 'vgg11_bn': vgg11_bn_features,\n",
    "                                 'vgg13': vgg13_features,\n",
    "                                 'vgg13_bn': vgg13_bn_features,\n",
    "                                 'vgg16': vgg16_features,\n",
    "                                 'vgg16_bn': vgg16_bn_features,\n",
    "                                 'vgg19': vgg19_features,\n",
    "                                 'vgg19_bn': vgg19_bn_features}\n",
    "\n",
    "\n",
    "class PrefNet(nn.Module):\n",
    "\n",
    "    def __init__(self, img_features, pattern_features, img_size, prototype_shape,\n",
    "                 proto_layer_rf_info, num_classes, init_weights=True,\n",
    "                 prototype_activation_function='log',\n",
    "                 add_on_layers_type='bottleneck', \n",
    "                k = 3):\n",
    "\n",
    "        super(PrefNet, self).__init__()\n",
    "        self.img_size = img_size\n",
    "        self.prototype_shape = prototype_shape\n",
    "        self.num_prototypes = prototype_shape[0]\n",
    "        self.num_classes = num_classes\n",
    "        self.epsilon = 1e-4\n",
    "        self.k = k\n",
    "        \n",
    "        # this has to be named features to allow the precise loading\n",
    "        self.img_features = img_features\n",
    "        self.pattern_features = pattern_features\n",
    "        \n",
    "        \n",
    "        \n",
    "        features_name = str(self.img_features).upper()\n",
    "        if features_name.startswith('VGG') or features_name.startswith('RES'):\n",
    "            first_add_on_layer_in_channels = \\\n",
    "                [i for i in img_features.modules() if isinstance(i, nn.Conv2d)][-1].out_channels\n",
    "        elif features_name.startswith('DENSE'):\n",
    "            first_add_on_layer_in_channels = \\\n",
    "                [i for i in img_features.modules() if isinstance(i, nn.BatchNorm2d)][-1].num_features\n",
    "        else:\n",
    "            raise Exception('other base base_architecture NOT implemented')\n",
    "\n",
    "        if add_on_layers_type == 'bottleneck':\n",
    "            add_on_layers = []\n",
    "            current_in_channels = first_add_on_layer_in_channels\n",
    "            while (current_in_channels > self.prototype_shape[1]) or (len(add_on_layers) == 0):\n",
    "                current_out_channels = max(self.prototype_shape[1], (current_in_channels // 2))\n",
    "                add_on_layers.append(nn.Conv2d(in_channels=current_in_channels,\n",
    "                                               out_channels=current_out_channels,\n",
    "                                               kernel_size=1))\n",
    "                add_on_layers.append(nn.ReLU())\n",
    "                add_on_layers.append(nn.Conv2d(in_channels=current_out_channels,\n",
    "                                               out_channels=current_out_channels,\n",
    "                                               kernel_size=1))\n",
    "                if current_out_channels > self.prototype_shape[1]:\n",
    "                    add_on_layers.append(nn.ReLU())\n",
    "                else:\n",
    "                    assert(current_out_channels == self.prototype_shape[1])\n",
    "                    add_on_layers.append(nn.Sigmoid())\n",
    "                current_in_channels = current_in_channels // 2\n",
    "            self.img_add_on_layers = nn.Sequential(*add_on_layers)\n",
    "        else:\n",
    "            self.img_add_on_layers = nn.Sequential(\n",
    "                nn.Conv2d(in_channels=first_add_on_layer_in_channels, out_channels=self.prototype_shape[1], kernel_size=1),\n",
    "                nn.ReLU(),\n",
    "                nn.Conv2d(in_channels=self.prototype_shape[1], out_channels=self.prototype_shape[1], kernel_size=1),\n",
    "                nn.Sigmoid()\n",
    "                )\n",
    "        \n",
    "        \n",
    "        \n",
    "        \n",
    "        features_name = str(self.pattern_features).upper()\n",
    "        if features_name.startswith('VGG') or features_name.startswith('RES'):\n",
    "            first_add_on_layer_in_channels = \\\n",
    "                [i for i in pattern_features.modules() if isinstance(i, nn.Conv2d)][-1].out_channels\n",
    "        elif features_name.startswith('DENSE'):\n",
    "            first_add_on_layer_in_channels = \\\n",
    "                [i for i in pattern_features.modules() if isinstance(i, nn.BatchNorm2d)][-1].num_features\n",
    "        else:\n",
    "            raise Exception('other base base_architecture NOT implemented')\n",
    "\n",
    "        if add_on_layers_type == 'bottleneck':\n",
    "            add_on_layers = []\n",
    "            current_in_channels = first_add_on_layer_in_channels\n",
    "            while (current_in_channels > self.prototype_shape[1]) or (len(add_on_layers) == 0):\n",
    "                current_out_channels = max(self.prototype_shape[1], (current_in_channels // 2))\n",
    "                add_on_layers.append(nn.Conv2d(in_channels=current_in_channels,\n",
    "                                               out_channels=current_out_channels,\n",
    "                                               kernel_size=1))\n",
    "                add_on_layers.append(nn.ReLU())\n",
    "                add_on_layers.append(nn.Conv2d(in_channels=current_out_channels,\n",
    "                                               out_channels=current_out_channels,\n",
    "                                               kernel_size=1))\n",
    "                if current_out_channels > self.prototype_shape[1]:\n",
    "                    add_on_layers.append(nn.ReLU())\n",
    "                else:\n",
    "                    assert(current_out_channels == self.prototype_shape[1])\n",
    "                    add_on_layers.append(nn.Sigmoid())\n",
    "                current_in_channels = current_in_channels // 2\n",
    "            self.pattern_add_on_layers = nn.Sequential(*add_on_layers)\n",
    "        else:\n",
    "            self.pattern_add_on_layers = nn.Sequential(\n",
    "                nn.Conv2d(in_channels=first_add_on_layer_in_channels, out_channels=self.prototype_shape[1], kernel_size=1),\n",
    "                nn.ReLU(),\n",
    "                nn.Conv2d(in_channels=self.prototype_shape[1], out_channels=self.prototype_shape[1], kernel_size=1),\n",
    "                nn.Sigmoid()\n",
    "                )\n",
    "            \n",
    "            \n",
    "            \n",
    "#         self.prototype_vectors = nn.Parameter(torch.rand(self.prototype_shape),\n",
    "#                                               requires_grad=True)\n",
    "\n",
    "#         # do not make this just a tensor,\n",
    "#         # since it will not be moved automatically to gpu\n",
    "#         self.ones = nn.Parameter(torch.ones(self.prototype_shape),\n",
    "#                                  requires_grad=False)\n",
    "\n",
    "#         self.last_layer = nn.Linear(self.num_prototypes, self.num_classes,\n",
    "#                                     bias=False) # do not use bias\n",
    "\n",
    "\n",
    "        self.img_conv = nn.Sequential(\n",
    "            nn.Conv2d(in_channels=512, out_channels=128, kernel_size=1),\n",
    "            nn.ReLU(),\n",
    "            nn.Conv2d(in_channels=128, out_channels=128, kernel_size=3),\n",
    "            nn.Sigmoid()\n",
    "            )\n",
    "        \n",
    "        self.pattern_conv = nn.Sequential(\n",
    "            nn.Conv2d(in_channels=512, out_channels=128, kernel_size=1),\n",
    "            nn.ReLU(),\n",
    "            nn.Conv2d(in_channels=128, out_channels=128, kernel_size=3),\n",
    "            nn.Sigmoid()\n",
    "            )\n",
    "        \n",
    "        \n",
    "        self.img_fc = nn.Linear(512 * 7 * 7, 3200)\n",
    "        self.pattern_fc = nn.Linear(512 * 7 * 7, 3200)\n",
    "        self.fc1 = nn.Linear(6400, 512)\n",
    "        self.fc2 = nn.Linear(512, 32)\n",
    "        self.fc3 = nn.Linear(32, 1)\n",
    "\n",
    "        if init_weights:\n",
    "            self._initialize_weights()\n",
    "            \n",
    "            \n",
    "    def conv_features(self, x):\n",
    "        '''\n",
    "        the feature input to prototype layer\n",
    "        '''\n",
    "        # Insert k and then img size\n",
    "        x = self.features(x)\n",
    "        x = self.add_on_layers(x)\n",
    "        return x\n",
    "    \n",
    "    def forward(self, x, p):\n",
    "        # (N, 512, 7, 7)\n",
    "        #x = self.conv_features(x)\n",
    "        x = self.img_features(x)\n",
    "        x = self.img_add_on_layers(x)\n",
    "        #x = self.img_conv(x)\n",
    "        x = torch.flatten(x, 1)\n",
    "        #print(x.shape)\n",
    "        x = self.img_fc(x)\n",
    "        #print(\"img_conv out shape: \", x.shape)\n",
    "        \n",
    "        #p = self.conv_features(p)\n",
    "        p = self.pattern_features(p)\n",
    "        p = self.pattern_add_on_layers(p)\n",
    "        p = torch.flatten(p, 1)\n",
    "        #p = self.pattern_conv(p)\n",
    "        p = self.pattern_fc(p)\n",
    "        #print(\"pattern_conv out shape: \", p.shape)\n",
    "        \n",
    "        out = torch.cat((x, p), dim=1)\n",
    "        #print(\"cat out shape: \", out.shape)\n",
    "        out = torch.flatten(out, 1) # flatten all dimensions except batch\n",
    "        #print(\"flatten out shape: \", out.shape)\n",
    "        \n",
    "       \n",
    "        out = torch.sigmoid(self.fc1(out))\n",
    "        out = torch.sigmoid(self.fc2(out))\n",
    "        out = self.fc3(out)\n",
    "        return out\n",
    "\n",
    "    \n",
    "    def _initialize_weights(self):\n",
    "        for m in self.img_add_on_layers.modules():\n",
    "            if isinstance(m, nn.Conv2d):\n",
    "                # every init technique has an underscore _ in the name\n",
    "                nn.init.kaiming_normal_(m.weight, mode='fan_out', nonlinearity='relu')\n",
    "\n",
    "                if m.bias is not None:\n",
    "                    nn.init.constant_(m.bias, 0)\n",
    "\n",
    "            elif isinstance(m, nn.BatchNorm2d):\n",
    "                nn.init.constant_(m.weight, 1)\n",
    "                nn.init.constant_(m.bias, 0)\n",
    "                \n",
    "        for m in self.pattern_add_on_layers.modules():\n",
    "            if isinstance(m, nn.Conv2d):\n",
    "                # every init technique has an underscore _ in the name\n",
    "                nn.init.kaiming_normal_(m.weight, mode='fan_out', nonlinearity='relu')\n",
    "\n",
    "                if m.bias is not None:\n",
    "                    nn.init.constant_(m.bias, 0)\n",
    "\n",
    "            elif isinstance(m, nn.BatchNorm2d):\n",
    "                nn.init.constant_(m.weight, 1)\n",
    "                nn.init.constant_(m.bias, 0)\n",
    "\n",
    "\n",
    "\n",
    "\n",
    "            \n",
    "def construct_PrefNet(base_architecture, pretrained=True, img_size=224,\n",
    "                    prototype_shape=(2000, 512, 1, 1), num_classes=200,\n",
    "                    prototype_activation_function='log',\n",
    "                    add_on_layers_type='bottleneck',\n",
    "                    k = 3):\n",
    "    img_features = base_architecture_to_features[base_architecture](pretrained=pretrained)\n",
    "    pattern_features = base_architecture_to_features[base_architecture](pretrained=pretrained)\n",
    "    layer_filter_sizes, layer_strides, layer_paddings = img_features.conv_info()\n",
    "    proto_layer_rf_info = compute_proto_layer_rf_info_v2(img_size=img_size,\n",
    "                                                         layer_filter_sizes=layer_filter_sizes,\n",
    "                                                         layer_strides=layer_strides,\n",
    "                                                         layer_paddings=layer_paddings,\n",
    "                                                         prototype_kernel_size=prototype_shape[2])\n",
    "    return PrefNet(img_features=img_features,\n",
    "                 pattern_features=pattern_features,\n",
    "                 img_size=img_size,\n",
    "                 prototype_shape=prototype_shape,\n",
    "                 proto_layer_rf_info=proto_layer_rf_info,\n",
    "                 num_classes=num_classes,\n",
    "                 init_weights=True,\n",
    "                 prototype_activation_function=prototype_activation_function,\n",
    "                 add_on_layers_type=add_on_layers_type,\n",
    "                 k = k)\n",
    "\n",
    "\n",
    "def paired_cross_entropy_loss(out1, out2, targets):\n",
    "    \n",
    "    total_loss = 0\n",
    "    for i in range(len(targets)):\n",
    "        \n",
    "        if targets[i] == -1:\n",
    "            p1 = torch.exp(out1[i])/(torch.exp(out1[i]) + torch.exp(out2[i]))\n",
    "            loss = - torch.log(p1)\n",
    "        elif targets[i] == 1:\n",
    "            p2 = torch.exp(out2[i])/(torch.exp(out1[i]) + torch.exp(out2[i]))\n",
    "            loss = - torch.log(p2)\n",
    "\n",
    "        else:\n",
    "            p1 = torch.exp(out1[i])/(torch.exp(out1[i]) + torch.exp(out2[i]))\n",
    "            p2 = torch.exp(out2[i])/(torch.exp(out1[i]) + torch.exp(out2[i]))\n",
    "            loss = - (0.5*torch.log(p1) + 0.5*torch.log(p2))\n",
    "            \n",
    "        total_loss += loss\n",
    "    return total_loss\n"
   ]
  },
  {
   "cell_type": "code",
   "execution_count": 20,
   "id": "39926c21-9702-4a73-82f3-ddfbfcdf7098",
   "metadata": {},
   "outputs": [
    {
     "name": "stdout",
     "output_type": "stream",
     "text": [
      "Using cuda device\n"
     ]
    }
   ],
   "source": [
    "device = 'cuda' if torch.cuda.is_available() else 'cpu'\n",
    "print('Using {} device'.format(device))"
   ]
  },
  {
   "cell_type": "code",
   "execution_count": 21,
   "id": "ec93869e-6770-4067-926d-99e8b348d228",
   "metadata": {},
   "outputs": [],
   "source": [
    "normalize = transforms.Normalize(mean=mean,\n",
    "                                 std=std)\n",
    "\n",
    "trans = transforms.Compose([\n",
    "    transforms.Resize(size=(img_size, img_size)),\n",
    "    transforms.ToTensor(),\n",
    "    normalize\n",
    "])"
   ]
  },
  {
   "cell_type": "code",
   "execution_count": 22,
   "id": "11bcc1c8-6320-47bf-8b97-8301c097d6ab",
   "metadata": {},
   "outputs": [],
   "source": [
    "k = 1\n",
    "csv_name = \"./human_comparisons/rating_s=5_k=1_700_random_1.csv\"\n",
    "if os.path.exists(csv_name):\n",
    "    comp_df = pd.read_csv(csv_name)"
   ]
  },
  {
   "cell_type": "code",
   "execution_count": 23,
   "id": "b96dbfc4-5a99-4b41-ae1e-d2dcb5016e89",
   "metadata": {},
   "outputs": [
    {
     "data": {
      "text/plain": [
       "(array([ 76.,   0.,  51.,   0.,   0.,  44.,   0., 120.,   0., 409.]),\n",
       " array([1. , 1.4, 1.8, 2.2, 2.6, 3. , 3.4, 3.8, 4.2, 4.6, 5. ]),\n",
       " <BarContainer object of 10 artists>)"
      ]
     },
     "execution_count": 23,
     "metadata": {},
     "output_type": "execute_result"
    },
    {
     "data": {
      "image/png": "[encoded data removed]",
      "text/plain": [
       "<Figure size 640x480 with 1 Axes>"
      ]
     },
     "metadata": {},
     "output_type": "display_data"
    }
   ],
   "source": [
    "plt.hist(comp_df['rating'])\n",
    "        "
   ]
  },
  {
   "cell_type": "code",
   "execution_count": 24,
   "id": "e1c9cea5-01bc-48ba-bb66-8a6042fc0aac",
   "metadata": {},
   "outputs": [],
   "source": [
    "csv_name = \"./human_comparisons/rating_s=5_k=1_500.csv\"\n",
    "if os.path.exists(csv_name):\n",
    "    comp_df = pd.read_csv(csv_name)"
   ]
  },
  {
   "cell_type": "code",
   "execution_count": 25,
   "id": "8590cb1f-ef35-4624-9b7d-14bd6b13128b",
   "metadata": {},
   "outputs": [
    {
     "data": {
      "text/plain": [
       "(array([ 25.,   0.,  26.,   0.,   0.,  62.,   0., 100.,   0., 287.]),\n",
       " array([1. , 1.4, 1.8, 2.2, 2.6, 3. , 3.4, 3.8, 4.2, 4.6, 5. ]),\n",
       " <BarContainer object of 10 artists>)"
      ]
     },
     "execution_count": 25,
     "metadata": {},
     "output_type": "execute_result"
    },
    {
     "data": {
      "image/png": "[encoded data removed]",
      "text/plain": [
       "<Figure size 640x480 with 1 Axes>"
      ]
     },
     "metadata": {},
     "output_type": "display_data"
    }
   ],
   "source": [
    "plt.hist(comp_df['rating'])"
   ]
  },
  {
   "cell_type": "code",
   "execution_count": 6,
   "id": "ad6d69b5-9fd4-41a0-b87b-67e89bcffa5a",
   "metadata": {},
   "outputs": [
    {
     "name": "stdout",
     "output_type": "stream",
     "text": [
      "96462\n",
      "5668\n"
     ]
    }
   ],
   "source": [
    "split = 0.8\n",
    "df_len = len(comp_df)\n",
    "train_set = []\n",
    "test_set = []\n",
    "split_idx = int(df_len*split)\n",
    "for i in range(split_idx):\n",
    "    for j in range(i+1, split_idx):\n",
    "        if comp_df.iloc[i]['rating'] > comp_df.iloc[j]['rating']:\n",
    "            train_set.append([i, j, -1])\n",
    "        elif comp_df.iloc[i]['rating'] < comp_df.iloc[j]['rating']:\n",
    "            train_set.append([i, j, 1])\n",
    "            \n",
    "for i in range(split_idx, df_len):\n",
    "    for j in range(i+1, df_len):\n",
    "        if comp_df.iloc[i]['rating'] > comp_df.iloc[j]['rating']:\n",
    "            test_set.append([i, j, -1])\n",
    "        elif comp_df.iloc[i]['rating'] < comp_df.iloc[j]['rating']:\n",
    "            test_set.append([i, j, 1])\n",
    "print(len(train_set))\n",
    "print(len(test_set))"
   ]
  },
  {
   "cell_type": "code",
   "execution_count": 7,
   "id": "4352e7f6-affc-443c-83f1-966f474fb79c",
   "metadata": {},
   "outputs": [
    {
     "data": {
      "text/plain": [
       "'\\nanother way of splitting data\\n'"
      ]
     },
     "execution_count": 7,
     "metadata": {},
     "output_type": "execute_result"
    }
   ],
   "source": [
    "'''\n",
    "another way of splitting data\n",
    "'''\n",
    "#split = 0.7\n",
    "#train_set = training_set[:int(len(training_set) * split)]\n",
    "#test_set = training_set[int(len(training_set) * split):]\n",
    "#print(len(train_set))\n",
    "#print(len(test_set))"
   ]
  },
  {
   "cell_type": "code",
   "execution_count": 8,
   "id": "7c119e25-3c17-41fb-b90c-d830702acc6c",
   "metadata": {},
   "outputs": [
    {
     "name": "stdout",
     "output_type": "stream",
     "text": [
      "700\n",
      "torch.Size([1, 3, 224, 224])\n",
      "torch.Size([1, 3, 224, 224])\n"
     ]
    }
   ],
   "source": [
    "images = []\n",
    "patterns = []\n",
    "for i in range(df_len):\n",
    "    img = './human_comparisons/feedback_images/k=1_random/original_imgs/' + comp_df.iloc[i]['imgid'] + '.png'\n",
    "    img = plt.imread(img)[:, :, :3]\n",
    "    img = np.transpose(img, (2, 0, 1))\n",
    "    images.append(torch.from_numpy(np.array([img])))\n",
    "    pattern = './human_comparisons/feedback_images/k=1_random/patterns/' + comp_df.iloc[i]['imgid'] + '.npy'\n",
    "    pattern = np.load(pattern)\n",
    "    pattern = np.array([pattern, pattern, pattern])\n",
    "    patterns.append(torch.from_numpy(np.array([pattern])))\n",
    "print(len(images))\n",
    "print(images[100].shape)\n",
    "print(patterns[100].shape)"
   ]
  },
  {
   "cell_type": "code",
   "execution_count": 13,
   "id": "b0696fc8-0923-49be-bf44-3e0660b85681",
   "metadata": {},
   "outputs": [],
   "source": [
    "prefnet = construct_PrefNet(\"resnet50\")\n",
    "prefnet.to(device)\n",
    "prefnet.train()\n",
    "pref_optimizer = optim.Adam([{'params': prefnet.img_features.parameters(), 'lr': 1e-4}, {'params': prefnet.pattern_features.parameters(), 'lr': 1e-4}, \n",
    "                             {'params': prefnet.img_fc.parameters(), 'lr': 1e-4}, {'params': prefnet.pattern_fc.parameters(), 'lr': 1e-4},\n",
    "                             {'params': prefnet.img_add_on_layers.parameters(), 'lr': 1e-4}, {'params': prefnet.pattern_add_on_layers.parameters(), 'lr': 1e-4},\n",
    "                             {'params': prefnet.img_conv.parameters(), 'lr': 1e-4}, {'params': prefnet.pattern_conv.parameters(), 'lr': 1e-4}, \n",
    "                             {'params': prefnet.fc1.parameters(), 'lr': 1e-4}, {'params': prefnet.fc2.parameters(), 'lr': 1e-4}, {'params': prefnet.fc3.parameters(), 'lr': 1e-4}])"
   ]
  },
  {
   "cell_type": "code",
   "execution_count": 14,
   "id": "4a540a57-6b9f-418c-bf90-6a4da17d3c68",
   "metadata": {},
   "outputs": [
    {
     "data": {
      "text/plain": [
       "tensor([[-0.0322]], device='cuda:0', grad_fn=<AddmmBackward0>)"
      ]
     },
     "execution_count": 14,
     "metadata": {},
     "output_type": "execute_result"
    }
   ],
   "source": [
    "prefnet(images[10].cuda(), patterns[10].cuda())"
   ]
  },
  {
   "cell_type": "code",
   "execution_count": 15,
   "id": "fd22e4b8-0bb0-4563-a51b-a5cbacd06d45",
   "metadata": {},
   "outputs": [],
   "source": [
    "epochs = 5\n",
    "batch_size = 32"
   ]
  },
  {
   "cell_type": "code",
   "execution_count": 12,
   "id": "45935b65-b1ce-4334-b804-877048fcb3ad",
   "metadata": {},
   "outputs": [],
   "source": [
    "pref_optimizer = optim.Adam([{'params': prefnet.img_conv.parameters(), 'lr': 1e-5}, {'params': prefnet.pattern_conv.parameters(), 'lr': 1e-5}, {'params': prefnet.fc1.parameters(), 'lr': 1e-5},\n",
    "                            {'params': prefnet.fc2.parameters(), 'lr': 1e-5}, {'params': prefnet.fc3.parameters(), 'lr': 1e-5}])"
   ]
  },
  {
   "cell_type": "code",
   "execution_count": 16,
   "id": "11d8b37a-97ad-4817-8aab-f903dc2fb505",
   "metadata": {},
   "outputs": [],
   "source": [
    "def test_reward_model(prefnet, test_set, images, patterns):\n",
    "    acc = []\n",
    "    #error_images = []\n",
    "    error_count = 0\n",
    "    for i in tqdm(range(len(test_set))):\n",
    "        left_idx, right_idx, target = test_set[i]\n",
    "        left_img, right_img = images[left_idx], images[right_idx]\n",
    "        left_pattern, right_pattern = patterns[left_idx], patterns[right_idx]\n",
    "        target = torch.tensor(target).cuda().float()\n",
    "\n",
    "        out1 = prefnet(left_img.cuda().float(), left_pattern.cuda().float())\n",
    "        out2 = prefnet(right_img.cuda().float(), right_pattern.cuda().float())\n",
    "        #print(out1)\n",
    "        #print(out2)\n",
    "\n",
    "\n",
    "        if out1 > out2:\n",
    "            y_pred = -1\n",
    "\n",
    "        else:\n",
    "            y_pred = 1\n",
    "\n",
    "        #print(y_pred)\n",
    "        #print(\"\")\n",
    "        if y_pred == target:\n",
    "            acc.append(1)\n",
    "        else:\n",
    "            #error_images.append((i, y_pred, target))\n",
    "            error_count += 1\n",
    "            acc.append(0)\n",
    "            \n",
    "    return np.mean(acc), error_count"
   ]
  },
  {
   "cell_type": "code",
   "execution_count": 17,
   "id": "4ebf1dc7-bd65-40ef-9107-ebc954e5aa75",
   "metadata": {},
   "outputs": [
    {
     "name": "stdout",
     "output_type": "stream",
     "text": [
      "0 0 22.184793\n",
      "0 99 450\n",
      "0 100 14.297962\n",
      "0 199 252\n",
      "0 200 5.1353197\n",
      "0 299 209\n",
      "0 300 5.857233\n",
      "0 399 175\n",
      "0 400 5.807886\n",
      "0 499 163\n",
      "0 500 3.5191991\n",
      "0 599 170\n",
      "0 600 2.889525\n",
      "0 699 165\n",
      "0 700 2.675007\n",
      "0 799 110\n",
      "0 800 3.3982656\n",
      "0 899 80\n",
      "0 900 5.0861344\n",
      "0 999 79\n"
     ]
    },
    {
     "name": "stderr",
     "output_type": "stream",
     "text": [
      "100%|██████████| 5668/5668 [02:45<00:00, 34.30it/s]\n"
     ]
    },
    {
     "name": "stdout",
     "output_type": "stream",
     "text": [
      "0 999 0.6367325335215244 2059\n",
      "0 1000 0.9982669\n",
      "0 1099 83\n",
      "0 1100 2.6490378\n",
      "0 1199 82\n",
      "0 1200 2.9638603\n",
      "0 1299 67\n",
      "0 1300 0.57401335\n",
      "0 1399 67\n",
      "0 1400 1.6640669\n",
      "0 1499 97\n",
      "0 1500 5.312115\n",
      "0 1599 118\n",
      "0 1600 1.9212143\n",
      "0 1699 133\n",
      "0 1700 10.714208\n",
      "0 1799 91\n",
      "0 1800 2.4598808\n",
      "0 1899 40\n",
      "0 1900 1.9612269\n",
      "0 1999 34\n"
     ]
    },
    {
     "name": "stderr",
     "output_type": "stream",
     "text": [
      "100%|██████████| 5668/5668 [02:45<00:00, 34.29it/s]\n"
     ]
    },
    {
     "name": "stdout",
     "output_type": "stream",
     "text": [
      "0 1999 0.6337332392378264 2076\n",
      "0 2000 1.4717791\n",
      "0 2099 20\n",
      "0 2100 1.1694398\n",
      "0 2199 14\n",
      "0 2200 3.4615276\n",
      "0 2299 25\n",
      "0 2300 1.9244483\n",
      "0 2399 20\n",
      "0 2400 0.9921782\n",
      "0 2499 20\n",
      "0 2500 0.6528253\n",
      "0 2599 12\n",
      "0 2600 1.633644\n",
      "0 2699 23\n",
      "0 2700 0.70512575\n",
      "0 2799 19\n",
      "0 2800 0.33356002\n",
      "0 2899 21\n",
      "0 2900 1.114428\n",
      "0 2999 22\n"
     ]
    },
    {
     "name": "stderr",
     "output_type": "stream",
     "text": [
      "100%|██████████| 5668/5668 [02:43<00:00, 34.59it/s]\n"
     ]
    },
    {
     "name": "stdout",
     "output_type": "stream",
     "text": [
      "0 2999 0.6886026817219478 1765\n",
      "0 3000 0.48828435\n",
      "1 0 0.59915525\n",
      "1 99 19\n",
      "1 100 1.1854101\n",
      "1 199 125\n",
      "1 200 3.2929416\n",
      "1 299 72\n",
      "1 300 0.87660706\n",
      "1 399 54\n",
      "1 400 1.8347942\n",
      "1 499 23\n",
      "1 500 1.6536994\n",
      "1 599 22\n",
      "1 600 1.3824136\n",
      "1 699 12\n",
      "1 700 0.37911347\n",
      "1 799 19\n",
      "1 800 0.59483147\n",
      "1 899 18\n",
      "1 900 1.0613755\n",
      "1 999 11\n"
     ]
    },
    {
     "name": "stderr",
     "output_type": "stream",
     "text": [
      "100%|██████████| 5668/5668 [02:43<00:00, 34.64it/s]\n"
     ]
    },
    {
     "name": "stdout",
     "output_type": "stream",
     "text": [
      "1 999 0.6441425546930134 2017\n",
      "1 1000 0.9689445\n",
      "1 1099 13\n",
      "1 1100 1.9752756\n",
      "1 1199 53\n",
      "1 1200 2.3789754\n",
      "1 1299 30\n",
      "1 1300 0.39389306\n",
      "1 1399 22\n",
      "1 1400 0.70361847\n",
      "1 1499 16\n",
      "1 1500 1.8075132\n",
      "1 1599 11\n",
      "1 1600 0.32634842\n",
      "1 1699 5\n",
      "1 1700 0.3237077\n",
      "1 1799 8\n",
      "1 1800 0.33987722\n",
      "1 1899 12\n",
      "1 1900 0.34683233\n",
      "1 1999 11\n"
     ]
    },
    {
     "name": "stderr",
     "output_type": "stream",
     "text": [
      "100%|██████████| 5668/5668 [02:43<00:00, 34.68it/s]\n"
     ]
    },
    {
     "name": "stdout",
     "output_type": "stream",
     "text": [
      "1 1999 0.6137967537050106 2189\n",
      "1 2000 0.20938529\n",
      "1 2099 7\n",
      "1 2100 0.18075247\n",
      "1 2199 7\n",
      "1 2200 1.100905\n",
      "1 2299 18\n",
      "1 2300 0.45912367\n",
      "1 2399 10\n",
      "1 2400 0.22526167\n",
      "1 2499 14\n",
      "1 2500 0.7180519\n",
      "1 2599 5\n",
      "1 2600 0.25828138\n",
      "1 2699 4\n",
      "1 2700 0.15080997\n",
      "1 2799 14\n",
      "1 2800 0.16626477\n",
      "1 2899 11\n",
      "1 2900 2.1143417\n",
      "1 2999 82\n"
     ]
    },
    {
     "name": "stderr",
     "output_type": "stream",
     "text": [
      "100%|██████████| 5668/5668 [02:43<00:00, 34.60it/s]\n"
     ]
    },
    {
     "name": "stdout",
     "output_type": "stream",
     "text": [
      "1 2999 0.613091037402964 2193\n",
      "1 3000 3.9885955\n",
      "2 0 2.3245196\n",
      "2 99 126\n",
      "2 100 1.5453582\n",
      "2 199 67\n",
      "2 200 1.0276006\n",
      "2 299 60\n",
      "2 300 1.7047565\n",
      "2 399 24\n",
      "2 400 0.640802\n",
      "2 499 18\n",
      "2 500 1.0494665\n",
      "2 599 16\n",
      "2 600 0.48829037\n",
      "2 699 11\n",
      "2 700 0.92843574\n",
      "2 799 15\n",
      "2 800 0.37774855\n",
      "2 899 14\n",
      "2 900 0.14227578\n",
      "2 999 8\n"
     ]
    },
    {
     "name": "stderr",
     "output_type": "stream",
     "text": [
      "100%|██████████| 5668/5668 [02:43<00:00, 34.64it/s]\n"
     ]
    },
    {
     "name": "stdout",
     "output_type": "stream",
     "text": [
      "2 999 0.5950952717007763 2295\n",
      "2 1000 0.16373672\n",
      "2 1099 14\n",
      "2 1100 0.29884928\n",
      "2 1199 16\n",
      "2 1200 0.9934118\n",
      "2 1299 13\n",
      "2 1300 0.08022984\n",
      "2 1399 11\n",
      "2 1400 0.9101034\n",
      "2 1499 14\n",
      "2 1500 0.094481476\n",
      "2 1599 13\n",
      "2 1600 3.3656678\n",
      "2 1699 31\n",
      "2 1700 1.0917705\n",
      "2 1799 12\n",
      "2 1800 2.3603432\n",
      "2 1899 14\n",
      "2 1900 0.24940568\n",
      "2 1999 15\n"
     ]
    },
    {
     "name": "stderr",
     "output_type": "stream",
     "text": [
      "100%|██████████| 5668/5668 [02:43<00:00, 34.62it/s]\n"
     ]
    },
    {
     "name": "stdout",
     "output_type": "stream",
     "text": [
      "2 1999 0.6157374735356387 2178\n",
      "2 2000 0.25845435\n",
      "2 2099 9\n",
      "2 2100 0.47591484\n",
      "2 2199 9\n",
      "2 2200 0.17844267\n",
      "2 2299 9\n",
      "2 2300 0.17417417\n",
      "2 2399 9\n",
      "2 2400 0.070376664\n",
      "2 2499 5\n",
      "2 2500 0.38370702\n",
      "2 2599 11\n",
      "2 2600 2.7886994\n",
      "2 2699 13\n",
      "2 2700 0.42985508\n",
      "2 2799 10\n",
      "2 2800 0.08183704\n",
      "2 2899 14\n",
      "2 2900 0.11473453\n",
      "2 2999 11\n"
     ]
    },
    {
     "name": "stderr",
     "output_type": "stream",
     "text": [
      "100%|██████████| 5668/5668 [02:43<00:00, 34.57it/s]\n"
     ]
    },
    {
     "name": "stdout",
     "output_type": "stream",
     "text": [
      "2 2999 0.6524347212420607 1970\n",
      "2 3000 0.03782856\n",
      "3 0 0.35016716\n",
      "3 99 18\n",
      "3 100 0.31950384\n",
      "3 199 41\n",
      "3 200 2.1980448\n",
      "3 299 31\n",
      "3 300 2.1630924\n",
      "3 399 31\n",
      "3 400 0.9037249\n",
      "3 499 82\n",
      "3 500 0.985262\n",
      "3 599 42\n",
      "3 600 0.9837992\n",
      "3 699 32\n",
      "3 700 0.14244045\n",
      "3 799 18\n",
      "3 800 0.3171933\n",
      "3 899 15\n",
      "3 900 0.43045956\n",
      "3 999 12\n"
     ]
    },
    {
     "name": "stderr",
     "output_type": "stream",
     "text": [
      "100%|██████████| 5668/5668 [02:43<00:00, 34.73it/s]\n"
     ]
    },
    {
     "name": "stdout",
     "output_type": "stream",
     "text": [
      "3 999 0.5984474241354976 2276\n",
      "3 1000 0.25907588\n",
      "3 1099 7\n",
      "3 1100 0.8069564\n",
      "3 1199 8\n",
      "3 1200 0.06784931\n",
      "3 1299 9\n",
      "3 1300 0.015485441\n",
      "3 1399 8\n",
      "3 1400 0.045774408\n",
      "3 1499 13\n",
      "3 1500 0.28750274\n",
      "3 1599 8\n",
      "3 1600 0.11569345\n",
      "3 1699 3\n",
      "3 1700 0.075682566\n",
      "3 1799 9\n",
      "3 1800 0.08297684\n",
      "3 1899 11\n",
      "3 1900 0.4398191\n",
      "3 1999 7\n"
     ]
    },
    {
     "name": "stderr",
     "output_type": "stream",
     "text": [
      "100%|██████████| 5668/5668 [02:43<00:00, 34.62it/s]\n"
     ]
    },
    {
     "name": "stdout",
     "output_type": "stream",
     "text": [
      "3 1999 0.6044460127028934 2242\n",
      "3 2000 0.112415776\n",
      "3 2099 14\n",
      "3 2100 0.7114613\n",
      "3 2199 7\n",
      "3 2200 0.072063126\n",
      "3 2299 19\n",
      "3 2300 1.7817461\n",
      "3 2399 16\n",
      "3 2400 0.27942163\n",
      "3 2499 14\n",
      "3 2500 0.0912195\n",
      "3 2599 12\n",
      "3 2600 0.51357615\n",
      "3 2699 11\n",
      "3 2700 4.8752246\n",
      "3 2799 16\n",
      "3 2800 0.033846274\n",
      "3 2899 9\n",
      "3 2900 1.0615565\n",
      "3 2999 15\n"
     ]
    },
    {
     "name": "stderr",
     "output_type": "stream",
     "text": [
      "100%|██████████| 5668/5668 [02:43<00:00, 34.72it/s]\n"
     ]
    },
    {
     "name": "stdout",
     "output_type": "stream",
     "text": [
      "3 2999 0.6547282992237121 1957\n",
      "3 3000 0.21489385\n",
      "4 0 0.029362269\n",
      "4 99 6\n",
      "4 100 0.06250813\n",
      "4 199 10\n",
      "4 200 0.048340037\n",
      "4 299 11\n",
      "4 300 0.25580907\n",
      "4 399 21\n",
      "4 400 0.503122\n",
      "4 499 70\n",
      "4 500 1.0480794\n",
      "4 599 36\n",
      "4 600 0.3887238\n",
      "4 699 67\n",
      "4 700 1.3717974\n",
      "4 799 27\n",
      "4 800 2.0941615\n",
      "4 899 23\n",
      "4 900 0.5938817\n",
      "4 999 22\n"
     ]
    },
    {
     "name": "stderr",
     "output_type": "stream",
     "text": [
      "100%|██████████| 5668/5668 [02:43<00:00, 34.67it/s]\n"
     ]
    },
    {
     "name": "stdout",
     "output_type": "stream",
     "text": [
      "4 999 0.6674311926605505 1885\n",
      "4 1000 2.6442757\n",
      "4 1099 14\n",
      "4 1100 0.14226429\n",
      "4 1199 6\n",
      "4 1200 0.52649385\n",
      "4 1299 9\n",
      "4 1300 0.24149111\n",
      "4 1399 10\n",
      "4 1400 0.1269612\n",
      "4 1499 5\n",
      "4 1500 0.11213868\n",
      "4 1599 11\n",
      "4 1600 0.051074903\n",
      "4 1699 12\n",
      "4 1700 0.1102878\n",
      "4 1799 16\n",
      "4 1800 0.12266795\n",
      "4 1899 9\n",
      "4 1900 0.86800647\n",
      "4 1999 10\n"
     ]
    },
    {
     "name": "stderr",
     "output_type": "stream",
     "text": [
      "100%|██████████| 5668/5668 [02:44<00:00, 34.55it/s]\n"
     ]
    },
    {
     "name": "stdout",
     "output_type": "stream",
     "text": [
      "4 1999 0.6339096683133381 2075\n",
      "4 2000 0.15081117\n",
      "4 2099 18\n",
      "4 2100 0.124191396\n",
      "4 2199 22\n",
      "4 2200 6.154881\n",
      "4 2299 62\n",
      "4 2300 2.2167327\n",
      "4 2399 25\n",
      "4 2400 0.94078183\n",
      "4 2499 13\n",
      "4 2500 0.10738749\n",
      "4 2599 25\n",
      "4 2600 0.39907816\n",
      "4 2699 19\n",
      "4 2700 0.15636638\n",
      "4 2799 10\n",
      "4 2800 0.05025979\n",
      "4 2899 17\n",
      "4 2900 0.6114581\n",
      "4 2999 12\n"
     ]
    },
    {
     "name": "stderr",
     "output_type": "stream",
     "text": [
      "100%|██████████| 5668/5668 [02:44<00:00, 34.55it/s]\n"
     ]
    },
    {
     "name": "stdout",
     "output_type": "stream",
     "text": [
      "4 2999 0.629498941425547 2100\n",
      "4 3000 0.10164178\n"
     ]
    }
   ],
   "source": [
    "for epoch in range(epochs):\n",
    "    shuffled_idx = np.random.permutation(len(train_set))\n",
    "    for batch_i in range(len(train_set)//batch_size + 1):\n",
    "        if batch_i % 100 == 0:\n",
    "            last_100_losses = []\n",
    "            last_100_error_count = 0\n",
    "        idx = shuffled_idx[batch_i*batch_size:(batch_i+1)*batch_size]\n",
    "        \n",
    "        left_imgs = torch.zeros((batch_size, 3, 224, 224))\n",
    "        right_imgs = torch.zeros((batch_size, 3, 224, 224))\n",
    "        left_patterns = torch.zeros((batch_size, 3, 224, 224))\n",
    "        right_patterns = torch.zeros((batch_size, 3, 224, 224))\n",
    "        targets = []\n",
    "        for i in range(len(idx)):\n",
    "            index = idx[i]\n",
    "            left_imgs[i] = images[train_set[index][0]][0]\n",
    "            right_imgs[i] = images[train_set[index][1]][0]\n",
    "            targets.append(train_set[index][2])\n",
    "            left_patterns[i] = patterns[train_set[index][0]][0]\n",
    "            right_patterns[i] = patterns[train_set[index][1]][0]\n",
    "        \n",
    "        targets = torch.tensor(targets).cuda().float()\n",
    "        \n",
    "        out1 = prefnet(left_imgs.cuda().float(), left_patterns.cuda().float())\n",
    "        out2 = prefnet(right_imgs.cuda().float(), right_patterns.cuda().float())\n",
    "\n",
    "        \n",
    "        pref_optimizer.zero_grad()   \n",
    "        \n",
    "        for i in range(len(targets)):\n",
    "            if out1[i] > out2[i] and targets[i] == 1:\n",
    "                last_100_error_count += 1\n",
    "\n",
    "            elif out1[i] < out2[i] and targets[i] == -1:\n",
    "                last_100_error_count += 1\n",
    "                \n",
    "        loss = paired_cross_entropy_loss(out1, out2, targets)\n",
    "        \n",
    "        loss.backward()\n",
    "        pref_optimizer.step()   \n",
    "        \n",
    "        last_100_losses.append(loss.data.cpu().numpy()[0])\n",
    "        \n",
    "        if batch_i % 100 == 0:\n",
    "            print(epoch, batch_i, np.sum(last_100_losses))\n",
    "        if batch_i % 100 == 99:\n",
    "            print(epoch, batch_i, last_100_error_count)\n",
    "        if batch_i % 1000 == 999:\n",
    "            test_acc, test_error_count = test_reward_model(prefnet, test_set, images, patterns)\n",
    "            print(epoch, batch_i, test_acc, test_error_count)"
   ]
  },
  {
   "cell_type": "code",
   "execution_count": 104,
   "id": "b38db82b-b474-4a11-b8ef-666e667d0b0d",
   "metadata": {},
   "outputs": [
    {
     "data": {
      "text/plain": [
       "torch.Size([3])"
      ]
     },
     "execution_count": 104,
     "metadata": {},
     "output_type": "execute_result"
    }
   ],
   "source": [
    "targets.shape"
   ]
  },
  {
   "cell_type": "code",
   "execution_count": 190,
   "id": "59b51726-b9ee-4adb-92bc-4d799f48cc4e",
   "metadata": {},
   "outputs": [],
   "source": [
    "class PrefNet(nn.Module):\n",
    "\n",
    "    def __init__(self, features, img_size, prototype_shape,\n",
    "                 proto_layer_rf_info, num_classes, init_weights=True,\n",
    "                 prototype_activation_function='log',\n",
    "                 add_on_layers_type='bottleneck', \n",
    "                k = 3):\n",
    "\n",
    "        super(PrefNet, self).__init__()\n",
    "        self.img_size = img_size\n",
    "        self.prototype_shape = prototype_shape\n",
    "        self.num_prototypes = prototype_shape[0]\n",
    "        self.num_classes = num_classes\n",
    "        self.epsilon = 1e-4\n",
    "        self.k = k\n",
    "        \n",
    "        # this has to be named features to allow the precise loading\n",
    "        self.features = features\n",
    "\n",
    "        features_name = str(self.features).upper()\n",
    "        if features_name.startswith('VGG') or features_name.startswith('RES'):\n",
    "            first_add_on_layer_in_channels = \\\n",
    "                [i for i in features.modules() if isinstance(i, nn.Conv2d)][-1].out_channels\n",
    "        elif features_name.startswith('DENSE'):\n",
    "            first_add_on_layer_in_channels = \\\n",
    "                [i for i in features.modules() if isinstance(i, nn.BatchNorm2d)][-1].num_features\n",
    "        else:\n",
    "            raise Exception('other base base_architecture NOT implemented')\n",
    "\n",
    "        if add_on_layers_type == 'bottleneck':\n",
    "            add_on_layers = []\n",
    "            current_in_channels = first_add_on_layer_in_channels\n",
    "            while (current_in_channels > self.prototype_shape[1]) or (len(add_on_layers) == 0):\n",
    "                current_out_channels = max(self.prototype_shape[1], (current_in_channels // 2))\n",
    "                add_on_layers.append(nn.Conv2d(in_channels=current_in_channels,\n",
    "                                               out_channels=current_out_channels,\n",
    "                                               kernel_size=1))\n",
    "                add_on_layers.append(nn.ReLU())\n",
    "                add_on_layers.append(nn.Conv2d(in_channels=current_out_channels,\n",
    "                                               out_channels=current_out_channels,\n",
    "                                               kernel_size=1))\n",
    "                if current_out_channels > self.prototype_shape[1]:\n",
    "                    add_on_layers.append(nn.ReLU())\n",
    "                else:\n",
    "                    assert(current_out_channels == self.prototype_shape[1])\n",
    "                    add_on_layers.append(nn.Sigmoid())\n",
    "                current_in_channels = current_in_channels // 2\n",
    "            self.add_on_layers = nn.Sequential(*add_on_layers)\n",
    "        else:\n",
    "            self.add_on_layers = nn.Sequential(\n",
    "                nn.Conv2d(in_channels=first_add_on_layer_in_channels, out_channels=self.prototype_shape[1], kernel_size=1),\n",
    "                nn.ReLU(),\n",
    "                nn.Conv2d(in_channels=self.prototype_shape[1], out_channels=self.prototype_shape[1], kernel_size=1),\n",
    "                nn.Sigmoid()\n",
    "                )\n",
    "        \n",
    "#         self.prototype_vectors = nn.Parameter(torch.rand(self.prototype_shape),\n",
    "#                                               requires_grad=True)\n",
    "\n",
    "#         # do not make this just a tensor,\n",
    "#         # since it will not be moved automatically to gpu\n",
    "#         self.ones = nn.Parameter(torch.ones(self.prototype_shape),\n",
    "#                                  requires_grad=False)\n",
    "\n",
    "#         self.last_layer = nn.Linear(self.num_prototypes, self.num_classes,\n",
    "#                                     bias=False) # do not use bias\n",
    "\n",
    "\n",
    "        self.img_conv = nn.Sequential(\n",
    "            nn.Conv2d(in_channels=512, out_channels=128, kernel_size=1),\n",
    "            nn.ReLU(),\n",
    "            nn.Conv2d(in_channels=128, out_channels=128, kernel_size=3),\n",
    "            nn.Sigmoid()\n",
    "            )\n",
    "        \n",
    "        self.pattern_conv = nn.Sequential(\n",
    "            nn.Conv2d(in_channels=512, out_channels=128, kernel_size=1),\n",
    "            nn.ReLU(),\n",
    "            nn.Conv2d(in_channels=128, out_channels=128, kernel_size=3),\n",
    "            nn.Sigmoid()\n",
    "            )\n",
    "        \n",
    "        self.fc1 = nn.Linear(6400, 512)\n",
    "        self.fc2 = nn.Linear(512, 32)\n",
    "        self.fc3 = nn.Linear(32, 1)\n",
    "\n",
    "        if init_weights:\n",
    "            self._initialize_weights()\n",
    "            \n",
    "            \n",
    "    def conv_features(self, x):\n",
    "        '''\n",
    "        the feature input to prototype layer\n",
    "        '''\n",
    "        # Insert k and then img size\n",
    "        x = self.features(x)\n",
    "        x = self.add_on_layers(x)\n",
    "        return x\n",
    "    \n",
    "    def forward(self, x, p):\n",
    "        # (N, 512, 7, 7)\n",
    "        x = self.conv_features(x)\n",
    "        x = self.img_conv(x)\n",
    "        #print(\"img_conv out shape: \", x.shape)\n",
    "        \n",
    "        p = self.conv_features(p)\n",
    "        p = self.pattern_conv(p)\n",
    "        #print(\"pattern_conv out shape: \", p.shape)\n",
    "        \n",
    "        out = torch.cat((x, p), dim=1)\n",
    "        #print(\"cat out shape: \", out.shape)\n",
    "        out = torch.flatten(out, 1) # flatten all dimensions except batch\n",
    "        #print(\"flatten out shape: \", out.shape)\n",
    "        \n",
    "       \n",
    "        out = torch.sigmoid(self.fc1(out))\n",
    "        out = torch.sigmoid(self.fc2(out))\n",
    "        out = self.fc3(out)\n",
    "        return out\n",
    "\n",
    "    \n",
    "    def _initialize_weights(self):\n",
    "        for m in self.add_on_layers.modules():\n",
    "            if isinstance(m, nn.Conv2d):\n",
    "                # every init technique has an underscore _ in the name\n",
    "                nn.init.kaiming_normal_(m.weight, mode='fan_out', nonlinearity='relu')\n",
    "\n",
    "                if m.bias is not None:\n",
    "                    nn.init.constant_(m.bias, 0)\n",
    "\n",
    "            elif isinstance(m, nn.BatchNorm2d):\n",
    "                nn.init.constant_(m.weight, 1)\n",
    "                nn.init.constant_(m.bias, 0)\n",
    "\n",
    "\n",
    "\n",
    "\n",
    "            \n",
    "def construct_PrefNet(base_architecture, pretrained=True, img_size=224,\n",
    "                    prototype_shape=(2000, 512, 1, 1), num_classes=200,\n",
    "                    prototype_activation_function='log',\n",
    "                    add_on_layers_type='bottleneck',\n",
    "                    k = 3):\n",
    "    features = base_architecture_to_features[base_architecture](pretrained=pretrained)\n",
    "    layer_filter_sizes, layer_strides, layer_paddings = features.conv_info()\n",
    "    proto_layer_rf_info = compute_proto_layer_rf_info_v2(img_size=img_size,\n",
    "                                                         layer_filter_sizes=layer_filter_sizes,\n",
    "                                                         layer_strides=layer_strides,\n",
    "                                                         layer_paddings=layer_paddings,\n",
    "                                                         prototype_kernel_size=prototype_shape[2])\n",
    "    return PrefNet(features=features,\n",
    "                 img_size=img_size,\n",
    "                 prototype_shape=prototype_shape,\n",
    "                 proto_layer_rf_info=proto_layer_rf_info,\n",
    "                 num_classes=num_classes,\n",
    "                 init_weights=True,\n",
    "                 prototype_activation_function=prototype_activation_function,\n",
    "                 add_on_layers_type=add_on_layers_type,\n",
    "                 k = k)\n",
    "\n",
    "\n",
    "def paired_cross_entropy_loss(out1, out2, target):\n",
    "    if target == -1:\n",
    "        p1 = torch.exp(out1)/(torch.exp(out1) + torch.exp(out2))\n",
    "        loss = - torch.log(p1)\n",
    "    elif target == 1:\n",
    "        p2 = torch.exp(out2)/(torch.exp(out1) + torch.exp(out2))\n",
    "        loss = - torch.log(p2)\n",
    "        \n",
    "    else:\n",
    "        p1 = torch.exp(out1)/(torch.exp(out1) + torch.exp(out2))\n",
    "        p2 = torch.exp(out2)/(torch.exp(out1) + torch.exp(out2))\n",
    "        \n",
    "        loss = - (0.5*torch.log(p1) + 0.5*torch.log(p2))\n",
    "        \n",
    "    return loss"
   ]
  },
  {
   "cell_type": "code",
   "execution_count": 191,
   "id": "49c1ce3d-048d-4367-a947-76ab715c655e",
   "metadata": {},
   "outputs": [],
   "source": [
    "prefnet = torch.load('./human_comparisons/pref_model_500rating_split0.7_acc0.82.pth')"
   ]
  },
  {
   "cell_type": "code",
   "execution_count": 192,
   "id": "41806b60-cc3d-47e1-b42e-dfd512fe9027",
   "metadata": {},
   "outputs": [
    {
     "name": "stderr",
     "output_type": "stream",
     "text": [
      "100%|██████████| 13831/13831 [03:06<00:00, 74.16it/s]"
     ]
    },
    {
     "name": "stdout",
     "output_type": "stream",
     "text": [
      "0.5836165136288048 5759\n"
     ]
    },
    {
     "name": "stderr",
     "output_type": "stream",
     "text": [
      "\n"
     ]
    }
   ],
   "source": [
    "'''\n",
    "Testing reward model\n",
    "'''\n",
    "acc = []\n",
    "#error_images = []\n",
    "error_count = 0\n",
    "for i in tqdm(range(len(test_set))):\n",
    "    left_idx, right_idx, target = test_set[i]\n",
    "    left_img, right_img = images[left_idx], images[right_idx]\n",
    "    left_pattern, right_pattern = patterns[left_idx], patterns[right_idx]\n",
    "    target = torch.tensor(target).cuda().float()\n",
    "\n",
    "    out1 = prefnet(left_img.cuda().float(), left_pattern.cuda().float())\n",
    "    out2 = prefnet(right_img.cuda().float(), right_pattern.cuda().float())\n",
    "    #print(out1)\n",
    "    #print(out2)\n",
    "    \n",
    "    \n",
    "    if out1 > out2:\n",
    "        y_pred = -1\n",
    "        \n",
    "    else:\n",
    "        y_pred = 1\n",
    "    \n",
    "    #print(y_pred)\n",
    "    #print(\"\")\n",
    "    if y_pred == target:\n",
    "        acc.append(1)\n",
    "    else:\n",
    "        #error_images.append((i, y_pred, target))\n",
    "        error_count += 1\n",
    "        acc.append(0)\n",
    "    #print(out1, out2, target)\n",
    "        \n",
    "print(np.mean(acc), error_count)"
   ]
  },
  {
   "cell_type": "code",
   "execution_count": 212,
   "id": "9d0aa508-1489-47c6-9f1c-85d979a0ddcf",
   "metadata": {},
   "outputs": [],
   "source": [
    "torch.save(prefnet, './human_comparisons/pref_model_700_random_rating_split0.7_acc.pth')"
   ]
  },
  {
   "cell_type": "code",
   "execution_count": null,
   "id": "8edcc0bd-3c16-4279-8032-5f5c4a1b724d",
   "metadata": {},
   "outputs": [],
   "source": []
  }
 ],
 "metadata": {
  "kernelspec": {
   "display_name": "Python 3 (ipykernel)",
   "language": "python",
   "name": "python3"
  },
  "language_info": {
   "codemirror_mode": {
    "name": "ipython",
    "version": 3
   },
   "file_extension": ".py",
   "mimetype": "text/x-python",
   "name": "python",
   "nbconvert_exporter": "python",
   "pygments_lexer": "ipython3",
   "version": "3.11.0"
  }
 },
 "nbformat": 4,
 "nbformat_minor": 5
}
